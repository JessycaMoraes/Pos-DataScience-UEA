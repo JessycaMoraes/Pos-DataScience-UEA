{
  "nbformat": 4,
  "nbformat_minor": 0,
  "metadata": {
    "colab": {
      "provenance": []
    },
    "kernelspec": {
      "name": "python3",
      "display_name": "Python 3"
    }
  },
  "cells": [
    {
      "cell_type": "code",
      "metadata": {
        "id": "DZjFZFDqrGSg"
      },
      "source": [
        "import pandas as pd\n",
        "import numpy as np\n",
        "import matplotlib.pyplot as plt\n",
        "from sklearn.feature_selection import *"
      ],
      "execution_count": null,
      "outputs": []
    },
    {
      "cell_type": "code",
      "metadata": {
        "id": "c7Dy_IlVqFEl",
        "colab": {
          "base_uri": "https://localhost:8080/"
        },
        "outputId": "cee2617d-5325-4b2f-b55c-bdbf62d368cc"
      },
      "source": [
        "from google.colab import drive\n",
        "drive.mount('/content/drive')"
      ],
      "execution_count": null,
      "outputs": [
        {
          "output_type": "stream",
          "text": [
            "Drive already mounted at /content/drive; to attempt to forcibly remount, call drive.mount(\"/content/drive\", force_remount=True).\n"
          ],
          "name": "stdout"
        }
      ]
    },
    {
      "cell_type": "markdown",
      "metadata": {
        "id": "5UGjO6awHjWZ"
      },
      "source": [
        "### 1. Using the kc_house_data.csv dataset"
      ]
    },
    {
      "cell_type": "code",
      "metadata": {
        "id": "-tdpCWrKrDHl",
        "colab": {
          "base_uri": "https://localhost:8080/",
          "height": 439
        },
        "outputId": "06996e8c-e5c1-4022-9c8d-5883a3f639e1"
      },
      "source": [
        "df_original = pd.read_csv('/content/drive/Shareddrives/modulo4/Tarefa 4: Discretização/kc_house_data.csv')\n",
        "df_original"
      ],
      "execution_count": null,
      "outputs": [
        {
          "output_type": "execute_result",
          "data": {
            "text/html": [
              "<div>\n",
              "<style scoped>\n",
              "    .dataframe tbody tr th:only-of-type {\n",
              "        vertical-align: middle;\n",
              "    }\n",
              "\n",
              "    .dataframe tbody tr th {\n",
              "        vertical-align: top;\n",
              "    }\n",
              "\n",
              "    .dataframe thead th {\n",
              "        text-align: right;\n",
              "    }\n",
              "</style>\n",
              "<table border=\"1\" class=\"dataframe\">\n",
              "  <thead>\n",
              "    <tr style=\"text-align: right;\">\n",
              "      <th></th>\n",
              "      <th>id</th>\n",
              "      <th>date</th>\n",
              "      <th>price</th>\n",
              "      <th>bedrooms</th>\n",
              "      <th>bathrooms</th>\n",
              "      <th>sqft_living</th>\n",
              "      <th>sqft_lot</th>\n",
              "      <th>floors</th>\n",
              "      <th>waterfront</th>\n",
              "      <th>view</th>\n",
              "      <th>condition</th>\n",
              "      <th>grade</th>\n",
              "      <th>sqft_above</th>\n",
              "      <th>sqft_basement</th>\n",
              "      <th>yr_built</th>\n",
              "      <th>yr_renovated</th>\n",
              "      <th>zipcode</th>\n",
              "      <th>lat</th>\n",
              "      <th>long</th>\n",
              "      <th>sqft_living15</th>\n",
              "      <th>sqft_lot15</th>\n",
              "    </tr>\n",
              "  </thead>\n",
              "  <tbody>\n",
              "    <tr>\n",
              "      <th>0</th>\n",
              "      <td>7129300520</td>\n",
              "      <td>20141013T000000</td>\n",
              "      <td>221900.0</td>\n",
              "      <td>3</td>\n",
              "      <td>1.00</td>\n",
              "      <td>1180</td>\n",
              "      <td>5650</td>\n",
              "      <td>1.0</td>\n",
              "      <td>0</td>\n",
              "      <td>0</td>\n",
              "      <td>3</td>\n",
              "      <td>7</td>\n",
              "      <td>1180</td>\n",
              "      <td>0</td>\n",
              "      <td>1955</td>\n",
              "      <td>0</td>\n",
              "      <td>98178</td>\n",
              "      <td>47.5112</td>\n",
              "      <td>-122.257</td>\n",
              "      <td>1340</td>\n",
              "      <td>5650</td>\n",
              "    </tr>\n",
              "    <tr>\n",
              "      <th>1</th>\n",
              "      <td>6414100192</td>\n",
              "      <td>20141209T000000</td>\n",
              "      <td>538000.0</td>\n",
              "      <td>3</td>\n",
              "      <td>2.25</td>\n",
              "      <td>2570</td>\n",
              "      <td>7242</td>\n",
              "      <td>2.0</td>\n",
              "      <td>0</td>\n",
              "      <td>0</td>\n",
              "      <td>3</td>\n",
              "      <td>7</td>\n",
              "      <td>2170</td>\n",
              "      <td>400</td>\n",
              "      <td>1951</td>\n",
              "      <td>1991</td>\n",
              "      <td>98125</td>\n",
              "      <td>47.7210</td>\n",
              "      <td>-122.319</td>\n",
              "      <td>1690</td>\n",
              "      <td>7639</td>\n",
              "    </tr>\n",
              "    <tr>\n",
              "      <th>2</th>\n",
              "      <td>5631500400</td>\n",
              "      <td>20150225T000000</td>\n",
              "      <td>180000.0</td>\n",
              "      <td>2</td>\n",
              "      <td>1.00</td>\n",
              "      <td>770</td>\n",
              "      <td>10000</td>\n",
              "      <td>1.0</td>\n",
              "      <td>0</td>\n",
              "      <td>0</td>\n",
              "      <td>3</td>\n",
              "      <td>6</td>\n",
              "      <td>770</td>\n",
              "      <td>0</td>\n",
              "      <td>1933</td>\n",
              "      <td>0</td>\n",
              "      <td>98028</td>\n",
              "      <td>47.7379</td>\n",
              "      <td>-122.233</td>\n",
              "      <td>2720</td>\n",
              "      <td>8062</td>\n",
              "    </tr>\n",
              "    <tr>\n",
              "      <th>3</th>\n",
              "      <td>2487200875</td>\n",
              "      <td>20141209T000000</td>\n",
              "      <td>604000.0</td>\n",
              "      <td>4</td>\n",
              "      <td>3.00</td>\n",
              "      <td>1960</td>\n",
              "      <td>5000</td>\n",
              "      <td>1.0</td>\n",
              "      <td>0</td>\n",
              "      <td>0</td>\n",
              "      <td>5</td>\n",
              "      <td>7</td>\n",
              "      <td>1050</td>\n",
              "      <td>910</td>\n",
              "      <td>1965</td>\n",
              "      <td>0</td>\n",
              "      <td>98136</td>\n",
              "      <td>47.5208</td>\n",
              "      <td>-122.393</td>\n",
              "      <td>1360</td>\n",
              "      <td>5000</td>\n",
              "    </tr>\n",
              "    <tr>\n",
              "      <th>4</th>\n",
              "      <td>1954400510</td>\n",
              "      <td>20150218T000000</td>\n",
              "      <td>510000.0</td>\n",
              "      <td>3</td>\n",
              "      <td>2.00</td>\n",
              "      <td>1680</td>\n",
              "      <td>8080</td>\n",
              "      <td>1.0</td>\n",
              "      <td>0</td>\n",
              "      <td>0</td>\n",
              "      <td>3</td>\n",
              "      <td>8</td>\n",
              "      <td>1680</td>\n",
              "      <td>0</td>\n",
              "      <td>1987</td>\n",
              "      <td>0</td>\n",
              "      <td>98074</td>\n",
              "      <td>47.6168</td>\n",
              "      <td>-122.045</td>\n",
              "      <td>1800</td>\n",
              "      <td>7503</td>\n",
              "    </tr>\n",
              "    <tr>\n",
              "      <th>...</th>\n",
              "      <td>...</td>\n",
              "      <td>...</td>\n",
              "      <td>...</td>\n",
              "      <td>...</td>\n",
              "      <td>...</td>\n",
              "      <td>...</td>\n",
              "      <td>...</td>\n",
              "      <td>...</td>\n",
              "      <td>...</td>\n",
              "      <td>...</td>\n",
              "      <td>...</td>\n",
              "      <td>...</td>\n",
              "      <td>...</td>\n",
              "      <td>...</td>\n",
              "      <td>...</td>\n",
              "      <td>...</td>\n",
              "      <td>...</td>\n",
              "      <td>...</td>\n",
              "      <td>...</td>\n",
              "      <td>...</td>\n",
              "      <td>...</td>\n",
              "    </tr>\n",
              "    <tr>\n",
              "      <th>21608</th>\n",
              "      <td>263000018</td>\n",
              "      <td>20140521T000000</td>\n",
              "      <td>360000.0</td>\n",
              "      <td>3</td>\n",
              "      <td>2.50</td>\n",
              "      <td>1530</td>\n",
              "      <td>1131</td>\n",
              "      <td>3.0</td>\n",
              "      <td>0</td>\n",
              "      <td>0</td>\n",
              "      <td>3</td>\n",
              "      <td>8</td>\n",
              "      <td>1530</td>\n",
              "      <td>0</td>\n",
              "      <td>2009</td>\n",
              "      <td>0</td>\n",
              "      <td>98103</td>\n",
              "      <td>47.6993</td>\n",
              "      <td>-122.346</td>\n",
              "      <td>1530</td>\n",
              "      <td>1509</td>\n",
              "    </tr>\n",
              "    <tr>\n",
              "      <th>21609</th>\n",
              "      <td>6600060120</td>\n",
              "      <td>20150223T000000</td>\n",
              "      <td>400000.0</td>\n",
              "      <td>4</td>\n",
              "      <td>2.50</td>\n",
              "      <td>2310</td>\n",
              "      <td>5813</td>\n",
              "      <td>2.0</td>\n",
              "      <td>0</td>\n",
              "      <td>0</td>\n",
              "      <td>3</td>\n",
              "      <td>8</td>\n",
              "      <td>2310</td>\n",
              "      <td>0</td>\n",
              "      <td>2014</td>\n",
              "      <td>0</td>\n",
              "      <td>98146</td>\n",
              "      <td>47.5107</td>\n",
              "      <td>-122.362</td>\n",
              "      <td>1830</td>\n",
              "      <td>7200</td>\n",
              "    </tr>\n",
              "    <tr>\n",
              "      <th>21610</th>\n",
              "      <td>1523300141</td>\n",
              "      <td>20140623T000000</td>\n",
              "      <td>402101.0</td>\n",
              "      <td>2</td>\n",
              "      <td>0.75</td>\n",
              "      <td>1020</td>\n",
              "      <td>1350</td>\n",
              "      <td>2.0</td>\n",
              "      <td>0</td>\n",
              "      <td>0</td>\n",
              "      <td>3</td>\n",
              "      <td>7</td>\n",
              "      <td>1020</td>\n",
              "      <td>0</td>\n",
              "      <td>2009</td>\n",
              "      <td>0</td>\n",
              "      <td>98144</td>\n",
              "      <td>47.5944</td>\n",
              "      <td>-122.299</td>\n",
              "      <td>1020</td>\n",
              "      <td>2007</td>\n",
              "    </tr>\n",
              "    <tr>\n",
              "      <th>21611</th>\n",
              "      <td>291310100</td>\n",
              "      <td>20150116T000000</td>\n",
              "      <td>400000.0</td>\n",
              "      <td>3</td>\n",
              "      <td>2.50</td>\n",
              "      <td>1600</td>\n",
              "      <td>2388</td>\n",
              "      <td>2.0</td>\n",
              "      <td>0</td>\n",
              "      <td>0</td>\n",
              "      <td>3</td>\n",
              "      <td>8</td>\n",
              "      <td>1600</td>\n",
              "      <td>0</td>\n",
              "      <td>2004</td>\n",
              "      <td>0</td>\n",
              "      <td>98027</td>\n",
              "      <td>47.5345</td>\n",
              "      <td>-122.069</td>\n",
              "      <td>1410</td>\n",
              "      <td>1287</td>\n",
              "    </tr>\n",
              "    <tr>\n",
              "      <th>21612</th>\n",
              "      <td>1523300157</td>\n",
              "      <td>20141015T000000</td>\n",
              "      <td>325000.0</td>\n",
              "      <td>2</td>\n",
              "      <td>0.75</td>\n",
              "      <td>1020</td>\n",
              "      <td>1076</td>\n",
              "      <td>2.0</td>\n",
              "      <td>0</td>\n",
              "      <td>0</td>\n",
              "      <td>3</td>\n",
              "      <td>7</td>\n",
              "      <td>1020</td>\n",
              "      <td>0</td>\n",
              "      <td>2008</td>\n",
              "      <td>0</td>\n",
              "      <td>98144</td>\n",
              "      <td>47.5941</td>\n",
              "      <td>-122.299</td>\n",
              "      <td>1020</td>\n",
              "      <td>1357</td>\n",
              "    </tr>\n",
              "  </tbody>\n",
              "</table>\n",
              "<p>21613 rows × 21 columns</p>\n",
              "</div>"
            ],
            "text/plain": [
              "               id             date  ...  sqft_living15  sqft_lot15\n",
              "0      7129300520  20141013T000000  ...           1340        5650\n",
              "1      6414100192  20141209T000000  ...           1690        7639\n",
              "2      5631500400  20150225T000000  ...           2720        8062\n",
              "3      2487200875  20141209T000000  ...           1360        5000\n",
              "4      1954400510  20150218T000000  ...           1800        7503\n",
              "...           ...              ...  ...            ...         ...\n",
              "21608   263000018  20140521T000000  ...           1530        1509\n",
              "21609  6600060120  20150223T000000  ...           1830        7200\n",
              "21610  1523300141  20140623T000000  ...           1020        2007\n",
              "21611   291310100  20150116T000000  ...           1410        1287\n",
              "21612  1523300157  20141015T000000  ...           1020        1357\n",
              "\n",
              "[21613 rows x 21 columns]"
            ]
          },
          "metadata": {
            "tags": []
          },
          "execution_count": 8
        }
      ]
    },
    {
      "cell_type": "markdown",
      "metadata": {
        "id": "ui5D2C2nFsJs"
      },
      "source": [
        "### 2. Delete attributes. Maintain the price, yr_built, yr_renovated, sqft_living, sqft_lot, sqft_lot15 columns"
      ]
    },
    {
      "cell_type": "code",
      "metadata": {
        "colab": {
          "base_uri": "https://localhost:8080/",
          "height": 204
        },
        "id": "9duUAElusGXx",
        "outputId": "553274c1-8964-495b-e9ca-77599e77bae0"
      },
      "source": [
        "df = df_original[['price', 'yr_built', 'yr_renovated','sqft_living', 'sqft_lot', 'sqft_lot15', 'condition']].copy()\n",
        "df.head()"
      ],
      "execution_count": null,
      "outputs": [
        {
          "output_type": "execute_result",
          "data": {
            "text/html": [
              "<div>\n",
              "<style scoped>\n",
              "    .dataframe tbody tr th:only-of-type {\n",
              "        vertical-align: middle;\n",
              "    }\n",
              "\n",
              "    .dataframe tbody tr th {\n",
              "        vertical-align: top;\n",
              "    }\n",
              "\n",
              "    .dataframe thead th {\n",
              "        text-align: right;\n",
              "    }\n",
              "</style>\n",
              "<table border=\"1\" class=\"dataframe\">\n",
              "  <thead>\n",
              "    <tr style=\"text-align: right;\">\n",
              "      <th></th>\n",
              "      <th>price</th>\n",
              "      <th>yr_built</th>\n",
              "      <th>yr_renovated</th>\n",
              "      <th>sqft_living</th>\n",
              "      <th>sqft_lot</th>\n",
              "      <th>sqft_lot15</th>\n",
              "      <th>condition</th>\n",
              "    </tr>\n",
              "  </thead>\n",
              "  <tbody>\n",
              "    <tr>\n",
              "      <th>0</th>\n",
              "      <td>221900.0</td>\n",
              "      <td>1955</td>\n",
              "      <td>0</td>\n",
              "      <td>1180</td>\n",
              "      <td>5650</td>\n",
              "      <td>5650</td>\n",
              "      <td>3</td>\n",
              "    </tr>\n",
              "    <tr>\n",
              "      <th>1</th>\n",
              "      <td>538000.0</td>\n",
              "      <td>1951</td>\n",
              "      <td>1991</td>\n",
              "      <td>2570</td>\n",
              "      <td>7242</td>\n",
              "      <td>7639</td>\n",
              "      <td>3</td>\n",
              "    </tr>\n",
              "    <tr>\n",
              "      <th>2</th>\n",
              "      <td>180000.0</td>\n",
              "      <td>1933</td>\n",
              "      <td>0</td>\n",
              "      <td>770</td>\n",
              "      <td>10000</td>\n",
              "      <td>8062</td>\n",
              "      <td>3</td>\n",
              "    </tr>\n",
              "    <tr>\n",
              "      <th>3</th>\n",
              "      <td>604000.0</td>\n",
              "      <td>1965</td>\n",
              "      <td>0</td>\n",
              "      <td>1960</td>\n",
              "      <td>5000</td>\n",
              "      <td>5000</td>\n",
              "      <td>5</td>\n",
              "    </tr>\n",
              "    <tr>\n",
              "      <th>4</th>\n",
              "      <td>510000.0</td>\n",
              "      <td>1987</td>\n",
              "      <td>0</td>\n",
              "      <td>1680</td>\n",
              "      <td>8080</td>\n",
              "      <td>7503</td>\n",
              "      <td>3</td>\n",
              "    </tr>\n",
              "  </tbody>\n",
              "</table>\n",
              "</div>"
            ],
            "text/plain": [
              "      price  yr_built  yr_renovated  ...  sqft_lot  sqft_lot15  condition\n",
              "0  221900.0      1955             0  ...      5650        5650          3\n",
              "1  538000.0      1951          1991  ...      7242        7639          3\n",
              "2  180000.0      1933             0  ...     10000        8062          3\n",
              "3  604000.0      1965             0  ...      5000        5000          5\n",
              "4  510000.0      1987             0  ...      8080        7503          3\n",
              "\n",
              "[5 rows x 7 columns]"
            ]
          },
          "metadata": {
            "tags": []
          },
          "execution_count": 9
        }
      ]
    },
    {
      "cell_type": "markdown",
      "metadata": {
        "id": "bdvogtr4E7xL"
      },
      "source": [
        "### 3. Use the “condition” attribute as a class\n",
        "\n",
        "### 4. Discretize the “condition” attribute. Bad condition (value 0) between 1 and 3, good condition greater than 3 (value 1).\n"
      ]
    },
    {
      "cell_type": "code",
      "metadata": {
        "id": "YcIKTH9FsbYy"
      },
      "source": [
        "def classe_condition(variavel):\n",
        "  if (variavel >= 1 and variavel <= 3):\n",
        "    return 0\n",
        "  else:\n",
        "    return 1"
      ],
      "execution_count": null,
      "outputs": []
    },
    {
      "cell_type": "code",
      "metadata": {
        "id": "Zq0_Y-p0tX3B",
        "colab": {
          "base_uri": "https://localhost:8080/",
          "height": 419
        },
        "outputId": "1c270b32-00a9-490f-f3d1-9e7d265eff22"
      },
      "source": [
        "df['condition'] = pd.to_numeric(df['condition'], errors = 'coerce')\n",
        "df['classe_condition'] = df['condition'].apply(classe_condition)\n",
        "df"
      ],
      "execution_count": null,
      "outputs": [
        {
          "output_type": "execute_result",
          "data": {
            "text/html": [
              "<div>\n",
              "<style scoped>\n",
              "    .dataframe tbody tr th:only-of-type {\n",
              "        vertical-align: middle;\n",
              "    }\n",
              "\n",
              "    .dataframe tbody tr th {\n",
              "        vertical-align: top;\n",
              "    }\n",
              "\n",
              "    .dataframe thead th {\n",
              "        text-align: right;\n",
              "    }\n",
              "</style>\n",
              "<table border=\"1\" class=\"dataframe\">\n",
              "  <thead>\n",
              "    <tr style=\"text-align: right;\">\n",
              "      <th></th>\n",
              "      <th>price</th>\n",
              "      <th>yr_built</th>\n",
              "      <th>yr_renovated</th>\n",
              "      <th>sqft_living</th>\n",
              "      <th>sqft_lot</th>\n",
              "      <th>sqft_lot15</th>\n",
              "      <th>condition</th>\n",
              "      <th>classe_condition</th>\n",
              "    </tr>\n",
              "  </thead>\n",
              "  <tbody>\n",
              "    <tr>\n",
              "      <th>0</th>\n",
              "      <td>221900.0</td>\n",
              "      <td>1955</td>\n",
              "      <td>0</td>\n",
              "      <td>1180</td>\n",
              "      <td>5650</td>\n",
              "      <td>5650</td>\n",
              "      <td>3</td>\n",
              "      <td>0</td>\n",
              "    </tr>\n",
              "    <tr>\n",
              "      <th>1</th>\n",
              "      <td>538000.0</td>\n",
              "      <td>1951</td>\n",
              "      <td>1991</td>\n",
              "      <td>2570</td>\n",
              "      <td>7242</td>\n",
              "      <td>7639</td>\n",
              "      <td>3</td>\n",
              "      <td>0</td>\n",
              "    </tr>\n",
              "    <tr>\n",
              "      <th>2</th>\n",
              "      <td>180000.0</td>\n",
              "      <td>1933</td>\n",
              "      <td>0</td>\n",
              "      <td>770</td>\n",
              "      <td>10000</td>\n",
              "      <td>8062</td>\n",
              "      <td>3</td>\n",
              "      <td>0</td>\n",
              "    </tr>\n",
              "    <tr>\n",
              "      <th>3</th>\n",
              "      <td>604000.0</td>\n",
              "      <td>1965</td>\n",
              "      <td>0</td>\n",
              "      <td>1960</td>\n",
              "      <td>5000</td>\n",
              "      <td>5000</td>\n",
              "      <td>5</td>\n",
              "      <td>1</td>\n",
              "    </tr>\n",
              "    <tr>\n",
              "      <th>4</th>\n",
              "      <td>510000.0</td>\n",
              "      <td>1987</td>\n",
              "      <td>0</td>\n",
              "      <td>1680</td>\n",
              "      <td>8080</td>\n",
              "      <td>7503</td>\n",
              "      <td>3</td>\n",
              "      <td>0</td>\n",
              "    </tr>\n",
              "    <tr>\n",
              "      <th>...</th>\n",
              "      <td>...</td>\n",
              "      <td>...</td>\n",
              "      <td>...</td>\n",
              "      <td>...</td>\n",
              "      <td>...</td>\n",
              "      <td>...</td>\n",
              "      <td>...</td>\n",
              "      <td>...</td>\n",
              "    </tr>\n",
              "    <tr>\n",
              "      <th>21608</th>\n",
              "      <td>360000.0</td>\n",
              "      <td>2009</td>\n",
              "      <td>0</td>\n",
              "      <td>1530</td>\n",
              "      <td>1131</td>\n",
              "      <td>1509</td>\n",
              "      <td>3</td>\n",
              "      <td>0</td>\n",
              "    </tr>\n",
              "    <tr>\n",
              "      <th>21609</th>\n",
              "      <td>400000.0</td>\n",
              "      <td>2014</td>\n",
              "      <td>0</td>\n",
              "      <td>2310</td>\n",
              "      <td>5813</td>\n",
              "      <td>7200</td>\n",
              "      <td>3</td>\n",
              "      <td>0</td>\n",
              "    </tr>\n",
              "    <tr>\n",
              "      <th>21610</th>\n",
              "      <td>402101.0</td>\n",
              "      <td>2009</td>\n",
              "      <td>0</td>\n",
              "      <td>1020</td>\n",
              "      <td>1350</td>\n",
              "      <td>2007</td>\n",
              "      <td>3</td>\n",
              "      <td>0</td>\n",
              "    </tr>\n",
              "    <tr>\n",
              "      <th>21611</th>\n",
              "      <td>400000.0</td>\n",
              "      <td>2004</td>\n",
              "      <td>0</td>\n",
              "      <td>1600</td>\n",
              "      <td>2388</td>\n",
              "      <td>1287</td>\n",
              "      <td>3</td>\n",
              "      <td>0</td>\n",
              "    </tr>\n",
              "    <tr>\n",
              "      <th>21612</th>\n",
              "      <td>325000.0</td>\n",
              "      <td>2008</td>\n",
              "      <td>0</td>\n",
              "      <td>1020</td>\n",
              "      <td>1076</td>\n",
              "      <td>1357</td>\n",
              "      <td>3</td>\n",
              "      <td>0</td>\n",
              "    </tr>\n",
              "  </tbody>\n",
              "</table>\n",
              "<p>21613 rows × 8 columns</p>\n",
              "</div>"
            ],
            "text/plain": [
              "          price  yr_built  ...  condition  classe_condition\n",
              "0      221900.0      1955  ...          3                 0\n",
              "1      538000.0      1951  ...          3                 0\n",
              "2      180000.0      1933  ...          3                 0\n",
              "3      604000.0      1965  ...          5                 1\n",
              "4      510000.0      1987  ...          3                 0\n",
              "...         ...       ...  ...        ...               ...\n",
              "21608  360000.0      2009  ...          3                 0\n",
              "21609  400000.0      2014  ...          3                 0\n",
              "21610  402101.0      2009  ...          3                 0\n",
              "21611  400000.0      2004  ...          3                 0\n",
              "21612  325000.0      2008  ...          3                 0\n",
              "\n",
              "[21613 rows x 8 columns]"
            ]
          },
          "metadata": {
            "tags": []
          },
          "execution_count": 11
        }
      ]
    },
    {
      "cell_type": "markdown",
      "metadata": {
        "id": "TZGRsgeWGMs4"
      },
      "source": [
        "### 5. Discretize the yr_renovated attribute (0 was not renewed, 1 was)"
      ]
    },
    {
      "cell_type": "code",
      "metadata": {
        "id": "-KtqiflqvQe9"
      },
      "source": [
        "def classe_renovated(variavel):\n",
        "  if (variavel == 0):\n",
        "    return 'nao-renovado'\n",
        "  else:\n",
        "    return 'renovado'"
      ],
      "execution_count": null,
      "outputs": []
    },
    {
      "cell_type": "code",
      "metadata": {
        "id": "sGVqc-7dxDQs",
        "colab": {
          "base_uri": "https://localhost:8080/",
          "height": 419
        },
        "outputId": "266785eb-2773-44db-bbf6-5878763ff1d6"
      },
      "source": [
        "df['yr_renovated'] = pd.to_numeric(df['yr_renovated'], errors = 'coerce')\n",
        "df['classe_renovated'] = df['yr_renovated'].apply(classe_renovated)\n",
        "df"
      ],
      "execution_count": null,
      "outputs": [
        {
          "output_type": "execute_result",
          "data": {
            "text/html": [
              "<div>\n",
              "<style scoped>\n",
              "    .dataframe tbody tr th:only-of-type {\n",
              "        vertical-align: middle;\n",
              "    }\n",
              "\n",
              "    .dataframe tbody tr th {\n",
              "        vertical-align: top;\n",
              "    }\n",
              "\n",
              "    .dataframe thead th {\n",
              "        text-align: right;\n",
              "    }\n",
              "</style>\n",
              "<table border=\"1\" class=\"dataframe\">\n",
              "  <thead>\n",
              "    <tr style=\"text-align: right;\">\n",
              "      <th></th>\n",
              "      <th>price</th>\n",
              "      <th>yr_built</th>\n",
              "      <th>yr_renovated</th>\n",
              "      <th>sqft_living</th>\n",
              "      <th>sqft_lot</th>\n",
              "      <th>sqft_lot15</th>\n",
              "      <th>condition</th>\n",
              "      <th>classe_condition</th>\n",
              "      <th>classe_renovated</th>\n",
              "    </tr>\n",
              "  </thead>\n",
              "  <tbody>\n",
              "    <tr>\n",
              "      <th>0</th>\n",
              "      <td>221900.0</td>\n",
              "      <td>1955</td>\n",
              "      <td>0</td>\n",
              "      <td>1180</td>\n",
              "      <td>5650</td>\n",
              "      <td>5650</td>\n",
              "      <td>3</td>\n",
              "      <td>0</td>\n",
              "      <td>nao-renovado</td>\n",
              "    </tr>\n",
              "    <tr>\n",
              "      <th>1</th>\n",
              "      <td>538000.0</td>\n",
              "      <td>1951</td>\n",
              "      <td>1991</td>\n",
              "      <td>2570</td>\n",
              "      <td>7242</td>\n",
              "      <td>7639</td>\n",
              "      <td>3</td>\n",
              "      <td>0</td>\n",
              "      <td>renovado</td>\n",
              "    </tr>\n",
              "    <tr>\n",
              "      <th>2</th>\n",
              "      <td>180000.0</td>\n",
              "      <td>1933</td>\n",
              "      <td>0</td>\n",
              "      <td>770</td>\n",
              "      <td>10000</td>\n",
              "      <td>8062</td>\n",
              "      <td>3</td>\n",
              "      <td>0</td>\n",
              "      <td>nao-renovado</td>\n",
              "    </tr>\n",
              "    <tr>\n",
              "      <th>3</th>\n",
              "      <td>604000.0</td>\n",
              "      <td>1965</td>\n",
              "      <td>0</td>\n",
              "      <td>1960</td>\n",
              "      <td>5000</td>\n",
              "      <td>5000</td>\n",
              "      <td>5</td>\n",
              "      <td>1</td>\n",
              "      <td>nao-renovado</td>\n",
              "    </tr>\n",
              "    <tr>\n",
              "      <th>4</th>\n",
              "      <td>510000.0</td>\n",
              "      <td>1987</td>\n",
              "      <td>0</td>\n",
              "      <td>1680</td>\n",
              "      <td>8080</td>\n",
              "      <td>7503</td>\n",
              "      <td>3</td>\n",
              "      <td>0</td>\n",
              "      <td>nao-renovado</td>\n",
              "    </tr>\n",
              "    <tr>\n",
              "      <th>...</th>\n",
              "      <td>...</td>\n",
              "      <td>...</td>\n",
              "      <td>...</td>\n",
              "      <td>...</td>\n",
              "      <td>...</td>\n",
              "      <td>...</td>\n",
              "      <td>...</td>\n",
              "      <td>...</td>\n",
              "      <td>...</td>\n",
              "    </tr>\n",
              "    <tr>\n",
              "      <th>21608</th>\n",
              "      <td>360000.0</td>\n",
              "      <td>2009</td>\n",
              "      <td>0</td>\n",
              "      <td>1530</td>\n",
              "      <td>1131</td>\n",
              "      <td>1509</td>\n",
              "      <td>3</td>\n",
              "      <td>0</td>\n",
              "      <td>nao-renovado</td>\n",
              "    </tr>\n",
              "    <tr>\n",
              "      <th>21609</th>\n",
              "      <td>400000.0</td>\n",
              "      <td>2014</td>\n",
              "      <td>0</td>\n",
              "      <td>2310</td>\n",
              "      <td>5813</td>\n",
              "      <td>7200</td>\n",
              "      <td>3</td>\n",
              "      <td>0</td>\n",
              "      <td>nao-renovado</td>\n",
              "    </tr>\n",
              "    <tr>\n",
              "      <th>21610</th>\n",
              "      <td>402101.0</td>\n",
              "      <td>2009</td>\n",
              "      <td>0</td>\n",
              "      <td>1020</td>\n",
              "      <td>1350</td>\n",
              "      <td>2007</td>\n",
              "      <td>3</td>\n",
              "      <td>0</td>\n",
              "      <td>nao-renovado</td>\n",
              "    </tr>\n",
              "    <tr>\n",
              "      <th>21611</th>\n",
              "      <td>400000.0</td>\n",
              "      <td>2004</td>\n",
              "      <td>0</td>\n",
              "      <td>1600</td>\n",
              "      <td>2388</td>\n",
              "      <td>1287</td>\n",
              "      <td>3</td>\n",
              "      <td>0</td>\n",
              "      <td>nao-renovado</td>\n",
              "    </tr>\n",
              "    <tr>\n",
              "      <th>21612</th>\n",
              "      <td>325000.0</td>\n",
              "      <td>2008</td>\n",
              "      <td>0</td>\n",
              "      <td>1020</td>\n",
              "      <td>1076</td>\n",
              "      <td>1357</td>\n",
              "      <td>3</td>\n",
              "      <td>0</td>\n",
              "      <td>nao-renovado</td>\n",
              "    </tr>\n",
              "  </tbody>\n",
              "</table>\n",
              "<p>21613 rows × 9 columns</p>\n",
              "</div>"
            ],
            "text/plain": [
              "          price  yr_built  ...  classe_condition  classe_renovated\n",
              "0      221900.0      1955  ...                 0      nao-renovado\n",
              "1      538000.0      1951  ...                 0          renovado\n",
              "2      180000.0      1933  ...                 0      nao-renovado\n",
              "3      604000.0      1965  ...                 1      nao-renovado\n",
              "4      510000.0      1987  ...                 0      nao-renovado\n",
              "...         ...       ...  ...               ...               ...\n",
              "21608  360000.0      2009  ...                 0      nao-renovado\n",
              "21609  400000.0      2014  ...                 0      nao-renovado\n",
              "21610  402101.0      2009  ...                 0      nao-renovado\n",
              "21611  400000.0      2004  ...                 0      nao-renovado\n",
              "21612  325000.0      2008  ...                 0      nao-renovado\n",
              "\n",
              "[21613 rows x 9 columns]"
            ]
          },
          "metadata": {
            "tags": []
          },
          "execution_count": 13
        }
      ]
    },
    {
      "cell_type": "markdown",
      "metadata": {
        "id": "Qmp4jcGPGxrM"
      },
      "source": [
        "### 6. Find the importance of each attribute using three methods.(compare)"
      ]
    },
    {
      "cell_type": "code",
      "metadata": {
        "colab": {
          "base_uri": "https://localhost:8080/"
        },
        "id": "FR3NcK9zUGR-",
        "outputId": "919da57b-f17b-4a93-9468-30710e94b7df"
      },
      "source": [
        "df.values"
      ],
      "execution_count": null,
      "outputs": [
        {
          "output_type": "execute_result",
          "data": {
            "text/plain": [
              "array([[221900.0, 1955, 0, ..., 'pequeno', 'medio', 'medio'],\n",
              "       [538000.0, 1951, 1991, ..., 'pequeno', 'medio', 'medio'],\n",
              "       [180000.0, 1933, 0, ..., 'pequeno', 'grande', 'medio'],\n",
              "       ...,\n",
              "       [402101.0, 2009, 0, ..., 'pequeno', 'pequeno', 'pequeno'],\n",
              "       [400000.0, 2004, 0, ..., 'pequeno', 'pequeno', 'pequeno'],\n",
              "       [325000.0, 2008, 0, ..., 'pequeno', 'pequeno', 'pequeno']],\n",
              "      dtype=object)"
            ]
          },
          "metadata": {
            "tags": []
          },
          "execution_count": 44
        }
      ]
    },
    {
      "cell_type": "code",
      "metadata": {
        "id": "nrLSbdBPyuKG"
      },
      "source": [
        "array_n = df.values\n",
        "\n",
        "X = array_n[:,0:6]\n",
        "Y = array_n[:,6].astype('int')"
      ],
      "execution_count": null,
      "outputs": []
    },
    {
      "cell_type": "code",
      "metadata": {
        "id": "dORFunG-xLvR"
      },
      "source": [
        "def select_feature(df, function, valor):\n",
        "\n",
        "  test = SelectKBest(function, k = valor)\n",
        "  fit = test.fit(X, Y)\n",
        "\n",
        "  np.set_printoptions(precision = 3)\n",
        "  print(fit.scores_)\n",
        "\n",
        "  features = fit.transform(X)\n",
        "\n",
        "  print(features[0:valor,:])\n",
        "\n",
        "  print(\"Features sorted by their score:\")\n",
        "  print(sorted(zip(map(lambda x: round(x, valor), fit.scores_), df.columns), reverse = True))\n",
        "\n",
        "  feature_importance = fit.scores_\n",
        "\n",
        "  feature_importance = 100.0 * (feature_importance / feature_importance.max())\n",
        "  sorted_idx = np.argsort(feature_importance)\n",
        "  pos = np.arange(sorted_idx.shape[0]) + .5\n",
        "  plt.subplot(1, 2, 2)\n",
        "  plt.barh(pos, feature_importance[sorted_idx], align = 'center')\n",
        "  m_name = np.array(df.columns)\n",
        "  plt.yticks(pos, m_name[sorted_idx])\n",
        "  plt.xlabel('Importância Relativa')\n",
        "  plt.show()"
      ],
      "execution_count": null,
      "outputs": []
    },
    {
      "cell_type": "code",
      "metadata": {
        "colab": {
          "base_uri": "https://localhost:8080/",
          "height": 433
        },
        "id": "SwCJQx_Syp2u",
        "outputId": "53dcc3dd-6577-4ac4-9ebb-1786d5479edb"
      },
      "source": [
        "select_feature(df, f_classif, 6)"
      ],
      "execution_count": null,
      "outputs": [
        {
          "output_type": "stream",
          "text": [
            "[  37.412 1065.033   26.103   80.151    9.8      6.252]\n",
            "[[221900.0 1955 0 1180 5650 5650]\n",
            " [538000.0 1951 1991 2570 7242 7639]\n",
            " [180000.0 1933 0 770 10000 8062]\n",
            " [604000.0 1965 0 1960 5000 5000]\n",
            " [510000.0 1987 0 1680 8080 7503]\n",
            " [1225000.0 2001 0 5420 101930 101930]]\n",
            "Features sorted by their score:\n",
            "[(1065.03278, 'yr_built'), (80.150869, 'sqft_living'), (37.41154, 'price'), (26.103406, 'yr_renovated'), (9.800492, 'sqft_lot'), (6.251946, 'sqft_lot15')]\n"
          ],
          "name": "stdout"
        },
        {
          "output_type": "display_data",
          "data": {
            "image/png": "[encoded data removed]",
            "text/plain": [
              "<Figure size 432x288 with 1 Axes>"
            ]
          },
          "metadata": {
            "tags": [],
            "needs_background": "light"
          }
        }
      ]
    },
    {
      "cell_type": "code",
      "metadata": {
        "colab": {
          "base_uri": "https://localhost:8080/",
          "height": 433
        },
        "id": "SV7ruSWXys2b",
        "outputId": "f4c26a0e-f781-4f2e-95d6-5581a1c00c6a"
      },
      "source": [
        "select_feature(df, mutual_info_classif, 6)"
      ],
      "execution_count": null,
      "outputs": [
        {
          "output_type": "stream",
          "text": [
            "[0.011 0.156 0.005 0.018 0.04  0.049]\n",
            "[[221900.0 1955 0 1180 5650 5650]\n",
            " [538000.0 1951 1991 2570 7242 7639]\n",
            " [180000.0 1933 0 770 10000 8062]\n",
            " [604000.0 1965 0 1960 5000 5000]\n",
            " [510000.0 1987 0 1680 8080 7503]\n",
            " [1225000.0 2001 0 5420 101930 101930]]\n",
            "Features sorted by their score:\n",
            "[(0.156455, 'yr_built'), (0.048743, 'sqft_lot15'), (0.040093, 'sqft_lot'), (0.017932, 'sqft_living'), (0.011064, 'price'), (0.004899, 'yr_renovated')]\n"
          ],
          "name": "stdout"
        },
        {
          "output_type": "display_data",
          "data": {
            "image/png": "[encoded data removed]",
            "text/plain": [
              "<Figure size 432x288 with 1 Axes>"
            ]
          },
          "metadata": {
            "tags": [],
            "needs_background": "light"
          }
        }
      ]
    },
    {
      "cell_type": "code",
      "metadata": {
        "id": "Er5Cbp5mznfK",
        "colab": {
          "base_uri": "https://localhost:8080/",
          "height": 453
        },
        "outputId": "7522ba0d-bddb-4a22-e8cf-2d7e53c75175"
      },
      "source": [
        "select_feature(df, chi2, 6)"
      ],
      "execution_count": null,
      "outputs": [
        {
          "output_type": "stream",
          "text": [
            "[3.710e+07 1.558e+03 1.987e+05 1.281e+05 4.445e+06 1.459e+06]\n",
            "[[221900.0 1955 0 1180 5650 5650]\n",
            " [538000.0 1951 1991 2570 7242 7639]\n",
            " [180000.0 1933 0 770 10000 8062]\n",
            " [604000.0 1965 0 1960 5000 5000]\n",
            " [510000.0 1987 0 1680 8080 7503]\n",
            " [1225000.0 2001 0 5420 101930 101930]]\n",
            "Features sorted by their score:\n",
            "[(37095147.334508, 'price'), (4444825.202045, 'sqft_lot'), (1458724.051057, 'sqft_lot15'), (198677.520691, 'yr_renovated'), (128148.119962, 'sqft_living'), (1558.023033, 'yr_built')]\n"
          ],
          "name": "stdout"
        },
        {
          "output_type": "display_data",
          "data": {
            "image/png": "[encoded data removed]",
            "text/plain": [
              "<Figure size 432x288 with 1 Axes>"
            ]
          },
          "metadata": {
            "tags": [],
            "needs_background": "light"
          }
        }
      ]
    },
    {
      "cell_type": "markdown",
      "metadata": {
        "id": "MhwIK27afBT0"
      },
      "source": [
        "### 7. Normalize the data and again find the importance of each attribute using three methods. (compare)"
      ]
    },
    {
      "cell_type": "code",
      "metadata": {
        "id": "8RiLuNcYSJMj"
      },
      "source": [
        "def normalize_column(_df):\n",
        "\n",
        "  serie = pd.to_numeric(_df, errors='coerce')\n",
        "\n",
        "  new_serie = (serie - min(serie)) / (max(serie) - min(serie))\n",
        "\n",
        "  return new_serie"
      ],
      "execution_count": null,
      "outputs": []
    },
    {
      "cell_type": "code",
      "metadata": {
        "id": "qT2pUnWoZDPe"
      },
      "source": [
        "df_norm = pd.DataFrame()"
      ],
      "execution_count": null,
      "outputs": []
    },
    {
      "cell_type": "code",
      "metadata": {
        "id": "rsdQwrmfWxNf"
      },
      "source": [
        "df_norm['norm_price'] = normalize_column(df['price'])\n",
        "df_norm['norm_yr_built'] = normalize_column(df['yr_built'])\n",
        "df_norm['norm_yr_renovated'] = normalize_column(df['yr_renovated'])\n",
        "df_norm['norm_sqft_living'] = normalize_column(df['sqft_living'])\n",
        "df_norm['norm_sqft_lot'] = normalize_column(df['sqft_lot'])\n",
        "df_norm['norm_sqft_lot15'] = normalize_column(df['sqft_lot15'])"
      ],
      "execution_count": null,
      "outputs": []
    },
    {
      "cell_type": "code",
      "metadata": {
        "colab": {
          "base_uri": "https://localhost:8080/",
          "height": 419
        },
        "id": "FCO-wejZcJVZ",
        "outputId": "845b85c0-51cf-451d-a7d0-bd173d486a02"
      },
      "source": [
        "df_norm"
      ],
      "execution_count": null,
      "outputs": [
        {
          "output_type": "execute_result",
          "data": {
            "text/html": [
              "<div>\n",
              "<style scoped>\n",
              "    .dataframe tbody tr th:only-of-type {\n",
              "        vertical-align: middle;\n",
              "    }\n",
              "\n",
              "    .dataframe tbody tr th {\n",
              "        vertical-align: top;\n",
              "    }\n",
              "\n",
              "    .dataframe thead th {\n",
              "        text-align: right;\n",
              "    }\n",
              "</style>\n",
              "<table border=\"1\" class=\"dataframe\">\n",
              "  <thead>\n",
              "    <tr style=\"text-align: right;\">\n",
              "      <th></th>\n",
              "      <th>norm_price</th>\n",
              "      <th>norm_yr_built</th>\n",
              "      <th>norm_yr_renovated</th>\n",
              "      <th>norm_sqft_living</th>\n",
              "      <th>norm_sqft_lot</th>\n",
              "      <th>norm_sqft_lot15</th>\n",
              "    </tr>\n",
              "  </thead>\n",
              "  <tbody>\n",
              "    <tr>\n",
              "      <th>0</th>\n",
              "      <td>0.019266</td>\n",
              "      <td>0.478261</td>\n",
              "      <td>0.000000</td>\n",
              "      <td>0.067170</td>\n",
              "      <td>0.003108</td>\n",
              "      <td>0.005742</td>\n",
              "    </tr>\n",
              "    <tr>\n",
              "      <th>1</th>\n",
              "      <td>0.060721</td>\n",
              "      <td>0.443478</td>\n",
              "      <td>0.988089</td>\n",
              "      <td>0.172075</td>\n",
              "      <td>0.004072</td>\n",
              "      <td>0.008027</td>\n",
              "    </tr>\n",
              "    <tr>\n",
              "      <th>2</th>\n",
              "      <td>0.013770</td>\n",
              "      <td>0.286957</td>\n",
              "      <td>0.000000</td>\n",
              "      <td>0.036226</td>\n",
              "      <td>0.005743</td>\n",
              "      <td>0.008513</td>\n",
              "    </tr>\n",
              "    <tr>\n",
              "      <th>3</th>\n",
              "      <td>0.069377</td>\n",
              "      <td>0.565217</td>\n",
              "      <td>0.000000</td>\n",
              "      <td>0.126038</td>\n",
              "      <td>0.002714</td>\n",
              "      <td>0.004996</td>\n",
              "    </tr>\n",
              "    <tr>\n",
              "      <th>4</th>\n",
              "      <td>0.057049</td>\n",
              "      <td>0.756522</td>\n",
              "      <td>0.000000</td>\n",
              "      <td>0.104906</td>\n",
              "      <td>0.004579</td>\n",
              "      <td>0.007871</td>\n",
              "    </tr>\n",
              "    <tr>\n",
              "      <th>...</th>\n",
              "      <td>...</td>\n",
              "      <td>...</td>\n",
              "      <td>...</td>\n",
              "      <td>...</td>\n",
              "      <td>...</td>\n",
              "      <td>...</td>\n",
              "    </tr>\n",
              "    <tr>\n",
              "      <th>21608</th>\n",
              "      <td>0.037377</td>\n",
              "      <td>0.947826</td>\n",
              "      <td>0.000000</td>\n",
              "      <td>0.093585</td>\n",
              "      <td>0.000370</td>\n",
              "      <td>0.000986</td>\n",
              "    </tr>\n",
              "    <tr>\n",
              "      <th>21609</th>\n",
              "      <td>0.042623</td>\n",
              "      <td>0.991304</td>\n",
              "      <td>0.000000</td>\n",
              "      <td>0.152453</td>\n",
              "      <td>0.003206</td>\n",
              "      <td>0.007523</td>\n",
              "    </tr>\n",
              "    <tr>\n",
              "      <th>21610</th>\n",
              "      <td>0.042898</td>\n",
              "      <td>0.947826</td>\n",
              "      <td>0.000000</td>\n",
              "      <td>0.055094</td>\n",
              "      <td>0.000503</td>\n",
              "      <td>0.001558</td>\n",
              "    </tr>\n",
              "    <tr>\n",
              "      <th>21611</th>\n",
              "      <td>0.042623</td>\n",
              "      <td>0.904348</td>\n",
              "      <td>0.000000</td>\n",
              "      <td>0.098868</td>\n",
              "      <td>0.001132</td>\n",
              "      <td>0.000731</td>\n",
              "    </tr>\n",
              "    <tr>\n",
              "      <th>21612</th>\n",
              "      <td>0.032787</td>\n",
              "      <td>0.939130</td>\n",
              "      <td>0.000000</td>\n",
              "      <td>0.055094</td>\n",
              "      <td>0.000337</td>\n",
              "      <td>0.000811</td>\n",
              "    </tr>\n",
              "  </tbody>\n",
              "</table>\n",
              "<p>21613 rows × 6 columns</p>\n",
              "</div>"
            ],
            "text/plain": [
              "       norm_price  norm_yr_built  ...  norm_sqft_lot  norm_sqft_lot15\n",
              "0        0.019266       0.478261  ...       0.003108         0.005742\n",
              "1        0.060721       0.443478  ...       0.004072         0.008027\n",
              "2        0.013770       0.286957  ...       0.005743         0.008513\n",
              "3        0.069377       0.565217  ...       0.002714         0.004996\n",
              "4        0.057049       0.756522  ...       0.004579         0.007871\n",
              "...           ...            ...  ...            ...              ...\n",
              "21608    0.037377       0.947826  ...       0.000370         0.000986\n",
              "21609    0.042623       0.991304  ...       0.003206         0.007523\n",
              "21610    0.042898       0.947826  ...       0.000503         0.001558\n",
              "21611    0.042623       0.904348  ...       0.001132         0.000731\n",
              "21612    0.032787       0.939130  ...       0.000337         0.000811\n",
              "\n",
              "[21613 rows x 6 columns]"
            ]
          },
          "metadata": {
            "tags": []
          },
          "execution_count": 22
        }
      ]
    },
    {
      "cell_type": "code",
      "metadata": {
        "id": "376IdJQvN-Dd"
      },
      "source": [
        "# Looking for the importance of normalized attributes"
      ],
      "execution_count": null,
      "outputs": []
    },
    {
      "cell_type": "code",
      "metadata": {
        "id": "KlLVRZzmYQaW"
      },
      "source": [
        "array_n = df_norm.values\n",
        "\n",
        "X = array_n[:,0:5]\n",
        "Y = array_n[:,5].astype('int')"
      ],
      "execution_count": null,
      "outputs": []
    },
    {
      "cell_type": "code",
      "metadata": {
        "id": "rpPrKUYbOo6I",
        "colab": {
          "base_uri": "https://localhost:8080/",
          "height": 416
        },
        "outputId": "1beb5ea6-d85a-4cc8-f243-5453aabfa266"
      },
      "source": [
        "select_feature(df_norm, f_classif, 5)"
      ],
      "execution_count": null,
      "outputs": [
        {
          "output_type": "stream",
          "text": [
            "[1.172e+00 1.187e+00 4.415e-02 1.424e+01 4.358e+02]\n",
            "[[0.019 0.478 0.    0.067 0.003]\n",
            " [0.061 0.443 0.988 0.172 0.004]\n",
            " [0.014 0.287 0.    0.036 0.006]\n",
            " [0.069 0.565 0.    0.126 0.003]\n",
            " [0.057 0.757 0.    0.105 0.005]]\n",
            "Features sorted by their score:\n",
            "[(435.79435, 'norm_sqft_lot'), (14.24345, 'norm_sqft_living'), (1.18652, 'norm_yr_built'), (1.17185, 'norm_price'), (0.04415, 'norm_yr_renovated')]\n"
          ],
          "name": "stdout"
        },
        {
          "output_type": "display_data",
          "data": {
            "image/png": "[encoded data removed]",
            "text/plain": [
              "<Figure size 432x288 with 1 Axes>"
            ]
          },
          "metadata": {
            "tags": [],
            "needs_background": "light"
          }
        }
      ]
    },
    {
      "cell_type": "code",
      "metadata": {
        "id": "HutsVdUxRRQo",
        "colab": {
          "base_uri": "https://localhost:8080/",
          "height": 416
        },
        "outputId": "e0655217-d31e-4759-f0f3-ca3484561828"
      },
      "source": [
        "select_feature(df_norm, mutual_info_classif, 5)"
      ],
      "execution_count": null,
      "outputs": [
        {
          "output_type": "stream",
          "text": [
            "[1.332e-15 6.941e-05 1.332e-15 1.332e-15 1.332e-15]\n",
            "[[0.019 0.478 0.    0.067 0.003]\n",
            " [0.061 0.443 0.988 0.172 0.004]\n",
            " [0.014 0.287 0.    0.036 0.006]\n",
            " [0.069 0.565 0.    0.126 0.003]\n",
            " [0.057 0.757 0.    0.105 0.005]]\n",
            "Features sorted by their score:\n",
            "[(7e-05, 'norm_yr_built'), (0.0, 'norm_yr_renovated'), (0.0, 'norm_sqft_lot'), (0.0, 'norm_sqft_living'), (0.0, 'norm_price')]\n"
          ],
          "name": "stdout"
        },
        {
          "output_type": "display_data",
          "data": {
            "image/png": "[encoded data removed]",
            "text/plain": [
              "<Figure size 432x288 with 1 Axes>"
            ]
          },
          "metadata": {
            "tags": [],
            "needs_background": "light"
          }
        }
      ]
    },
    {
      "cell_type": "code",
      "metadata": {
        "id": "WPmBzO-fRRq0",
        "colab": {
          "base_uri": "https://localhost:8080/",
          "height": 416
        },
        "outputId": "fc9f8d4b-a1da-4905-88a5-7708852eb6ea"
      },
      "source": [
        "select_feature(df_norm, chi2, 5)"
      ],
      "execution_count": null,
      "outputs": [
        {
          "output_type": "stream",
          "text": [
            "[ 0.045  0.125  0.042  0.506 30.436]\n",
            "[[0.019 0.478 0.    0.067 0.003]\n",
            " [0.061 0.443 0.988 0.172 0.004]\n",
            " [0.014 0.287 0.    0.036 0.006]\n",
            " [0.069 0.565 0.    0.126 0.003]\n",
            " [0.057 0.757 0.    0.105 0.005]]\n",
            "Features sorted by their score:\n",
            "[(30.43633, 'norm_sqft_lot'), (0.5063, 'norm_sqft_living'), (0.12537, 'norm_yr_built'), (0.04454, 'norm_price'), (0.04189, 'norm_yr_renovated')]\n"
          ],
          "name": "stdout"
        },
        {
          "output_type": "display_data",
          "data": {
            "image/png": "[encoded data removed]",
            "text/plain": [
              "<Figure size 432x288 with 1 Axes>"
            ]
          },
          "metadata": {
            "tags": [],
            "needs_background": "light"
          }
        }
      ]
    },
    {
      "cell_type": "markdown",
      "metadata": {
        "id": "ZC2xvhpqfe1X"
      },
      "source": [
        "### 8. Discretize the attributes and again find the importance of each attribute using three methods. (compare)"
      ]
    },
    {
      "cell_type": "code",
      "metadata": {
        "id": "_Z_jkxn8kS-N"
      },
      "source": [
        "def classe_price(variavel):\n",
        "  if (variavel <= 500000):\n",
        "    return 'barato'\n",
        "  elif (variavel > 500000 and variavel <= 1000000):\n",
        "    return 'medio'\n",
        "  else:\n",
        "    return 'caro'"
      ],
      "execution_count": null,
      "outputs": []
    },
    {
      "cell_type": "code",
      "metadata": {
        "id": "IzFgrmOImP8V"
      },
      "source": [
        "df['price'] = pd.to_numeric(df['price'], errors = 'coerce')\n",
        "df['classe_price'] = df['price'].apply(classe_price)"
      ],
      "execution_count": null,
      "outputs": []
    },
    {
      "cell_type": "code",
      "metadata": {
        "id": "9mtRh17Loy5U"
      },
      "source": [
        "def classfying_yr_built(year):\n",
        "  if ( year >= 2000):\n",
        "    return 'seculo_21'\n",
        "  else: #abaixo de 2000\n",
        "    return 'seculo_20'"
      ],
      "execution_count": null,
      "outputs": []
    },
    {
      "cell_type": "code",
      "metadata": {
        "id": "CVRmS84WoyuF"
      },
      "source": [
        "df['classe_century'] = df.apply(lambda row: classfying_yr_built(row['yr_built']), axis = 'columns')"
      ],
      "execution_count": null,
      "outputs": []
    },
    {
      "cell_type": "code",
      "metadata": {
        "id": "X51PrY7goucN"
      },
      "source": [
        "def classfying_sqft_living(sqft):\n",
        "  if ( sqft <= 4513):\n",
        "    return 'pequeno'\n",
        "  elif ( sqft <= 9026):\n",
        "    return 'medio'\n",
        "  else:\n",
        "    return 'grande'"
      ],
      "execution_count": null,
      "outputs": []
    },
    {
      "cell_type": "code",
      "metadata": {
        "id": "L6M7PErpovC-"
      },
      "source": [
        "df['classe_sqft_living'] = df.apply(lambda row: classfying_sqft_living(row['sqft_living']), axis = 'columns')"
      ],
      "execution_count": null,
      "outputs": []
    },
    {
      "cell_type": "code",
      "metadata": {
        "id": "1qiBsaYZoa6o"
      },
      "source": [
        "def classe_size_lot(size):\n",
        "  if (size <=5612.0):\n",
        "    return 'pequeno'\n",
        "  elif (size > 5612.0 and size <= 8520.2):\n",
        "    return 'medio'\n",
        "  else:\n",
        "    return 'grande'"
      ],
      "execution_count": null,
      "outputs": []
    },
    {
      "cell_type": "code",
      "metadata": {
        "colab": {
          "base_uri": "https://localhost:8080/",
          "height": 439
        },
        "id": "M7TuAS0hoc7T",
        "outputId": "b46c64cb-3c71-458a-db3f-5512ea77d619"
      },
      "source": [
        "df['classe_sqft_lot'] = df['sqft_lot'].apply(classe_size_lot)\n",
        "df['classe_sqft_lot15'] = df['sqft_lot15'].apply(classe_size_lot)\n",
        "df"
      ],
      "execution_count": null,
      "outputs": [
        {
          "output_type": "execute_result",
          "data": {
            "text/html": [
              "<div>\n",
              "<style scoped>\n",
              "    .dataframe tbody tr th:only-of-type {\n",
              "        vertical-align: middle;\n",
              "    }\n",
              "\n",
              "    .dataframe tbody tr th {\n",
              "        vertical-align: top;\n",
              "    }\n",
              "\n",
              "    .dataframe thead th {\n",
              "        text-align: right;\n",
              "    }\n",
              "</style>\n",
              "<table border=\"1\" class=\"dataframe\">\n",
              "  <thead>\n",
              "    <tr style=\"text-align: right;\">\n",
              "      <th></th>\n",
              "      <th>price</th>\n",
              "      <th>yr_built</th>\n",
              "      <th>yr_renovated</th>\n",
              "      <th>sqft_living</th>\n",
              "      <th>sqft_lot</th>\n",
              "      <th>sqft_lot15</th>\n",
              "      <th>condition</th>\n",
              "      <th>classe_condition</th>\n",
              "      <th>classe_renovated</th>\n",
              "      <th>classe_price</th>\n",
              "      <th>classe_century</th>\n",
              "      <th>classe_sqft_living</th>\n",
              "      <th>classe_sqft_lot</th>\n",
              "      <th>classe_sqft_lot15</th>\n",
              "    </tr>\n",
              "  </thead>\n",
              "  <tbody>\n",
              "    <tr>\n",
              "      <th>0</th>\n",
              "      <td>221900.0</td>\n",
              "      <td>1955</td>\n",
              "      <td>0</td>\n",
              "      <td>1180</td>\n",
              "      <td>5650</td>\n",
              "      <td>5650</td>\n",
              "      <td>3</td>\n",
              "      <td>0</td>\n",
              "      <td>nao-renovado</td>\n",
              "      <td>barato</td>\n",
              "      <td>seculo_20</td>\n",
              "      <td>pequeno</td>\n",
              "      <td>medio</td>\n",
              "      <td>medio</td>\n",
              "    </tr>\n",
              "    <tr>\n",
              "      <th>1</th>\n",
              "      <td>538000.0</td>\n",
              "      <td>1951</td>\n",
              "      <td>1991</td>\n",
              "      <td>2570</td>\n",
              "      <td>7242</td>\n",
              "      <td>7639</td>\n",
              "      <td>3</td>\n",
              "      <td>0</td>\n",
              "      <td>renovado</td>\n",
              "      <td>medio</td>\n",
              "      <td>seculo_20</td>\n",
              "      <td>pequeno</td>\n",
              "      <td>medio</td>\n",
              "      <td>medio</td>\n",
              "    </tr>\n",
              "    <tr>\n",
              "      <th>2</th>\n",
              "      <td>180000.0</td>\n",
              "      <td>1933</td>\n",
              "      <td>0</td>\n",
              "      <td>770</td>\n",
              "      <td>10000</td>\n",
              "      <td>8062</td>\n",
              "      <td>3</td>\n",
              "      <td>0</td>\n",
              "      <td>nao-renovado</td>\n",
              "      <td>barato</td>\n",
              "      <td>seculo_20</td>\n",
              "      <td>pequeno</td>\n",
              "      <td>grande</td>\n",
              "      <td>medio</td>\n",
              "    </tr>\n",
              "    <tr>\n",
              "      <th>3</th>\n",
              "      <td>604000.0</td>\n",
              "      <td>1965</td>\n",
              "      <td>0</td>\n",
              "      <td>1960</td>\n",
              "      <td>5000</td>\n",
              "      <td>5000</td>\n",
              "      <td>5</td>\n",
              "      <td>1</td>\n",
              "      <td>nao-renovado</td>\n",
              "      <td>medio</td>\n",
              "      <td>seculo_20</td>\n",
              "      <td>pequeno</td>\n",
              "      <td>pequeno</td>\n",
              "      <td>pequeno</td>\n",
              "    </tr>\n",
              "    <tr>\n",
              "      <th>4</th>\n",
              "      <td>510000.0</td>\n",
              "      <td>1987</td>\n",
              "      <td>0</td>\n",
              "      <td>1680</td>\n",
              "      <td>8080</td>\n",
              "      <td>7503</td>\n",
              "      <td>3</td>\n",
              "      <td>0</td>\n",
              "      <td>nao-renovado</td>\n",
              "      <td>medio</td>\n",
              "      <td>seculo_20</td>\n",
              "      <td>pequeno</td>\n",
              "      <td>medio</td>\n",
              "      <td>medio</td>\n",
              "    </tr>\n",
              "    <tr>\n",
              "      <th>...</th>\n",
              "      <td>...</td>\n",
              "      <td>...</td>\n",
              "      <td>...</td>\n",
              "      <td>...</td>\n",
              "      <td>...</td>\n",
              "      <td>...</td>\n",
              "      <td>...</td>\n",
              "      <td>...</td>\n",
              "      <td>...</td>\n",
              "      <td>...</td>\n",
              "      <td>...</td>\n",
              "      <td>...</td>\n",
              "      <td>...</td>\n",
              "      <td>...</td>\n",
              "    </tr>\n",
              "    <tr>\n",
              "      <th>21608</th>\n",
              "      <td>360000.0</td>\n",
              "      <td>2009</td>\n",
              "      <td>0</td>\n",
              "      <td>1530</td>\n",
              "      <td>1131</td>\n",
              "      <td>1509</td>\n",
              "      <td>3</td>\n",
              "      <td>0</td>\n",
              "      <td>nao-renovado</td>\n",
              "      <td>barato</td>\n",
              "      <td>seculo_21</td>\n",
              "      <td>pequeno</td>\n",
              "      <td>pequeno</td>\n",
              "      <td>pequeno</td>\n",
              "    </tr>\n",
              "    <tr>\n",
              "      <th>21609</th>\n",
              "      <td>400000.0</td>\n",
              "      <td>2014</td>\n",
              "      <td>0</td>\n",
              "      <td>2310</td>\n",
              "      <td>5813</td>\n",
              "      <td>7200</td>\n",
              "      <td>3</td>\n",
              "      <td>0</td>\n",
              "      <td>nao-renovado</td>\n",
              "      <td>barato</td>\n",
              "      <td>seculo_21</td>\n",
              "      <td>pequeno</td>\n",
              "      <td>medio</td>\n",
              "      <td>medio</td>\n",
              "    </tr>\n",
              "    <tr>\n",
              "      <th>21610</th>\n",
              "      <td>402101.0</td>\n",
              "      <td>2009</td>\n",
              "      <td>0</td>\n",
              "      <td>1020</td>\n",
              "      <td>1350</td>\n",
              "      <td>2007</td>\n",
              "      <td>3</td>\n",
              "      <td>0</td>\n",
              "      <td>nao-renovado</td>\n",
              "      <td>barato</td>\n",
              "      <td>seculo_21</td>\n",
              "      <td>pequeno</td>\n",
              "      <td>pequeno</td>\n",
              "      <td>pequeno</td>\n",
              "    </tr>\n",
              "    <tr>\n",
              "      <th>21611</th>\n",
              "      <td>400000.0</td>\n",
              "      <td>2004</td>\n",
              "      <td>0</td>\n",
              "      <td>1600</td>\n",
              "      <td>2388</td>\n",
              "      <td>1287</td>\n",
              "      <td>3</td>\n",
              "      <td>0</td>\n",
              "      <td>nao-renovado</td>\n",
              "      <td>barato</td>\n",
              "      <td>seculo_21</td>\n",
              "      <td>pequeno</td>\n",
              "      <td>pequeno</td>\n",
              "      <td>pequeno</td>\n",
              "    </tr>\n",
              "    <tr>\n",
              "      <th>21612</th>\n",
              "      <td>325000.0</td>\n",
              "      <td>2008</td>\n",
              "      <td>0</td>\n",
              "      <td>1020</td>\n",
              "      <td>1076</td>\n",
              "      <td>1357</td>\n",
              "      <td>3</td>\n",
              "      <td>0</td>\n",
              "      <td>nao-renovado</td>\n",
              "      <td>barato</td>\n",
              "      <td>seculo_21</td>\n",
              "      <td>pequeno</td>\n",
              "      <td>pequeno</td>\n",
              "      <td>pequeno</td>\n",
              "    </tr>\n",
              "  </tbody>\n",
              "</table>\n",
              "<p>21613 rows × 14 columns</p>\n",
              "</div>"
            ],
            "text/plain": [
              "          price  yr_built  ...  classe_sqft_lot  classe_sqft_lot15\n",
              "0      221900.0      1955  ...            medio              medio\n",
              "1      538000.0      1951  ...            medio              medio\n",
              "2      180000.0      1933  ...           grande              medio\n",
              "3      604000.0      1965  ...          pequeno            pequeno\n",
              "4      510000.0      1987  ...            medio              medio\n",
              "...         ...       ...  ...              ...                ...\n",
              "21608  360000.0      2009  ...          pequeno            pequeno\n",
              "21609  400000.0      2014  ...            medio              medio\n",
              "21610  402101.0      2009  ...          pequeno            pequeno\n",
              "21611  400000.0      2004  ...          pequeno            pequeno\n",
              "21612  325000.0      2008  ...          pequeno            pequeno\n",
              "\n",
              "[21613 rows x 14 columns]"
            ]
          },
          "metadata": {
            "tags": []
          },
          "execution_count": 35
        }
      ]
    },
    {
      "cell_type": "code",
      "metadata": {
        "id": "eG0YuivurnFY"
      },
      "source": [
        "df_2 = pd.get_dummies(df, columns = ['classe_price', 'classe_century', 'classe_renovated', 'classe_sqft_living', 'classe_sqft_lot', 'classe_sqft_lot15'])"
      ],
      "execution_count": null,
      "outputs": []
    },
    {
      "cell_type": "code",
      "metadata": {
        "id": "GEvXMiIFlx1H"
      },
      "source": [
        "array_n = df_2.values\n",
        "\n",
        "X = array_n[:,7:23]\n",
        "Y = array_n[:,23].astype(int)"
      ],
      "execution_count": null,
      "outputs": []
    },
    {
      "cell_type": "code",
      "metadata": {
        "id": "uAjJ23c3lsNA"
      },
      "source": [
        "def select_feature_2(df, function, valor):\n",
        "  #Feature extraction\n",
        "  test = SelectKBest(function, k = valor) #select only the 4 most important features\n",
        "  fit = test.fit(X, Y)\n",
        "\n",
        "  #Summarize scores\n",
        "  np.set_printoptions(precision = 3)\n",
        "  print(fit.scores_)\n",
        "\n",
        "  features = fit.transform(X)\n",
        "\n",
        "  #Summarize select features\n",
        "  print(features[0:valor,:])\n",
        "\n",
        "  print(\"Features sorted by their score:\")\n",
        "  print(sorted(zip(map(lambda x: round(x, valor), fit.scores_), df.columns[7:23]), reverse = True))\n",
        "\n",
        "  #plot feature importance\n",
        "  feature_importance = fit.scores_\n",
        "\n",
        "  #make importances relative to max importance\n",
        "  feature_importance = 100.0 * (feature_importance / feature_importance.max())\n",
        "  sorted_idx = np.argsort(feature_importance)\n",
        "  pos = np.arange(sorted_idx.shape[0]) + .5\n",
        "  plt.subplot(1, 2, 2)\n",
        "  plt.barh(pos, feature_importance[sorted_idx], align = 'center')\n",
        "  m_name = np.array(df.columns[7:23])\n",
        "  plt.yticks(pos, m_name[sorted_idx])\n",
        "  plt.xlabel('Importância Relativa')\n",
        "  plt.show()"
      ],
      "execution_count": null,
      "outputs": []
    },
    {
      "cell_type": "code",
      "metadata": {
        "colab": {
          "base_uri": "https://localhost:8080/",
          "height": 487
        },
        "id": "owISF5rsovyb",
        "outputId": "dfb092d2-a0bf-459f-f43f-30e9c472589c"
      },
      "source": [
        "select_feature_2(df_2, f_classif, 6)"
      ],
      "execution_count": null,
      "outputs": [
        {
          "output_type": "stream",
          "text": [
            "[2.939e+02 3.892e+01 8.890e+01 1.307e+02 2.543e+03 2.543e+03 3.035e+00\n",
            " 3.035e+00 2.562e+00 1.338e+02 1.365e+02 7.676e+03 2.110e+03 5.411e+04\n",
            " 7.629e+03 5.477e+03]\n",
            "[[1. 0. 0. 0. 0. 1.]\n",
            " [1. 0. 0. 0. 0. 1.]\n",
            " [1. 0. 1. 0. 0. 1.]\n",
            " [1. 0. 0. 1. 0. 0.]\n",
            " [1. 0. 0. 0. 0. 1.]\n",
            " [0. 1. 1. 0. 1. 0.]]\n",
            "Features sorted by their score:\n",
            "[(54112.208568, 'classe_sqft_lot_pequeno'), (7675.780142, 'classe_sqft_lot_grande'), (7629.259404, 'classe_sqft_lot15_grande'), (5477.39797, 'classe_sqft_lot15_medio'), (2542.574586, 'classe_century_seculo_21'), (2542.574586, 'classe_century_seculo_20'), (2110.129789, 'classe_sqft_lot_medio'), (293.878312, 'classe_condition'), (136.489816, 'classe_sqft_living_pequeno'), (133.829226, 'classe_sqft_living_medio'), (130.704509, 'classe_price_medio'), (88.89628, 'classe_price_caro'), (38.921614, 'classe_price_barato'), (3.034895, 'classe_renovated_renovado'), (3.034895, 'classe_renovated_nao-renovado'), (2.561512, 'classe_sqft_living_grande')]\n"
          ],
          "name": "stdout"
        },
        {
          "output_type": "display_data",
          "data": {
            "image/png": "[encoded data removed]",
            "text/plain": [
              "<Figure size 432x288 with 1 Axes>"
            ]
          },
          "metadata": {
            "tags": [],
            "needs_background": "light"
          }
        }
      ]
    },
    {
      "cell_type": "code",
      "metadata": {
        "colab": {
          "base_uri": "https://localhost:8080/",
          "height": 470
        },
        "id": "4d27pJxAoRQa",
        "outputId": "e981eb2a-2ede-491e-c3be-1021e225134f"
      },
      "source": [
        "select_feature_2(df_2, mutual_info_classif, 6)"
      ],
      "execution_count": null,
      "outputs": [
        {
          "output_type": "stream",
          "text": [
            "[0.007 0.002 0.    0.003 0.049 0.047 0.    0.004 0.001 0.003 0.003 0.169\n",
            " 0.052 0.379 0.182 0.14 ]\n",
            "[[1. 0. 1. 0. 0. 1.]\n",
            " [1. 0. 1. 0. 0. 1.]\n",
            " [1. 1. 0. 0. 0. 1.]\n",
            " [1. 0. 0. 1. 0. 0.]\n",
            " [1. 0. 1. 0. 0. 1.]\n",
            " [0. 1. 0. 0. 1. 0.]]\n",
            "Features sorted by their score:\n",
            "[(0.378852, 'classe_sqft_lot_pequeno'), (0.181534, 'classe_sqft_lot15_grande'), (0.169039, 'classe_sqft_lot_grande'), (0.139748, 'classe_sqft_lot15_medio'), (0.051867, 'classe_sqft_lot_medio'), (0.049487, 'classe_century_seculo_20'), (0.047449, 'classe_century_seculo_21'), (0.007349, 'classe_condition'), (0.003986, 'classe_renovated_renovado'), (0.00346, 'classe_sqft_living_pequeno'), (0.003158, 'classe_sqft_living_medio'), (0.002628, 'classe_price_medio'), (0.001923, 'classe_price_barato'), (0.001036, 'classe_sqft_living_grande'), (0.0, 'classe_renovated_nao-renovado'), (0.0, 'classe_price_caro')]\n"
          ],
          "name": "stdout"
        },
        {
          "output_type": "display_data",
          "data": {
            "image/png": "[encoded data removed]",
            "text/plain": [
              "<Figure size 432x288 with 1 Axes>"
            ]
          },
          "metadata": {
            "tags": [],
            "needs_background": "light"
          }
        }
      ]
    },
    {
      "cell_type": "code",
      "metadata": {
        "colab": {
          "base_uri": "https://localhost:8080/",
          "height": 487
        },
        "id": "3KDZeN8voyyZ",
        "outputId": "7bd3e974-2a6f-4363-e1ab-133dc017b8c9"
      },
      "source": [
        "select_feature_2(df_2, chi2, 6)"
      ],
      "execution_count": null,
      "outputs": [
        {
          "output_type": "stream",
          "text": [
            "[1.910e+02 1.628e+01 8.254e+01 8.431e+01 5.010e+02 1.774e+03 1.283e-01\n",
            " 2.906e+00 2.561e+00 1.308e+02 2.285e+00 3.399e+03 1.346e+03 1.081e+04\n",
            " 3.500e+03 2.965e+03]\n",
            "[[0. 0. 1. 0. 0. 1.]\n",
            " [0. 0. 1. 0. 0. 1.]\n",
            " [0. 1. 0. 0. 0. 1.]\n",
            " [0. 0. 0. 1. 0. 0.]\n",
            " [0. 0. 1. 0. 0. 1.]\n",
            " [1. 1. 0. 0. 1. 0.]]\n",
            "Features sorted by their score:\n",
            "[(10808.40564, 'classe_sqft_lot_pequeno'), (3499.669923, 'classe_sqft_lot15_grande'), (3398.786633, 'classe_sqft_lot_grande'), (2965.330077, 'classe_sqft_lot15_medio'), (1774.170193, 'classe_century_seculo_21'), (1346.166662, 'classe_sqft_lot_medio'), (500.965702, 'classe_century_seculo_20'), (190.95153, 'classe_condition'), (130.814557, 'classe_sqft_living_medio'), (84.314031, 'classe_price_medio'), (82.538747, 'classe_price_caro'), (16.275226, 'classe_price_barato'), (2.906412, 'classe_renovated_renovado'), (2.560734, 'classe_sqft_living_grande'), (2.284507, 'classe_sqft_living_pequeno'), (0.128338, 'classe_renovated_nao-renovado')]\n"
          ],
          "name": "stdout"
        },
        {
          "output_type": "display_data",
          "data": {
            "image/png": "[encoded data removed]",
            "text/plain": [
              "<Figure size 432x288 with 1 Axes>"
            ]
          },
          "metadata": {
            "tags": [],
            "needs_background": "light"
          }
        }
      ]
    },
    {
      "cell_type": "markdown",
      "metadata": {
        "id": "qN5uYUF7p2ix"
      },
      "source": [
        "Comparing the graphs above, we can see that the most important attributes (*features*) are those associated with:\n",
        "* sqft_lot;\n",
        "* sqft_lo15;\n",
        "* yr_built, which generated the class corresponding to the century in which the house was built;\n",
        "* condition.\n",
        "\n",
        "Therefore, only these 4 columns from the original *dataset* will be kept.\n",
        "\n",
        "\n"
      ]
    },
    {
      "cell_type": "markdown",
      "metadata": {
        "id": "kKj5B_btqgPG"
      },
      "source": [
        "### 9. Reduce the dimensions of the DataFrame."
      ]
    },
    {
      "cell_type": "code",
      "metadata": {
        "id": "T-uIRT7TqxP3"
      },
      "source": [
        "df_final = df[['classe_sqft_lot', 'classe_sqft_lot15', 'classe_century', 'classe_condition']].copy()"
      ],
      "execution_count": null,
      "outputs": []
    },
    {
      "cell_type": "markdown",
      "metadata": {
        "id": "jCGmLrzIqnqM"
      },
      "source": [
        "### 10. Store in a new .csv file."
      ]
    },
    {
      "cell_type": "code",
      "metadata": {
        "id": "dA7achpSqwP9"
      },
      "source": [
        "df_final.to_csv('import.csv', sep = ';')"
      ],
      "execution_count": null,
      "outputs": []
    }
  ]
}