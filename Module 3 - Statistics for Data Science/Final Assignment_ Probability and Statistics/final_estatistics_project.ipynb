{
  "nbformat": 4,
  "nbformat_minor": 0,
  "metadata": {
    "colab": {
      "provenance": []
    },
    "kernelspec": {
      "name": "python3",
      "display_name": "Python 3"
    }
  },
  "cells": [
    {
      "cell_type": "markdown",
      "metadata": {
        "id": "ODvzUu5sqE1L"
      },
      "source": [
        "#FINAL STATISTICS PROJECT FOR DATA SCIENCE\n",
        "\n"
      ]
    },
    {
      "cell_type": "markdown",
      "metadata": {
        "id": "QhXRstlDwSHB"
      },
      "source": [
        "###Dataset"
      ]
    },
    {
      "cell_type": "markdown",
      "metadata": {
        "id": "LkX9SXH9Sg_l"
      },
      "source": [
        "The *dataset* consists of official statistical data from the 11,538 athletes who participated in the 2016 Olympic Games in Rio de Janeiro. It includes the name, nationality (in 3-digit code), gender, date of birth, height in meters, weight in kilograms, sport, and the number of gold, silver, and/or bronze medals won by the respective athletes.\n",
        "\n",
        "Source: [Kaggle](https://www.kaggle.com/rio2016/olympic-games/)\n",
        "\n",
        "For disciplinary purposes:\n",
        "\n",
        "* we acquired the age of each athlete (for August/2016) from their date of birth, thus generating a new column *age*;\n",
        "\n",
        "* we excluded the columns *id*, *name*, and *dob*.\n",
        "\n",
        "Below, we present additional information about the chosen dataset."
      ]
    },
    {
      "cell_type": "markdown",
      "metadata": {
        "id": "Pk8UkqttL0Tm"
      },
      "source": [
        "#### Pacotes"
      ]
    },
    {
      "cell_type": "code",
      "metadata": {
        "id": "JHMnxkVcrpxb",
        "colab": {
          "base_uri": "https://localhost:8080/"
        },
        "outputId": "e080a7a9-2ba1-4c27-df47-05ab3de87785"
      },
      "source": [
        "# Required packages\n",
        "import pandas as pd\n",
        "import numpy as np\n",
        "import statistics as st\n",
        "import seaborn as sns\n",
        "import statsmodels.stats.proportion as smp\n",
        "from scipy import stats\n",
        "import matplotlib.pyplot as plt\n",
        "from datetime import date\n",
        "from scipy.stats import t,norm,chi2_contingency,ttest_ind\n",
        "\n",
        "#To remove warning from graphs\n",
        "import warnings\n",
        "warnings.filterwarnings(\"ignore\", category=FutureWarning)\n",
        "warnings.filterwarnings(\"ignore\", category=UserWarning)"
      ],
      "execution_count": null,
      "outputs": [
        {
          "output_type": "stream",
          "text": [
            "/usr/local/lib/python3.6/dist-packages/statsmodels/tools/_testing.py:19: FutureWarning: pandas.util.testing is deprecated. Use the functions in the public API at pandas.testing instead.\n",
            "  import pandas.util.testing as tm\n"
          ],
          "name": "stderr"
        }
      ]
    },
    {
      "cell_type": "code",
      "metadata": {
        "id": "Vvbd_LKyWeho"
      },
      "source": [
        "%matplotlib inline\n",
        "\n",
        "from IPython.core.pylabtools import figsize\n",
        "\n",
        "figsize(12, 8)\n",
        "\n",
        "sns.set()"
      ],
      "execution_count": null,
      "outputs": []
    },
    {
      "cell_type": "code",
      "metadata": {
        "id": "LElM8PG6MHZ4",
        "colab": {
          "base_uri": "https://localhost:8080/"
        },
        "outputId": "0dd05186-a2fe-4038-d815-2e5e1eb07229"
      },
      "source": [
        "from google.colab import drive\n",
        "drive.mount('/content/drive')"
      ],
      "execution_count": null,
      "outputs": [
        {
          "output_type": "stream",
          "text": [
            "Mounted at /content/drive\n"
          ],
          "name": "stdout"
        }
      ]
    },
    {
      "cell_type": "code",
      "metadata": {
        "id": "sNvjaxxGMA2F",
        "colab": {
          "base_uri": "https://localhost:8080/",
          "height": 415
        },
        "outputId": "244da0b3-757d-429f-8dc4-adab16b1528e"
      },
      "source": [
        "dataset = pd.read_csv('/content/drive/Shared drives/tp_estatistica/athletes.csv')\n",
        "dataset"
      ],
      "execution_count": null,
      "outputs": [
        {
          "output_type": "execute_result",
          "data": {
            "text/html": [
              "<div>\n",
              "<style scoped>\n",
              "    .dataframe tbody tr th:only-of-type {\n",
              "        vertical-align: middle;\n",
              "    }\n",
              "\n",
              "    .dataframe tbody tr th {\n",
              "        vertical-align: top;\n",
              "    }\n",
              "\n",
              "    .dataframe thead th {\n",
              "        text-align: right;\n",
              "    }\n",
              "</style>\n",
              "<table border=\"1\" class=\"dataframe\">\n",
              "  <thead>\n",
              "    <tr style=\"text-align: right;\">\n",
              "      <th></th>\n",
              "      <th>id</th>\n",
              "      <th>name</th>\n",
              "      <th>nationality</th>\n",
              "      <th>sex</th>\n",
              "      <th>dob</th>\n",
              "      <th>height</th>\n",
              "      <th>weight</th>\n",
              "      <th>sport</th>\n",
              "      <th>gold</th>\n",
              "      <th>silver</th>\n",
              "      <th>bronze</th>\n",
              "    </tr>\n",
              "  </thead>\n",
              "  <tbody>\n",
              "    <tr>\n",
              "      <th>0</th>\n",
              "      <td>736041664</td>\n",
              "      <td>A Jesus Garcia</td>\n",
              "      <td>ESP</td>\n",
              "      <td>male</td>\n",
              "      <td>10/17/69</td>\n",
              "      <td>1.72</td>\n",
              "      <td>64.0</td>\n",
              "      <td>athletics</td>\n",
              "      <td>0</td>\n",
              "      <td>0</td>\n",
              "      <td>0</td>\n",
              "    </tr>\n",
              "    <tr>\n",
              "      <th>1</th>\n",
              "      <td>532037425</td>\n",
              "      <td>A Lam Shin</td>\n",
              "      <td>KOR</td>\n",
              "      <td>female</td>\n",
              "      <td>9/23/86</td>\n",
              "      <td>1.68</td>\n",
              "      <td>56.0</td>\n",
              "      <td>fencing</td>\n",
              "      <td>0</td>\n",
              "      <td>0</td>\n",
              "      <td>0</td>\n",
              "    </tr>\n",
              "    <tr>\n",
              "      <th>2</th>\n",
              "      <td>435962603</td>\n",
              "      <td>Aaron Brown</td>\n",
              "      <td>CAN</td>\n",
              "      <td>male</td>\n",
              "      <td>5/27/92</td>\n",
              "      <td>1.98</td>\n",
              "      <td>79.0</td>\n",
              "      <td>athletics</td>\n",
              "      <td>0</td>\n",
              "      <td>0</td>\n",
              "      <td>1</td>\n",
              "    </tr>\n",
              "    <tr>\n",
              "      <th>3</th>\n",
              "      <td>521041435</td>\n",
              "      <td>Aaron Cook</td>\n",
              "      <td>MDA</td>\n",
              "      <td>male</td>\n",
              "      <td>1/2/91</td>\n",
              "      <td>1.83</td>\n",
              "      <td>80.0</td>\n",
              "      <td>taekwondo</td>\n",
              "      <td>0</td>\n",
              "      <td>0</td>\n",
              "      <td>0</td>\n",
              "    </tr>\n",
              "    <tr>\n",
              "      <th>4</th>\n",
              "      <td>33922579</td>\n",
              "      <td>Aaron Gate</td>\n",
              "      <td>NZL</td>\n",
              "      <td>male</td>\n",
              "      <td>11/26/90</td>\n",
              "      <td>1.81</td>\n",
              "      <td>71.0</td>\n",
              "      <td>cycling</td>\n",
              "      <td>0</td>\n",
              "      <td>0</td>\n",
              "      <td>0</td>\n",
              "    </tr>\n",
              "    <tr>\n",
              "      <th>...</th>\n",
              "      <td>...</td>\n",
              "      <td>...</td>\n",
              "      <td>...</td>\n",
              "      <td>...</td>\n",
              "      <td>...</td>\n",
              "      <td>...</td>\n",
              "      <td>...</td>\n",
              "      <td>...</td>\n",
              "      <td>...</td>\n",
              "      <td>...</td>\n",
              "      <td>...</td>\n",
              "    </tr>\n",
              "    <tr>\n",
              "      <th>11533</th>\n",
              "      <td>265605954</td>\n",
              "      <td>Zurian Hechavarria</td>\n",
              "      <td>CUB</td>\n",
              "      <td>female</td>\n",
              "      <td>8/10/95</td>\n",
              "      <td>1.64</td>\n",
              "      <td>58.0</td>\n",
              "      <td>athletics</td>\n",
              "      <td>0</td>\n",
              "      <td>0</td>\n",
              "      <td>0</td>\n",
              "    </tr>\n",
              "    <tr>\n",
              "      <th>11534</th>\n",
              "      <td>214461847</td>\n",
              "      <td>Zuzana Hejnova</td>\n",
              "      <td>CZE</td>\n",
              "      <td>female</td>\n",
              "      <td>12/19/86</td>\n",
              "      <td>1.73</td>\n",
              "      <td>63.0</td>\n",
              "      <td>athletics</td>\n",
              "      <td>0</td>\n",
              "      <td>0</td>\n",
              "      <td>0</td>\n",
              "    </tr>\n",
              "    <tr>\n",
              "      <th>11535</th>\n",
              "      <td>88361042</td>\n",
              "      <td>di Xiao</td>\n",
              "      <td>CHN</td>\n",
              "      <td>male</td>\n",
              "      <td>5/14/91</td>\n",
              "      <td>1.85</td>\n",
              "      <td>100.0</td>\n",
              "      <td>wrestling</td>\n",
              "      <td>0</td>\n",
              "      <td>0</td>\n",
              "      <td>0</td>\n",
              "    </tr>\n",
              "    <tr>\n",
              "      <th>11536</th>\n",
              "      <td>900065925</td>\n",
              "      <td>le Quoc Toan Tran</td>\n",
              "      <td>VIE</td>\n",
              "      <td>male</td>\n",
              "      <td>4/5/89</td>\n",
              "      <td>1.60</td>\n",
              "      <td>56.0</td>\n",
              "      <td>weightlifting</td>\n",
              "      <td>0</td>\n",
              "      <td>0</td>\n",
              "      <td>0</td>\n",
              "    </tr>\n",
              "    <tr>\n",
              "      <th>11537</th>\n",
              "      <td>711404576</td>\n",
              "      <td>le Roux Hamman</td>\n",
              "      <td>RSA</td>\n",
              "      <td>male</td>\n",
              "      <td>1/6/92</td>\n",
              "      <td>1.85</td>\n",
              "      <td>70.0</td>\n",
              "      <td>athletics</td>\n",
              "      <td>0</td>\n",
              "      <td>0</td>\n",
              "      <td>0</td>\n",
              "    </tr>\n",
              "  </tbody>\n",
              "</table>\n",
              "<p>11538 rows × 11 columns</p>\n",
              "</div>"
            ],
            "text/plain": [
              "              id                name nationality  ... gold silver  bronze\n",
              "0      736041664      A Jesus Garcia         ESP  ...    0      0       0\n",
              "1      532037425          A Lam Shin         KOR  ...    0      0       0\n",
              "2      435962603         Aaron Brown         CAN  ...    0      0       1\n",
              "3      521041435          Aaron Cook         MDA  ...    0      0       0\n",
              "4       33922579          Aaron Gate         NZL  ...    0      0       0\n",
              "...          ...                 ...         ...  ...  ...    ...     ...\n",
              "11533  265605954  Zurian Hechavarria         CUB  ...    0      0       0\n",
              "11534  214461847      Zuzana Hejnova         CZE  ...    0      0       0\n",
              "11535   88361042             di Xiao         CHN  ...    0      0       0\n",
              "11536  900065925   le Quoc Toan Tran         VIE  ...    0      0       0\n",
              "11537  711404576      le Roux Hamman         RSA  ...    0      0       0\n",
              "\n",
              "[11538 rows x 11 columns]"
            ]
          },
          "metadata": {
            "tags": []
          },
          "execution_count": 4
        }
      ]
    },
    {
      "cell_type": "code",
      "metadata": {
        "id": "pMxkOuE5p6_N"
      },
      "source": [
        "#Original copy for report section\n",
        "df_copy = dataset.copy()"
      ],
      "execution_count": null,
      "outputs": []
    },
    {
      "cell_type": "markdown",
      "metadata": {
        "id": "9JScp0ZQqceb"
      },
      "source": [
        "##Build appropriate tables and graphs for each dataframe variable"
      ]
    },
    {
      "cell_type": "markdown",
      "metadata": {
        "id": "MIUffAIfLF1D"
      },
      "source": [
        "#### Pre-processing of the base"
      ]
    },
    {
      "cell_type": "code",
      "metadata": {
        "id": "iTGs7aRYyMRl"
      },
      "source": [
        "#Calculating age\n",
        "today = pd.to_datetime('08/01/2016') #Primeiro dia do mês das Olimpíadas de 2016.\n",
        "\n",
        "df_copy['dob'] = pd.to_datetime(df_copy['dob'], format='%m/%d/%y')\n",
        "df_copy['dob'] = df_copy['dob'].where(df_copy['dob'] < today, df_copy['dob'] -  np.timedelta64(100, 'Y'))\n",
        "df_copy['age'] = (today - df_copy['dob']).astype('<m8[Y]')\n",
        "df_copy['age'] = df_copy.age.fillna(0).astype(int)\n"
      ],
      "execution_count": null,
      "outputs": []
    },
    {
      "cell_type": "code",
      "metadata": {
        "id": "MLrhyzvuyH2e"
      },
      "source": [
        "#Removing NaN\n",
        "df_copy.dropna(inplace = True)"
      ],
      "execution_count": null,
      "outputs": []
    },
    {
      "cell_type": "code",
      "metadata": {
        "id": "2M56sp5sx_b6",
        "colab": {
          "base_uri": "https://localhost:8080/",
          "height": 415
        },
        "outputId": "0071018a-0d6e-41ca-c0ec-c5773f38b60d"
      },
      "source": [
        "#Removing the id, name, dob columns\n",
        "df_copy.drop(columns = ['id', 'name', 'dob'], inplace = True)\n",
        "df_copy"
      ],
      "execution_count": null,
      "outputs": [
        {
          "output_type": "execute_result",
          "data": {
            "text/html": [
              "<div>\n",
              "<style scoped>\n",
              "    .dataframe tbody tr th:only-of-type {\n",
              "        vertical-align: middle;\n",
              "    }\n",
              "\n",
              "    .dataframe tbody tr th {\n",
              "        vertical-align: top;\n",
              "    }\n",
              "\n",
              "    .dataframe thead th {\n",
              "        text-align: right;\n",
              "    }\n",
              "</style>\n",
              "<table border=\"1\" class=\"dataframe\">\n",
              "  <thead>\n",
              "    <tr style=\"text-align: right;\">\n",
              "      <th></th>\n",
              "      <th>nationality</th>\n",
              "      <th>sex</th>\n",
              "      <th>height</th>\n",
              "      <th>weight</th>\n",
              "      <th>sport</th>\n",
              "      <th>gold</th>\n",
              "      <th>silver</th>\n",
              "      <th>bronze</th>\n",
              "      <th>age</th>\n",
              "    </tr>\n",
              "  </thead>\n",
              "  <tbody>\n",
              "    <tr>\n",
              "      <th>0</th>\n",
              "      <td>ESP</td>\n",
              "      <td>male</td>\n",
              "      <td>1.72</td>\n",
              "      <td>64.0</td>\n",
              "      <td>athletics</td>\n",
              "      <td>0</td>\n",
              "      <td>0</td>\n",
              "      <td>0</td>\n",
              "      <td>46</td>\n",
              "    </tr>\n",
              "    <tr>\n",
              "      <th>1</th>\n",
              "      <td>KOR</td>\n",
              "      <td>female</td>\n",
              "      <td>1.68</td>\n",
              "      <td>56.0</td>\n",
              "      <td>fencing</td>\n",
              "      <td>0</td>\n",
              "      <td>0</td>\n",
              "      <td>0</td>\n",
              "      <td>29</td>\n",
              "    </tr>\n",
              "    <tr>\n",
              "      <th>2</th>\n",
              "      <td>CAN</td>\n",
              "      <td>male</td>\n",
              "      <td>1.98</td>\n",
              "      <td>79.0</td>\n",
              "      <td>athletics</td>\n",
              "      <td>0</td>\n",
              "      <td>0</td>\n",
              "      <td>1</td>\n",
              "      <td>24</td>\n",
              "    </tr>\n",
              "    <tr>\n",
              "      <th>3</th>\n",
              "      <td>MDA</td>\n",
              "      <td>male</td>\n",
              "      <td>1.83</td>\n",
              "      <td>80.0</td>\n",
              "      <td>taekwondo</td>\n",
              "      <td>0</td>\n",
              "      <td>0</td>\n",
              "      <td>0</td>\n",
              "      <td>25</td>\n",
              "    </tr>\n",
              "    <tr>\n",
              "      <th>4</th>\n",
              "      <td>NZL</td>\n",
              "      <td>male</td>\n",
              "      <td>1.81</td>\n",
              "      <td>71.0</td>\n",
              "      <td>cycling</td>\n",
              "      <td>0</td>\n",
              "      <td>0</td>\n",
              "      <td>0</td>\n",
              "      <td>25</td>\n",
              "    </tr>\n",
              "    <tr>\n",
              "      <th>...</th>\n",
              "      <td>...</td>\n",
              "      <td>...</td>\n",
              "      <td>...</td>\n",
              "      <td>...</td>\n",
              "      <td>...</td>\n",
              "      <td>...</td>\n",
              "      <td>...</td>\n",
              "      <td>...</td>\n",
              "      <td>...</td>\n",
              "    </tr>\n",
              "    <tr>\n",
              "      <th>11533</th>\n",
              "      <td>CUB</td>\n",
              "      <td>female</td>\n",
              "      <td>1.64</td>\n",
              "      <td>58.0</td>\n",
              "      <td>athletics</td>\n",
              "      <td>0</td>\n",
              "      <td>0</td>\n",
              "      <td>0</td>\n",
              "      <td>20</td>\n",
              "    </tr>\n",
              "    <tr>\n",
              "      <th>11534</th>\n",
              "      <td>CZE</td>\n",
              "      <td>female</td>\n",
              "      <td>1.73</td>\n",
              "      <td>63.0</td>\n",
              "      <td>athletics</td>\n",
              "      <td>0</td>\n",
              "      <td>0</td>\n",
              "      <td>0</td>\n",
              "      <td>29</td>\n",
              "    </tr>\n",
              "    <tr>\n",
              "      <th>11535</th>\n",
              "      <td>CHN</td>\n",
              "      <td>male</td>\n",
              "      <td>1.85</td>\n",
              "      <td>100.0</td>\n",
              "      <td>wrestling</td>\n",
              "      <td>0</td>\n",
              "      <td>0</td>\n",
              "      <td>0</td>\n",
              "      <td>25</td>\n",
              "    </tr>\n",
              "    <tr>\n",
              "      <th>11536</th>\n",
              "      <td>VIE</td>\n",
              "      <td>male</td>\n",
              "      <td>1.60</td>\n",
              "      <td>56.0</td>\n",
              "      <td>weightlifting</td>\n",
              "      <td>0</td>\n",
              "      <td>0</td>\n",
              "      <td>0</td>\n",
              "      <td>27</td>\n",
              "    </tr>\n",
              "    <tr>\n",
              "      <th>11537</th>\n",
              "      <td>RSA</td>\n",
              "      <td>male</td>\n",
              "      <td>1.85</td>\n",
              "      <td>70.0</td>\n",
              "      <td>athletics</td>\n",
              "      <td>0</td>\n",
              "      <td>0</td>\n",
              "      <td>0</td>\n",
              "      <td>24</td>\n",
              "    </tr>\n",
              "  </tbody>\n",
              "</table>\n",
              "<p>10858 rows × 9 columns</p>\n",
              "</div>"
            ],
            "text/plain": [
              "      nationality     sex  height  weight  ... gold  silver  bronze  age\n",
              "0             ESP    male    1.72    64.0  ...    0       0       0   46\n",
              "1             KOR  female    1.68    56.0  ...    0       0       0   29\n",
              "2             CAN    male    1.98    79.0  ...    0       0       1   24\n",
              "3             MDA    male    1.83    80.0  ...    0       0       0   25\n",
              "4             NZL    male    1.81    71.0  ...    0       0       0   25\n",
              "...           ...     ...     ...     ...  ...  ...     ...     ...  ...\n",
              "11533         CUB  female    1.64    58.0  ...    0       0       0   20\n",
              "11534         CZE  female    1.73    63.0  ...    0       0       0   29\n",
              "11535         CHN    male    1.85   100.0  ...    0       0       0   25\n",
              "11536         VIE    male    1.60    56.0  ...    0       0       0   27\n",
              "11537         RSA    male    1.85    70.0  ...    0       0       0   24\n",
              "\n",
              "[10858 rows x 9 columns]"
            ]
          },
          "metadata": {
            "tags": []
          },
          "execution_count": 8
        }
      ]
    },
    {
      "cell_type": "markdown",
      "metadata": {
        "id": "souFmzxvIZrV"
      },
      "source": [
        "####Number of athletes by gender"
      ]
    },
    {
      "cell_type": "code",
      "metadata": {
        "id": "yikNoRPwJ185"
      },
      "source": [
        "#Acquisition of existing genres in the dataset and their respective amounts of participants.\n",
        "fem_masc = df_copy['sex'].groupby(df_copy.sex).count()\n",
        "genero = fem_masc.index.array\n",
        "valores = fem_masc.array"
      ],
      "execution_count": null,
      "outputs": []
    },
    {
      "cell_type": "code",
      "metadata": {
        "id": "ZVS-Am_443qj",
        "colab": {
          "base_uri": "https://localhost:8080/",
          "height": 464
        },
        "outputId": "a8ab5243-3f70-4c38-f330-f1a91f909a02"
      },
      "source": [
        "#Graph showing number of athletes by gender\n",
        "fig = plt.figure(figsize = (10, 7), facecolor = 'w')\n",
        "ax  = fig.add_subplot(1, 1, 1)\n",
        "\n",
        "barras = ax.bar(x = genero, height = valores, width = 0.7)\n",
        "barras[0].set_color('olive')\n",
        "barras[1].set_color('teal')\n",
        "\n",
        "plt.title('Quantidade de atletas por gênero', fontweight = 'bold')\n",
        "plt.xlabel('Gênero', fontweight = 'bold')\n",
        "plt.ylabel('# de atletas', fontweight = 'bold')\n",
        "\n",
        "for index, data in enumerate(valores):\n",
        "  #plt.text(x = (index-0.04), y = (data*1.01), s = data, fontweight = 'bold', fontdict = dict(fontsize = 12))\n",
        "  plt.text(x = index, y = (data*1.013), s = data, horizontalalignment = 'center', fontweight = 'bold', fontdict = dict(fontsize = 12))\n",
        "plt.show()"
      ],
      "execution_count": null,
      "outputs": [
        {
          "output_type": "display_data",
          "data": {
            "image/png": "[encoded data removed]",
            "text/plain": [
              "<Figure size 720x504 with 1 Axes>"
            ]
          },
          "metadata": {
            "tags": []
          }
        }
      ]
    },
    {
      "cell_type": "markdown",
      "metadata": {
        "id": "9BbYHbPKhBXg"
      },
      "source": [
        "The *dataset* has more male athletes than female athletes, with a difference of 866 people between them. This graph confirms what we typically see in the Olympics in relation to the participating genders."
      ]
    },
    {
      "cell_type": "markdown",
      "metadata": {
        "id": "IUwnhfARm3W3"
      },
      "source": [
        "####Number of athletes by age"
      ]
    },
    {
      "cell_type": "code",
      "metadata": {
        "id": "Nrqqak3Rm9m0"
      },
      "source": [
        "idade_atletas = df_copy['age'].groupby(df_copy.age).count()\n",
        "idades = idade_atletas.index.array\n",
        "quantidades = idade_atletas.array"
      ],
      "execution_count": null,
      "outputs": []
    },
    {
      "cell_type": "code",
      "metadata": {
        "id": "QsrLHDCJm9nN",
        "colab": {
          "base_uri": "https://localhost:8080/",
          "height": 464
        },
        "outputId": "ce17f3d9-ae19-4056-e8bc-c384b034e249"
      },
      "source": [
        "#Graph showing number of athletes by age\n",
        "fig = plt.figure(figsize = (10, 7), facecolor = 'w')\n",
        "ax = fig.add_subplot(1, 1, 1)\n",
        "\n",
        "barras = ax.bar(x = idades, height = quantidades, width = 0.7)\n",
        "barras[9].set_color('orange')\n",
        "barras[10].set_color('orange')\n",
        "barras[11].set_color('orange')\n",
        "barras[12].set_color('orange')\n",
        "barras[13].set_color('orange')\n",
        "barras[14].set_color('orange')\n",
        "\n",
        "plt.title('Quantidade de atletas por idade', fontweight = 'bold')\n",
        "plt.xlabel('Idades', fontweight = 'bold')\n",
        "plt.ylabel('# de atletas', fontweight = 'bold')\n",
        "\n",
        "plt.xticks(np.arange(15, 70, step = 5))\n",
        "\n",
        "for index, data in enumerate(quantidades):\n",
        "  if 824 <= data <= 878:\n",
        "    plt.text(x = (index+12.5), y = (data*0.99), s = data, rotation = '90', fontweight = 'bold', fontdict = dict(fontsize = 12))\n",
        "\n",
        "plt.show()"
      ],
      "execution_count": null,
      "outputs": [
        {
          "output_type": "display_data",
          "data": {
            "image/png": "[encoded data removed]",
            "text/plain": [
              "<Figure size 720x504 with 1 Axes>"
            ]
          },
          "metadata": {
            "tags": []
          }
        }
      ]
    },
    {
      "cell_type": "markdown",
      "metadata": {
        "id": "sj5Po7vohU_V"
      },
      "source": [
        "We have the most instances with ages ranging from 22 to 27, with the highest age being 25.\n",
        "\n",
        "It is also interesting that we have Olympic athletes with ages up to almost 55 years old. The youngest athlete in this dataset is under 15 years old."
      ]
    },
    {
      "cell_type": "markdown",
      "metadata": {
        "id": "9u-xqU2b2cvI"
      },
      "source": [
        "####Number of athletes by height"
      ]
    },
    {
      "cell_type": "code",
      "metadata": {
        "id": "by9cMfhu2g9p"
      },
      "source": [
        "altura_atletas = df_copy['height'].groupby(df_copy.height).count()\n",
        "alturas = altura_atletas.index.array\n",
        "valores = altura_atletas.array"
      ],
      "execution_count": null,
      "outputs": []
    },
    {
      "cell_type": "code",
      "metadata": {
        "id": "PIYvCUPU2g98",
        "colab": {
          "base_uri": "https://localhost:8080/",
          "height": 464
        },
        "outputId": "f8859bcd-4ce1-4a23-87f9-efb5cffba7dd"
      },
      "source": [
        "#Graph showing number of athletes by height\n",
        "fig = plt.figure(figsize = (10, 7), facecolor = 'w')\n",
        "ax = fig.add_subplot(1, 1, 1)\n",
        "\n",
        "barras = ax.bar(x = alturas, height = valores, width = -0.007)\n",
        "barras[34].set_color('orange')\n",
        "barras[44].set_color('orange')\n",
        "\n",
        "plt.title('Quantidade de atletas por altura', fontweight = 'bold')\n",
        "plt.xlabel('Alturas', fontweight = 'bold')\n",
        "plt.ylabel('# de atletas', fontweight = 'bold')\n",
        "\n",
        "plt.xticks(np.arange(1.2, 2.21, step = 0.1))\n",
        "\n",
        "plt.annotate('558', xy = (1.7, 558), xytext = (1.75, 558), arrowprops = dict(facecolor = 'black'))\n",
        "plt.annotate('559', xy = (1.8, 559), xytext = (1.85, 559), arrowprops = dict(facecolor = 'black'))\n",
        "\n",
        "plt.show()"
      ],
      "execution_count": null,
      "outputs": [
        {
          "output_type": "display_data",
          "data": {
            "image/png": "[encoded data removed]",
            "text/plain": [
              "<Figure size 720x504 with 1 Axes>"
            ]
          },
          "metadata": {
            "tags": []
          }
        }
      ]
    },
    {
      "cell_type": "markdown",
      "metadata": {
        "id": "CjyNjFmxRICD"
      },
      "source": [
        "The heights with the highest number of athletes are 1.70cm (558) and 1.80cm (559). This behavior may be explained by the fact that most athletes are male, as shown previously."
      ]
    },
    {
      "cell_type": "markdown",
      "metadata": {
        "id": "YryAcHUeqTAz"
      },
      "source": [
        "####Number of athletes by weight"
      ]
    },
    {
      "cell_type": "code",
      "metadata": {
        "id": "pjFHHQu_qTA2"
      },
      "source": [
        "peso_atletas = df_copy['weight'].groupby(df_copy.weight).count()\n",
        "pesos = peso_atletas.index.array\n",
        "quantidades = peso_atletas.array"
      ],
      "execution_count": null,
      "outputs": []
    },
    {
      "cell_type": "code",
      "metadata": {
        "id": "qHSM7sTaqTBM",
        "colab": {
          "base_uri": "https://localhost:8080/",
          "height": 464
        },
        "outputId": "484bc50b-dcb1-4e59-8eb3-d9df788d2fdf"
      },
      "source": [
        "#Graph showing number of athletes by weight\n",
        "fig = plt.figure(figsize = (10, 7), facecolor = 'w')\n",
        "ax = fig.add_subplot(1, 1, 1)\n",
        "\n",
        "barras = ax.bar(x = pesos, height = quantidades, width = 0.7)\n",
        "barras[37].set_color('orange')\n",
        "\n",
        "plt.title('Quantidade de atletas por peso', fontweight = 'bold')\n",
        "plt.xlabel('Pesos', fontweight = 'bold')\n",
        "plt.ylabel('# de atletas', fontweight = 'bold')\n",
        "\n",
        "plt.xticks(np.arange(30, 170, step = 10))\n",
        "\n",
        "for index, data in enumerate(quantidades):\n",
        "  if data == 481:\n",
        "    plt.text(x = (index/0.555), y = (data*1.01), s = data, fontweight = 'bold', fontdict = dict(fontsize = 12))\n",
        "\n",
        "plt.show()"
      ],
      "execution_count": null,
      "outputs": [
        {
          "output_type": "display_data",
          "data": {
            "image/png": "[encoded data removed]",
            "text/plain": [
              "<Figure size 720x504 with 1 Axes>"
            ]
          },
          "metadata": {
            "tags": []
          }
        }
      ]
    },
    {
      "cell_type": "markdown",
      "metadata": {
        "id": "7LUuR7pbTdf8"
      },
      "source": [
        "The weight with the highest number of athletes is 70kg (481)."
      ]
    },
    {
      "cell_type": "markdown",
      "metadata": {
        "id": "Cz3N3KAgV1Rq"
      },
      "source": [
        "####Number of medals by category and nationality"
      ]
    },
    {
      "cell_type": "code",
      "metadata": {
        "id": "68A9QbobbB5m"
      },
      "source": [
        "def sum_medals(_df):\n",
        "  lista = list()\n",
        "\n",
        "  for index, row in _df.iterrows():\n",
        "    cont = 0\n",
        "    cont = row['gold'] + row['silver'] + row['bronze']\n",
        "    lista.append(cont)\n",
        "\n",
        "  return lista"
      ],
      "execution_count": null,
      "outputs": []
    },
    {
      "cell_type": "code",
      "metadata": {
        "id": "7Uq5vaMZNR1L",
        "colab": {
          "base_uri": "https://localhost:8080/",
          "height": 539
        },
        "outputId": "36fec3ac-0da8-4089-c7df-f55673c52190"
      },
      "source": [
        "df_agrupado_medalhas = df_copy[['gold', 'silver', 'bronze']].groupby(by=df_copy['nationality']).sum()\n",
        "df_agrupado_medalhas['total'] = sum_medals(df_agrupado_medalhas)\n",
        "df_agrupado_medalhas = df_agrupado_medalhas.sort_values('total', ascending= False).head(15)\n",
        "df_agrupado_medalhas"
      ],
      "execution_count": null,
      "outputs": [
        {
          "output_type": "execute_result",
          "data": {
            "text/html": [
              "<div>\n",
              "<style scoped>\n",
              "    .dataframe tbody tr th:only-of-type {\n",
              "        vertical-align: middle;\n",
              "    }\n",
              "\n",
              "    .dataframe tbody tr th {\n",
              "        vertical-align: top;\n",
              "    }\n",
              "\n",
              "    .dataframe thead th {\n",
              "        text-align: right;\n",
              "    }\n",
              "</style>\n",
              "<table border=\"1\" class=\"dataframe\">\n",
              "  <thead>\n",
              "    <tr style=\"text-align: right;\">\n",
              "      <th></th>\n",
              "      <th>gold</th>\n",
              "      <th>silver</th>\n",
              "      <th>bronze</th>\n",
              "      <th>total</th>\n",
              "    </tr>\n",
              "    <tr>\n",
              "      <th>nationality</th>\n",
              "      <th></th>\n",
              "      <th></th>\n",
              "      <th></th>\n",
              "      <th></th>\n",
              "    </tr>\n",
              "  </thead>\n",
              "  <tbody>\n",
              "    <tr>\n",
              "      <th>USA</th>\n",
              "      <td>136</td>\n",
              "      <td>52</td>\n",
              "      <td>70</td>\n",
              "      <td>258</td>\n",
              "    </tr>\n",
              "    <tr>\n",
              "      <th>GER</th>\n",
              "      <td>49</td>\n",
              "      <td>44</td>\n",
              "      <td>66</td>\n",
              "      <td>159</td>\n",
              "    </tr>\n",
              "    <tr>\n",
              "      <th>GBR</th>\n",
              "      <td>63</td>\n",
              "      <td>54</td>\n",
              "      <td>24</td>\n",
              "      <td>141</td>\n",
              "    </tr>\n",
              "    <tr>\n",
              "      <th>CHN</th>\n",
              "      <td>46</td>\n",
              "      <td>29</td>\n",
              "      <td>34</td>\n",
              "      <td>109</td>\n",
              "    </tr>\n",
              "    <tr>\n",
              "      <th>RUS</th>\n",
              "      <td>51</td>\n",
              "      <td>25</td>\n",
              "      <td>31</td>\n",
              "      <td>107</td>\n",
              "    </tr>\n",
              "    <tr>\n",
              "      <th>FRA</th>\n",
              "      <td>18</td>\n",
              "      <td>52</td>\n",
              "      <td>19</td>\n",
              "      <td>89</td>\n",
              "    </tr>\n",
              "    <tr>\n",
              "      <th>AUS</th>\n",
              "      <td>23</td>\n",
              "      <td>34</td>\n",
              "      <td>25</td>\n",
              "      <td>82</td>\n",
              "    </tr>\n",
              "    <tr>\n",
              "      <th>ITA</th>\n",
              "      <td>8</td>\n",
              "      <td>40</td>\n",
              "      <td>24</td>\n",
              "      <td>72</td>\n",
              "    </tr>\n",
              "    <tr>\n",
              "      <th>CAN</th>\n",
              "      <td>4</td>\n",
              "      <td>4</td>\n",
              "      <td>61</td>\n",
              "      <td>69</td>\n",
              "    </tr>\n",
              "    <tr>\n",
              "      <th>JPN</th>\n",
              "      <td>17</td>\n",
              "      <td>13</td>\n",
              "      <td>35</td>\n",
              "      <td>65</td>\n",
              "    </tr>\n",
              "    <tr>\n",
              "      <th>SRB</th>\n",
              "      <td>14</td>\n",
              "      <td>26</td>\n",
              "      <td>13</td>\n",
              "      <td>53</td>\n",
              "    </tr>\n",
              "    <tr>\n",
              "      <th>BRA</th>\n",
              "      <td>36</td>\n",
              "      <td>8</td>\n",
              "      <td>6</td>\n",
              "      <td>50</td>\n",
              "    </tr>\n",
              "    <tr>\n",
              "      <th>NED</th>\n",
              "      <td>9</td>\n",
              "      <td>24</td>\n",
              "      <td>13</td>\n",
              "      <td>46</td>\n",
              "    </tr>\n",
              "    <tr>\n",
              "      <th>ESP</th>\n",
              "      <td>9</td>\n",
              "      <td>19</td>\n",
              "      <td>17</td>\n",
              "      <td>45</td>\n",
              "    </tr>\n",
              "    <tr>\n",
              "      <th>DEN</th>\n",
              "      <td>15</td>\n",
              "      <td>10</td>\n",
              "      <td>16</td>\n",
              "      <td>41</td>\n",
              "    </tr>\n",
              "  </tbody>\n",
              "</table>\n",
              "</div>"
            ],
            "text/plain": [
              "             gold  silver  bronze  total\n",
              "nationality                             \n",
              "USA           136      52      70    258\n",
              "GER            49      44      66    159\n",
              "GBR            63      54      24    141\n",
              "CHN            46      29      34    109\n",
              "RUS            51      25      31    107\n",
              "FRA            18      52      19     89\n",
              "AUS            23      34      25     82\n",
              "ITA             8      40      24     72\n",
              "CAN             4       4      61     69\n",
              "JPN            17      13      35     65\n",
              "SRB            14      26      13     53\n",
              "BRA            36       8       6     50\n",
              "NED             9      24      13     46\n",
              "ESP             9      19      17     45\n",
              "DEN            15      10      16     41"
            ]
          },
          "metadata": {
            "tags": []
          },
          "execution_count": 18
        }
      ]
    },
    {
      "cell_type": "code",
      "metadata": {
        "id": "rcUWwL4yWOKx"
      },
      "source": [
        "df_agrupado_medalhas.reset_index(inplace = True)\n",
        "df_agrupado_medalhas.columns = ['nationality', 'gold', 'silver', 'bronze','total']"
      ],
      "execution_count": null,
      "outputs": []
    },
    {
      "cell_type": "code",
      "metadata": {
        "id": "ADZphl7QWVhy",
        "colab": {
          "base_uri": "https://localhost:8080/",
          "height": 464
        },
        "outputId": "b8717ff9-30e0-45d0-ffa4-80b5ea084b3c"
      },
      "source": [
        "#Gráfico de quantidade de medalhas em cada categoria por nacionalidade\n",
        "fig = plt.figure(figsize = (10, 7), facecolor = 'w')\n",
        "ax = fig.add_subplot(1, 1, 1)\n",
        "\n",
        "nacionalidades = ['USA', 'GER', 'GBR', 'CHN', 'RUS', 'FRA', 'AUS', 'ITA', 'CAN', 'JPN', 'SRB', 'BRA', 'NED', 'ESP', 'DEN']\n",
        "ouro = [136, 49, 63, 46, 51, 18, 23, 8, 4, 17, 14, 36, 9, 9, 15]\n",
        "prata = [52, 44, 54, 29, 25, 52, 34, 40, 4, 13, 26, 8, 24, 19, 10]\n",
        "bronze = [70, 66, 24, 34, 31, 19, 25, 24, 61, 35, 13, 6, 13, 17, 16]\n",
        "\n",
        "ax1 = ax.bar(x = nacionalidades, height = ouro, label = 'ouro', color = 'gold')\n",
        "ax2 = ax.bar(x = nacionalidades, height = prata, label = 'prata', bottom = ouro, color = 'silver')\n",
        "ax3 = ax.bar(x = nacionalidades, height = bronze, label = 'bronze', bottom = np.array(ouro) + np.array(prata), color = 'olive')\n",
        "\n",
        "\n",
        "plt.title('Quantidade de Medalhas em cada Categoria por Nacionalidade', fontweight = 'bold')\n",
        "plt.xlabel('Nacionalidades', fontweight = 'bold')\n",
        "plt.ylabel('# de medalhas', fontweight = 'bold')\n",
        "\n",
        "for r1, r2, r3 in zip(ax1, ax2, ax3):\n",
        "    h1 = r1.get_height()\n",
        "    h2 = r2.get_height()\n",
        "    h3 = r3.get_height()\n",
        "\n",
        "    if h1 != 0:\n",
        "      plt.text(r1.get_x() + r1.get_width() / 2., h1 / 2., '%d' % h1, ha = 'center', va ='center', color = 'black', fontsize = 12, fontweight = 'bold')\n",
        "    if h2 != 0:\n",
        "      plt.text(r2.get_x() + r2.get_width() / 2., h1 + h2 / 2., '%d' % h2, ha ='center', va ='center', color = 'black', fontsize = 12, fontweight = 'bold')\n",
        "    if h3 != 0:\n",
        "      plt.text(r3.get_x() + r3.get_width() / 2., h1 + h2 + h3 / 2., '%d' % h3, ha = 'center', va ='center', color = 'black', fontsize = 12, fontweight = 'bold')\n",
        "\n",
        "plt.legend()\n",
        "plt.show()"
      ],
      "execution_count": null,
      "outputs": [
        {
          "output_type": "display_data",
          "data": {
            "image/png": "[encoded data removed]",
            "text/plain": [
              "<Figure size 720x504 with 1 Axes>"
            ]
          },
          "metadata": {
            "tags": []
          }
        }
      ]
    },
    {
      "cell_type": "markdown",
      "metadata": {
        "id": "KmK21C4ohk2g"
      },
      "source": [
        "The nationalities that have the highest number of medals, in total, are the United States, Germany, Great Britain, China and Russia. These are the only countries whose counts reach the third digit."
      ]
    },
    {
      "cell_type": "markdown",
      "metadata": {
        "id": "UnFAY0ZljFZG"
      },
      "source": [
        "#### Number of medals won by groups"
      ]
    },
    {
      "cell_type": "code",
      "metadata": {
        "id": "3V9EgMMXltm5"
      },
      "source": [
        "def sum_count (_df, coluna1, coluna2, coluna3, condicao):\n",
        "  cont = 0\n",
        "\n",
        "  if (condicao == 1):  #apenas um tipo de medalha, as demais são 0\n",
        "    for index, row in _df.iterrows():\n",
        "      if( row[coluna1] > 0 and row[coluna2] == 0 and row[coluna3] == 0):\n",
        "        cont = cont + 1\n",
        "  elif (condicao == 2): #conta duas medalhas\n",
        "    for index, row in _df.iterrows():\n",
        "      if( row[coluna1] > 0 and row[coluna2] > 0 and row[coluna3] == 0):\n",
        "        cont = cont + 1\n",
        "  elif (condicao == 3):\n",
        "    for index, row in _df.iterrows():\n",
        "      if( row[coluna1] > 0 and row[coluna2] > 0 and row[coluna3] > 0):\n",
        "        cont = cont + 1\n",
        "  else:\n",
        "    #ganhou nenhuma medalha\n",
        "    for index, row in _df.iterrows():\n",
        "      if( row[coluna1] == 0 and row[coluna2] == 0 and row[coluna3] == 0):\n",
        "        cont = cont + 1\n",
        "\n",
        "  return cont"
      ],
      "execution_count": null,
      "outputs": []
    },
    {
      "cell_type": "code",
      "metadata": {
        "id": "Zn1kFMjEzFCW",
        "colab": {
          "base_uri": "https://localhost:8080/",
          "height": 553
        },
        "outputId": "64901756-a28e-4762-e846-ff6bec675dc6"
      },
      "source": [
        "#Graph showing number of medals per athlete\n",
        "#Only one type of medal received.\n",
        "\n",
        "print(\"Qntde. de atletas que receberam somente uma das 3 medalhas:\\n\")\n",
        "\n",
        "plt.bar(\"Ouro\", sum_count(dataset, \"gold\", \"silver\", \"bronze\", 1))\n",
        "\n",
        "plt.bar(\"Prata\", sum_count(dataset, \"silver\", \"gold\", \"bronze\", 1))\n",
        "\n",
        "plt.bar(\"Bronze\", sum_count(dataset, \"bronze\", \"gold\", \"silver\", 1))\n",
        "\n",
        "plt.xlabel('Tipos')\n",
        "plt.ylabel('Quantidade')\n",
        "\n",
        "plt.title('Tipos de Medalhas x Quantidade Recebida')\n",
        "\n",
        "plt.show()"
      ],
      "execution_count": null,
      "outputs": [
        {
          "output_type": "stream",
          "text": [
            "Qntde. de atletas que receberam somente uma das 3 medalhas:\n",
            "\n"
          ],
          "name": "stdout"
        },
        {
          "output_type": "display_data",
          "data": {
            "image/png": "[encoded data removed]",
            "text/plain": [
              "<Figure size 864x576 with 1 Axes>"
            ]
          },
          "metadata": {
            "tags": []
          }
        }
      ]
    },
    {
      "cell_type": "markdown",
      "metadata": {
        "id": "NgEMMkr6hrT0"
      },
      "source": [
        "Comparing the data in the graph above, we see that we have a greater number of athletes who received only bronze medals throughout the Olympics."
      ]
    },
    {
      "cell_type": "code",
      "metadata": {
        "id": "SBka-wwuzMF-",
        "colab": {
          "base_uri": "https://localhost:8080/",
          "height": 553
        },
        "outputId": "9f2f282b-364a-4acd-b27a-ab6837181347"
      },
      "source": [
        "print(\"Qntde. de atletas que receberam mais de um tipo de medalha:\\n\")\n",
        "\n",
        "plt.bar(\"O + P\", sum_count(dataset, \"gold\", \"silver\", \"bronze\", 2))\n",
        "\n",
        "plt.bar(\"O + B\", sum_count(dataset, \"gold\", \"bronze\", \"silver\", 2))\n",
        "\n",
        "plt.bar(\"B + P\", sum_count(dataset, \"silver\", \"bronze\", \"gold\", 2))\n",
        "\n",
        "plt.bar(\"O + P + S\", sum_count(dataset, \"gold\", \"bronze\", \"silver\", 3))\n",
        "\n",
        "plt.xlabel('Tipos')\n",
        "plt.ylabel('Quantidade')\n",
        "\n",
        "plt.title('Tipos de Medalhas x Quantidade Recebida')\n",
        "\n",
        "plt.show()"
      ],
      "execution_count": null,
      "outputs": [
        {
          "output_type": "stream",
          "text": [
            "Qntde. de atletas que receberam mais de um tipo de medalha:\n",
            "\n"
          ],
          "name": "stdout"
        },
        {
          "output_type": "display_data",
          "data": {
            "image/png": "[encoded data removed]",
            "text/plain": [
              "<Figure size 864x576 with 1 Axes>"
            ]
          },
          "metadata": {
            "tags": []
          }
        }
      ]
    },
    {
      "cell_type": "markdown",
      "metadata": {
        "id": "oHodvtQbhxrO"
      },
      "source": [
        "The graph above shows that we have 30 athletes who received both gold and silver medals. This is the largest count, followed by gold and bronze, silver and bronze, and the combination of all 3 medals.\n",
        "\n",
        "It was also discovered that we have over 9,500 athletes who did not receive any medals."
      ]
    },
    {
      "cell_type": "code",
      "metadata": {
        "id": "yknbHrWWxwsU",
        "colab": {
          "base_uri": "https://localhost:8080/"
        },
        "outputId": "80178b2a-b285-46d7-ba43-ff514ff6bdd7"
      },
      "source": [
        "print(\"Quantia de Atletas que receberam nenhuma medalha:\", sum_count(dataset, \"bronze\", \"gold\", \"silver\", 4))"
      ],
      "execution_count": null,
      "outputs": [
        {
          "output_type": "stream",
          "text": [
            "Quantia de Atletas que receberam nenhuma medalha: 9681\n"
          ],
          "name": "stdout"
        }
      ]
    },
    {
      "cell_type": "markdown",
      "metadata": {
        "id": "xe1NfOS00gpH"
      },
      "source": [
        "#### TOP 10 Nationalities x Quantity. of Athletes"
      ]
    },
    {
      "cell_type": "code",
      "metadata": {
        "id": "nD1bZKfX0xwm"
      },
      "source": [
        "#Dataframe containing the ascending quantity of each nationality\n",
        "df_paises = dataset['nationality'].value_counts().to_frame()\n",
        "df_paises = df_paises.rename(columns = {'nationality':'qntd'})\n",
        "df_paises['nationality'] = df_paises.index\n",
        "df_paises.reset_index(drop=True, inplace=True)\n",
        "df_paises = df_paises[['nationality','qntd']]\n",
        "df_paises.sort_values(ascending=False, inplace=True, by='qntd')"
      ],
      "execution_count": null,
      "outputs": []
    },
    {
      "cell_type": "code",
      "metadata": {
        "id": "BvZq_tMW7w9-",
        "colab": {
          "base_uri": "https://localhost:8080/",
          "height": 551
        },
        "outputId": "68b38f3b-2501-453d-a311-cef40ebfe94a"
      },
      "source": [
        "#Graph with TOP 10 nationalities with the most athletes\n",
        "fig = plt.figure(figsize = (12, 8))\n",
        "df_paises.head(10).plot(kind='bar', x='nationality', y='qntd')\n",
        "plt.xlabel('Nacionalidade')\n",
        "plt.ylabel('Qntd.')\n",
        "plt.title('TOP 10 de Países com mais Atletas')\n",
        "plt.show()"
      ],
      "execution_count": null,
      "outputs": [
        {
          "output_type": "display_data",
          "data": {
            "text/plain": [
              "<Figure size 864x576 with 0 Axes>"
            ]
          },
          "metadata": {
            "tags": []
          }
        },
        {
          "output_type": "display_data",
          "data": {
            "image/png": "[encoded data removed]",
            "text/plain": [
              "<Figure size 864x576 with 1 Axes>"
            ]
          },
          "metadata": {
            "tags": []
          }
        }
      ]
    },
    {
      "cell_type": "markdown",
      "metadata": {
        "id": "_AxePThDjQMf"
      },
      "source": [
        "The United States, Brazil, Germany, Australia, France and China have the largest number of athletes present at the Olympic Games, with more than 500 American athletes.\n",
        "\n",
        "The presence of the United States, Germany, China and Great Britain in this TOP 10 can be correlated with the quantitative classification of medals in the previous session."
      ]
    },
    {
      "cell_type": "code",
      "metadata": {
        "id": "80yCpXZS747O",
        "colab": {
          "base_uri": "https://localhost:8080/",
          "height": 551
        },
        "outputId": "c81809e0-0ad9-4d73-9b42-808ca3d66eda"
      },
      "source": [
        "#Graph with TOP 10 nationalities with the fewest athletes\n",
        "fig = plt.figure(figsize = (12, 8))\n",
        "df_paises.tail(10).plot(kind='bar', x='nationality', y='qntd')\n",
        "plt.xlabel('Nacionalidade')\n",
        "plt.ylabel('Qntd.')\n",
        "plt.title('TOP 10 de Países com menos Atletas')\n",
        "plt.show()"
      ],
      "execution_count": null,
      "outputs": [
        {
          "output_type": "display_data",
          "data": {
            "text/plain": [
              "<Figure size 864x576 with 0 Axes>"
            ]
          },
          "metadata": {
            "tags": []
          }
        },
        {
          "output_type": "display_data",
          "data": {
            "image/png": "[encoded data removed]",
            "text/plain": [
              "<Figure size 864x576 with 1 Axes>"
            ]
          },
          "metadata": {
            "tags": []
          }
        }
      ]
    },
    {
      "cell_type": "markdown",
      "metadata": {
        "id": "K_hM_x1Zjq3s"
      },
      "source": [
        "With the graph above, we can see that the country with the smallest number of Olympic athletes is Tuvalu (number = 1). The other countries have 2 athletes each."
      ]
    },
    {
      "cell_type": "markdown",
      "metadata": {
        "id": "isDzb7eDwVFj"
      },
      "source": [
        "#### Number of athletes per sport"
      ]
    },
    {
      "cell_type": "code",
      "metadata": {
        "id": "oTbpOcuD72qL",
        "colab": {
          "base_uri": "https://localhost:8080/"
        },
        "outputId": "ee3c71b8-1434-457c-ee1e-d838d476855a"
      },
      "source": [
        "esporte_atletas = df_copy['sport'].groupby(df_copy.sport).count()\n",
        "esporte_atletas"
      ],
      "execution_count": null,
      "outputs": [
        {
          "output_type": "execute_result",
          "data": {
            "text/plain": [
              "sport\n",
              "aquatics             1396\n",
              "archery               126\n",
              "athletics            2187\n",
              "badminton             164\n",
              "basketball            284\n",
              "canoe                 327\n",
              "cycling               502\n",
              "equestrian            215\n",
              "fencing               245\n",
              "football              583\n",
              "golf                  115\n",
              "gymnastics            319\n",
              "handball              349\n",
              "hockey                432\n",
              "judo                  377\n",
              "modern pentathlon      72\n",
              "rowing                535\n",
              "rugby sevens          296\n",
              "sailing               372\n",
              "shooting              380\n",
              "table tennis          168\n",
              "taekwondo             125\n",
              "tennis                191\n",
              "triathlon             109\n",
              "volleyball            382\n",
              "weightlifting         258\n",
              "wrestling             349\n",
              "Name: sport, dtype: int64"
            ]
          },
          "metadata": {
            "tags": []
          },
          "execution_count": 28
        }
      ]
    },
    {
      "cell_type": "code",
      "metadata": {
        "id": "pB6umNZm72qS",
        "colab": {
          "base_uri": "https://localhost:8080/"
        },
        "outputId": "e5df1598-8253-4fb3-c77f-3504b988ae4a"
      },
      "source": [
        "esportes = esporte_atletas.index.array\n",
        "esportes"
      ],
      "execution_count": null,
      "outputs": [
        {
          "output_type": "execute_result",
          "data": {
            "text/plain": [
              "<PandasArray>\n",
              "[         'aquatics',           'archery',         'athletics',\n",
              "         'badminton',        'basketball',             'canoe',\n",
              "           'cycling',        'equestrian',           'fencing',\n",
              "          'football',              'golf',        'gymnastics',\n",
              "          'handball',            'hockey',              'judo',\n",
              " 'modern pentathlon',            'rowing',      'rugby sevens',\n",
              "           'sailing',          'shooting',      'table tennis',\n",
              "         'taekwondo',            'tennis',         'triathlon',\n",
              "        'volleyball',     'weightlifting',         'wrestling']\n",
              "Length: 27, dtype: object"
            ]
          },
          "metadata": {
            "tags": []
          },
          "execution_count": 29
        }
      ]
    },
    {
      "cell_type": "code",
      "metadata": {
        "id": "u7HDsTDu72qW",
        "colab": {
          "base_uri": "https://localhost:8080/"
        },
        "outputId": "dcff35ae-6986-46ff-9b77-d25d7cf05caf"
      },
      "source": [
        "quantidades = esporte_atletas.array\n",
        "quantidades"
      ],
      "execution_count": null,
      "outputs": [
        {
          "output_type": "execute_result",
          "data": {
            "text/plain": [
              "<PandasArray>\n",
              "[1396,  126, 2187,  164,  284,  327,  502,  215,  245,  583,  115,  319,  349,\n",
              "  432,  377,   72,  535,  296,  372,  380,  168,  125,  191,  109,  382,  258,\n",
              "  349]\n",
              "Length: 27, dtype: int64"
            ]
          },
          "metadata": {
            "tags": []
          },
          "execution_count": 30
        }
      ]
    },
    {
      "cell_type": "code",
      "metadata": {
        "id": "NDzUNwa572qZ",
        "colab": {
          "base_uri": "https://localhost:8080/",
          "height": 560
        },
        "outputId": "52474dd8-cc5a-4d7d-feb6-85779cf66c96"
      },
      "source": [
        "#Graph showing number of athletes by sport\n",
        "fig = plt.figure(figsize = (10, 7), facecolor = 'w')\n",
        "ax = fig.add_subplot(1, 1, 1)\n",
        "\n",
        "ax.bar(x = esportes, height = quantidades, width = 0.7, color = 'orange')\n",
        "\n",
        "plt.title('Quantidade de atletas por esporte', fontweight = 'bold')\n",
        "plt.xlabel('Esportes', fontweight = 'bold')\n",
        "plt.ylabel('# de atletas', fontweight = 'bold')\n",
        "plt.xticks(rotation = 90)\n",
        "\n",
        "for index, data in enumerate(quantidades):\n",
        "    plt.text(x = (index-0.2), y = (data*1.01), s = data, rotation = '90', fontweight = 'bold', fontdict = dict(fontsize = 12))\n",
        "\n",
        "plt.show()"
      ],
      "execution_count": null,
      "outputs": [
        {
          "output_type": "display_data",
          "data": {
            "image/png": "[encoded data removed]",
            "text/plain": [
              "<Figure size 720x504 with 1 Axes>"
            ]
          },
          "metadata": {
            "tags": []
          }
        }
      ]
    },
    {
      "cell_type": "markdown",
      "metadata": {
        "id": "gYpzTltUV-n1"
      },
      "source": [
        "The sports with the most athletes are aquatics (1396) and track and field (2187). This may be related to the height results shown above, as athletes in both sports tend to be tall."
      ]
    },
    {
      "cell_type": "markdown",
      "metadata": {
        "id": "wC2zXs2azfhI"
      },
      "source": [
        "#### Number of medals by category and by sport"
      ]
    },
    {
      "cell_type": "code",
      "metadata": {
        "id": "9X4el-w5Opkd",
        "colab": {
          "base_uri": "https://localhost:8080/",
          "height": 539
        },
        "outputId": "11087777-9bb1-4185-d5ce-34fc21bb6d3c"
      },
      "source": [
        "df_agrupado_medalhas = df_copy[['gold', 'silver', 'bronze']].groupby(by=df_copy['sport']).sum()\n",
        "df_agrupado_medalhas['total'] = sum_medals(df_agrupado_medalhas)\n",
        "df_agrupado_medalhas = df_agrupado_medalhas.sort_values('total', ascending= False).head(15)\n",
        "df_agrupado_medalhas"
      ],
      "execution_count": null,
      "outputs": [
        {
          "output_type": "execute_result",
          "data": {
            "text/html": [
              "<div>\n",
              "<style scoped>\n",
              "    .dataframe tbody tr th:only-of-type {\n",
              "        vertical-align: middle;\n",
              "    }\n",
              "\n",
              "    .dataframe tbody tr th {\n",
              "        vertical-align: top;\n",
              "    }\n",
              "\n",
              "    .dataframe thead th {\n",
              "        text-align: right;\n",
              "    }\n",
              "</style>\n",
              "<table border=\"1\" class=\"dataframe\">\n",
              "  <thead>\n",
              "    <tr style=\"text-align: right;\">\n",
              "      <th></th>\n",
              "      <th>gold</th>\n",
              "      <th>silver</th>\n",
              "      <th>bronze</th>\n",
              "      <th>total</th>\n",
              "    </tr>\n",
              "    <tr>\n",
              "      <th>sport</th>\n",
              "      <th></th>\n",
              "      <th></th>\n",
              "      <th></th>\n",
              "      <th></th>\n",
              "    </tr>\n",
              "  </thead>\n",
              "  <tbody>\n",
              "    <tr>\n",
              "      <th>aquatics</th>\n",
              "      <td>119</td>\n",
              "      <td>110</td>\n",
              "      <td>106</td>\n",
              "      <td>335</td>\n",
              "    </tr>\n",
              "    <tr>\n",
              "      <th>athletics</th>\n",
              "      <td>64</td>\n",
              "      <td>61</td>\n",
              "      <td>58</td>\n",
              "      <td>183</td>\n",
              "    </tr>\n",
              "    <tr>\n",
              "      <th>rowing</th>\n",
              "      <td>48</td>\n",
              "      <td>48</td>\n",
              "      <td>44</td>\n",
              "      <td>140</td>\n",
              "    </tr>\n",
              "    <tr>\n",
              "      <th>hockey</th>\n",
              "      <td>34</td>\n",
              "      <td>32</td>\n",
              "      <td>33</td>\n",
              "      <td>99</td>\n",
              "    </tr>\n",
              "    <tr>\n",
              "      <th>football</th>\n",
              "      <td>36</td>\n",
              "      <td>36</td>\n",
              "      <td>18</td>\n",
              "      <td>90</td>\n",
              "    </tr>\n",
              "    <tr>\n",
              "      <th>gymnastics</th>\n",
              "      <td>30</td>\n",
              "      <td>30</td>\n",
              "      <td>30</td>\n",
              "      <td>90</td>\n",
              "    </tr>\n",
              "    <tr>\n",
              "      <th>cycling</th>\n",
              "      <td>27</td>\n",
              "      <td>27</td>\n",
              "      <td>29</td>\n",
              "      <td>83</td>\n",
              "    </tr>\n",
              "    <tr>\n",
              "      <th>volleyball</th>\n",
              "      <td>28</td>\n",
              "      <td>27</td>\n",
              "      <td>28</td>\n",
              "      <td>83</td>\n",
              "    </tr>\n",
              "    <tr>\n",
              "      <th>canoe</th>\n",
              "      <td>27</td>\n",
              "      <td>27</td>\n",
              "      <td>28</td>\n",
              "      <td>82</td>\n",
              "    </tr>\n",
              "    <tr>\n",
              "      <th>handball</th>\n",
              "      <td>29</td>\n",
              "      <td>30</td>\n",
              "      <td>15</td>\n",
              "      <td>74</td>\n",
              "    </tr>\n",
              "    <tr>\n",
              "      <th>rugby sevens</th>\n",
              "      <td>25</td>\n",
              "      <td>24</td>\n",
              "      <td>25</td>\n",
              "      <td>74</td>\n",
              "    </tr>\n",
              "    <tr>\n",
              "      <th>basketball</th>\n",
              "      <td>24</td>\n",
              "      <td>24</td>\n",
              "      <td>24</td>\n",
              "      <td>72</td>\n",
              "    </tr>\n",
              "    <tr>\n",
              "      <th>wrestling</th>\n",
              "      <td>18</td>\n",
              "      <td>18</td>\n",
              "      <td>35</td>\n",
              "      <td>71</td>\n",
              "    </tr>\n",
              "    <tr>\n",
              "      <th>fencing</th>\n",
              "      <td>21</td>\n",
              "      <td>22</td>\n",
              "      <td>22</td>\n",
              "      <td>65</td>\n",
              "    </tr>\n",
              "    <tr>\n",
              "      <th>judo</th>\n",
              "      <td>14</td>\n",
              "      <td>14</td>\n",
              "      <td>28</td>\n",
              "      <td>56</td>\n",
              "    </tr>\n",
              "  </tbody>\n",
              "</table>\n",
              "</div>"
            ],
            "text/plain": [
              "              gold  silver  bronze  total\n",
              "sport                                    \n",
              "aquatics       119     110     106    335\n",
              "athletics       64      61      58    183\n",
              "rowing          48      48      44    140\n",
              "hockey          34      32      33     99\n",
              "football        36      36      18     90\n",
              "gymnastics      30      30      30     90\n",
              "cycling         27      27      29     83\n",
              "volleyball      28      27      28     83\n",
              "canoe           27      27      28     82\n",
              "handball        29      30      15     74\n",
              "rugby sevens    25      24      25     74\n",
              "basketball      24      24      24     72\n",
              "wrestling       18      18      35     71\n",
              "fencing         21      22      22     65\n",
              "judo            14      14      28     56"
            ]
          },
          "metadata": {
            "tags": []
          },
          "execution_count": 32
        }
      ]
    },
    {
      "cell_type": "code",
      "metadata": {
        "id": "pZ8zOjRYze1Z",
        "colab": {
          "base_uri": "https://localhost:8080/"
        },
        "outputId": "47eb7a7c-83bc-4808-b06a-e7f9604d2bab"
      },
      "source": [
        "df_agrupado_medalhas.reset_index(inplace = True)\n",
        "df_agrupado_medalhas.columns = ['sport', 'gold', 'silver', 'bronze','total']\n",
        "df_agrupado_medalhas.values"
      ],
      "execution_count": null,
      "outputs": [
        {
          "output_type": "execute_result",
          "data": {
            "text/plain": [
              "array([['aquatics', 119, 110, 106, 335],\n",
              "       ['athletics', 64, 61, 58, 183],\n",
              "       ['rowing', 48, 48, 44, 140],\n",
              "       ['hockey', 34, 32, 33, 99],\n",
              "       ['football', 36, 36, 18, 90],\n",
              "       ['gymnastics', 30, 30, 30, 90],\n",
              "       ['cycling', 27, 27, 29, 83],\n",
              "       ['volleyball', 28, 27, 28, 83],\n",
              "       ['canoe', 27, 27, 28, 82],\n",
              "       ['handball', 29, 30, 15, 74],\n",
              "       ['rugby sevens', 25, 24, 25, 74],\n",
              "       ['basketball', 24, 24, 24, 72],\n",
              "       ['wrestling', 18, 18, 35, 71],\n",
              "       ['fencing', 21, 22, 22, 65],\n",
              "       ['judo', 14, 14, 28, 56]], dtype=object)"
            ]
          },
          "metadata": {
            "tags": []
          },
          "execution_count": 33
        }
      ]
    },
    {
      "cell_type": "code",
      "metadata": {
        "id": "PVV_Ycsw0yqo",
        "colab": {
          "base_uri": "https://localhost:8080/",
          "height": 528
        },
        "outputId": "b9532c91-d107-423a-f3ef-063b597c9e68"
      },
      "source": [
        "#Graph of number of medals in each category by sport\n",
        "fig = plt.figure(figsize = (10, 7), facecolor = 'w')\n",
        "ax = fig.add_subplot(1, 1, 1)\n",
        "\n",
        "esportes = ['aquatics', 'athletics', 'rowing', 'hockey', 'football', 'gymnastics', 'cycling', 'volleyball', 'canoe', 'handball', 'rugby sevens', 'basketball', 'wrestling', 'fencing', 'judo']\n",
        "ouro = [119, 64, 48, 34, 36, 30, 27, 28, 27, 29, 25, 24, 18, 21, 14]\n",
        "prata = [110, 61, 48, 32, 36, 30, 27, 27, 27, 30, 24, 24, 18, 22, 14]\n",
        "bronze = [106, 58, 44, 33, 18, 30, 29, 28, 28, 15, 25, 24, 35, 22, 28]\n",
        "\n",
        "ax1 = ax.bar(x = esportes, height = ouro, label = 'ouro', color = 'gold')\n",
        "ax2 = ax.bar(x = esportes, height = prata, label = 'prata', bottom = ouro, color = 'silver')\n",
        "ax3 = ax.bar(x = esportes, height = bronze, label = 'bronze', bottom = np.array(ouro) + np.array(prata), color = 'olive')\n",
        "\n",
        "plt.title('Quantidade de Medalhas em cada Categoria por Esporte', fontweight = 'bold')\n",
        "plt.xlabel('Esportes', fontweight = 'bold')\n",
        "plt.ylabel('# de medalhas', fontweight = 'bold')\n",
        "plt.xticks(rotation = 90)\n",
        "\n",
        "for r1, r2, r3 in zip(ax1, ax2, ax3):\n",
        "    h1 = r1.get_height()\n",
        "    h2 = r2.get_height()\n",
        "    h3 = r3.get_height()\n",
        "\n",
        "    if h1 != 0:\n",
        "      plt.text(r1.get_x() + r1.get_width() / 2., h1 / 2., '%d' % h1, ha = 'center', va ='center', color = 'black', fontsize = 12, fontweight = 'bold')\n",
        "    if h2 != 0:\n",
        "      plt.text(r2.get_x() + r2.get_width() / 2., h1 + h2 / 2., '%d' % h2, ha ='center', va ='center', color = 'black', fontsize = 12, fontweight = 'bold')\n",
        "    if h3 != 0:\n",
        "      plt.text(r3.get_x() + r3.get_width() / 2., h1 + h2 + h3 / 2., '%d' % h3, ha = 'center', va ='center', color = 'black', fontsize = 12, fontweight = 'bold')\n",
        "\n",
        "plt.legend()\n",
        "plt.show()"
      ],
      "execution_count": null,
      "outputs": [
        {
          "output_type": "display_data",
          "data": {
            "image/png": "[encoded data removed]",
            "text/plain": [
              "<Figure size 720x504 with 1 Axes>"
            ]
          },
          "metadata": {
            "tags": []
          }
        }
      ]
    },
    {
      "cell_type": "markdown",
      "metadata": {
        "id": "6CTvlU7VYc7O"
      },
      "source": [
        "The sports with the most medals are aquatics (335) and athletics (183). This behavior may have been influenced by the fact that these two sports are also those with the largest number of athletes, as shown previously."
      ]
    },
    {
      "cell_type": "markdown",
      "metadata": {
        "id": "Kb-ImIBTqi2s"
      },
      "source": [
        "##Calculate the mean, median, mode, standard deviation, coefficient of variation and symmetry of quantitative variables"
      ]
    },
    {
      "cell_type": "code",
      "metadata": {
        "id": "juDr_MnFqwdT"
      },
      "source": [
        "#Função que calcula o coeficiente de variância, dado um conjunto de dados unidimensional\n",
        "\n",
        "def cv(n):\n",
        "  return round(100*st.stdev(n)/st.mean(n), 2)"
      ],
      "execution_count": null,
      "outputs": []
    },
    {
      "cell_type": "markdown",
      "metadata": {
        "id": "ahMLGDP7bTtr"
      },
      "source": [
        "### General basis"
      ]
    },
    {
      "cell_type": "code",
      "metadata": {
        "id": "ssgL9KgI0T4G"
      },
      "source": [
        "#Dataframe that contains basic statistical information about the dataset\n",
        "df_stats = pd.DataFrame({\n",
        "    'coluna':['Idade (age)', 'Altura (height)', 'Peso (weight)'],\n",
        "    'media':[round(st.mean(df_copy.age),5 ), round(st.mean(df_copy.height),5 ), round(st.mean(df_copy.weight),5 )],\n",
        "    'mediana':[st.median(df_copy.age), st.median(df_copy.height), st.median(df_copy.weight)],\n",
        "    'moda':[st.mode(df_copy.age), st.mode(df_copy.height), st.mode(df_copy.weight)],\n",
        "    'd-p':[round(st.pstdev(df_copy.age), 2 ), round(st.pstdev(df_copy.height), 2 ), round(st.pstdev(df_copy.weight), 2 )],\n",
        "    'c-v':[cv(df_copy.age), cv(df_copy.height), cv(df_copy.weight)],\n",
        "    'simetria':[round(df_copy.age.skew(), 5), round(df_copy.height.skew(), 5), round(df_copy.weight.skew(), 5)]\n",
        "})"
      ],
      "execution_count": null,
      "outputs": []
    },
    {
      "cell_type": "code",
      "metadata": {
        "id": "WiXgjDr50YBx",
        "colab": {
          "base_uri": "https://localhost:8080/",
          "height": 141
        },
        "outputId": "8cc15e0a-f3c7-40f6-b7d0-261375c07bf9"
      },
      "source": [
        "#Dataset statistical data table.\n",
        "df_stats"
      ],
      "execution_count": null,
      "outputs": [
        {
          "output_type": "execute_result",
          "data": {
            "text/html": [
              "<div>\n",
              "<style scoped>\n",
              "    .dataframe tbody tr th:only-of-type {\n",
              "        vertical-align: middle;\n",
              "    }\n",
              "\n",
              "    .dataframe tbody tr th {\n",
              "        vertical-align: top;\n",
              "    }\n",
              "\n",
              "    .dataframe thead th {\n",
              "        text-align: right;\n",
              "    }\n",
              "</style>\n",
              "<table border=\"1\" class=\"dataframe\">\n",
              "  <thead>\n",
              "    <tr style=\"text-align: right;\">\n",
              "      <th></th>\n",
              "      <th>coluna</th>\n",
              "      <th>media</th>\n",
              "      <th>mediana</th>\n",
              "      <th>moda</th>\n",
              "      <th>d-p</th>\n",
              "      <th>c-v</th>\n",
              "      <th>simetria</th>\n",
              "    </tr>\n",
              "  </thead>\n",
              "  <tbody>\n",
              "    <tr>\n",
              "      <th>0</th>\n",
              "      <td>Idade (age)</td>\n",
              "      <td>26.41177</td>\n",
              "      <td>26.00</td>\n",
              "      <td>25.0</td>\n",
              "      <td>5.40</td>\n",
              "      <td>20.43</td>\n",
              "      <td>1.11795</td>\n",
              "    </tr>\n",
              "    <tr>\n",
              "      <th>1</th>\n",
              "      <td>Altura (height)</td>\n",
              "      <td>1.76694</td>\n",
              "      <td>1.76</td>\n",
              "      <td>1.8</td>\n",
              "      <td>0.11</td>\n",
              "      <td>6.40</td>\n",
              "      <td>0.16531</td>\n",
              "    </tr>\n",
              "    <tr>\n",
              "      <th>2</th>\n",
              "      <td>Peso (weight)</td>\n",
              "      <td>72.07092</td>\n",
              "      <td>70.00</td>\n",
              "      <td>70.0</td>\n",
              "      <td>16.16</td>\n",
              "      <td>22.43</td>\n",
              "      <td>1.05906</td>\n",
              "    </tr>\n",
              "  </tbody>\n",
              "</table>\n",
              "</div>"
            ],
            "text/plain": [
              "            coluna     media  mediana  moda    d-p    c-v  simetria\n",
              "0      Idade (age)  26.41177    26.00  25.0   5.40  20.43   1.11795\n",
              "1  Altura (height)   1.76694     1.76   1.8   0.11   6.40   0.16531\n",
              "2    Peso (weight)  72.07092    70.00  70.0  16.16  22.43   1.05906"
            ]
          },
          "metadata": {
            "tags": []
          },
          "execution_count": 37
        }
      ]
    },
    {
      "cell_type": "markdown",
      "metadata": {
        "id": "MMWArBsA7UUs"
      },
      "source": [
        "* Age:\n",
        "  * Mean > Median < Mode\n",
        "*Height:\n",
        "  * Mean > Median < Mode\n",
        "* Weight:\n",
        "  * Mean > Median = Mode"
      ]
    },
    {
      "cell_type": "markdown",
      "metadata": {
        "id": "Tc5WelJUzsbJ"
      },
      "source": [
        "### Base with male gender"
      ]
    },
    {
      "cell_type": "code",
      "metadata": {
        "id": "sV71aJE6z8AA"
      },
      "source": [
        "df_men =  df_copy[df_copy.sex == 'male']\n",
        "df_stats_men = pd.DataFrame({\n",
        "    'coluna':['Idade (age)', 'Altura (height)', 'Peso (weight)'],\n",
        "    'media':[round(st.mean(df_men.age),5 ), round(st.mean(df_men.height),5 ), round(st.mean(df_men.weight),5 )],\n",
        "    'mediana':[st.median(df_men.age), st.median(df_men.height), st.median(df_men.weight)],\n",
        "    'moda':[st.mode(df_men.age), st.mode(df_men.height), st.mode(df_men.weight)],\n",
        "    'd-p':[round(st.pstdev(df_men.age), 2 ), round(st.pstdev(df_men.height), 2 ), round(st.pstdev(df_men.weight), 2 )],\n",
        "    'c-v':[cv(df_men.age), cv(df_men.height), cv(df_men.weight)],\n",
        "    'simetria':[round(df_men.age.skew(), 5), round(df_men.height.skew(), 5), round(df_men.weight.skew(), 5)]\n",
        "})"
      ],
      "execution_count": null,
      "outputs": []
    },
    {
      "cell_type": "code",
      "metadata": {
        "id": "r5mM0tol1aX4",
        "colab": {
          "base_uri": "https://localhost:8080/",
          "height": 141
        },
        "outputId": "9e241881-81da-4952-c28d-82c2e1bf7eea"
      },
      "source": [
        "#Statistical data table of the male dataset.\n",
        "df_stats_men"
      ],
      "execution_count": null,
      "outputs": [
        {
          "output_type": "execute_result",
          "data": {
            "text/html": [
              "<div>\n",
              "<style scoped>\n",
              "    .dataframe tbody tr th:only-of-type {\n",
              "        vertical-align: middle;\n",
              "    }\n",
              "\n",
              "    .dataframe tbody tr th {\n",
              "        vertical-align: top;\n",
              "    }\n",
              "\n",
              "    .dataframe thead th {\n",
              "        text-align: right;\n",
              "    }\n",
              "</style>\n",
              "<table border=\"1\" class=\"dataframe\">\n",
              "  <thead>\n",
              "    <tr style=\"text-align: right;\">\n",
              "      <th></th>\n",
              "      <th>coluna</th>\n",
              "      <th>media</th>\n",
              "      <th>mediana</th>\n",
              "      <th>moda</th>\n",
              "      <th>d-p</th>\n",
              "      <th>c-v</th>\n",
              "      <th>simetria</th>\n",
              "    </tr>\n",
              "  </thead>\n",
              "  <tbody>\n",
              "    <tr>\n",
              "      <th>0</th>\n",
              "      <td>Idade (age)</td>\n",
              "      <td>26.88383</td>\n",
              "      <td>26.00</td>\n",
              "      <td>26.0</td>\n",
              "      <td>5.48</td>\n",
              "      <td>20.37</td>\n",
              "      <td>1.22447</td>\n",
              "    </tr>\n",
              "    <tr>\n",
              "      <th>1</th>\n",
              "      <td>Altura (height)</td>\n",
              "      <td>1.82387</td>\n",
              "      <td>1.82</td>\n",
              "      <td>1.8</td>\n",
              "      <td>0.10</td>\n",
              "      <td>5.49</td>\n",
              "      <td>0.05981</td>\n",
              "    </tr>\n",
              "    <tr>\n",
              "      <th>2</th>\n",
              "      <td>Peso (weight)</td>\n",
              "      <td>80.11873</td>\n",
              "      <td>78.00</td>\n",
              "      <td>70.0</td>\n",
              "      <td>15.38</td>\n",
              "      <td>19.20</td>\n",
              "      <td>1.12085</td>\n",
              "    </tr>\n",
              "  </tbody>\n",
              "</table>\n",
              "</div>"
            ],
            "text/plain": [
              "            coluna     media  mediana  moda    d-p    c-v  simetria\n",
              "0      Idade (age)  26.88383    26.00  26.0   5.48  20.37   1.22447\n",
              "1  Altura (height)   1.82387     1.82   1.8   0.10   5.49   0.05981\n",
              "2    Peso (weight)  80.11873    78.00  70.0  15.38  19.20   1.12085"
            ]
          },
          "metadata": {
            "tags": []
          },
          "execution_count": 39
        }
      ]
    },
    {
      "cell_type": "markdown",
      "metadata": {
        "id": "nRO63tgx47sv"
      },
      "source": [
        "* Age:\n",
        "  * Mean > Median = Mode\n",
        "*Height:\n",
        "  * Mean = Median = Mode\n",
        "* Weight:\n",
        "  * Mean > Median > Mode\n",
        "\n",
        "\n",
        "\n"
      ]
    },
    {
      "cell_type": "markdown",
      "metadata": {
        "id": "JzUnYHXrzsw_"
      },
      "source": [
        "### Base with female gender"
      ]
    },
    {
      "cell_type": "code",
      "metadata": {
        "id": "4KkGiYHc0DXa"
      },
      "source": [
        "df_women =  df_copy[df_copy.sex == 'female']\n",
        "df_stats_women = pd.DataFrame({\n",
        "    'coluna':['Idade (age)', 'Altura (height)', 'Peso (weight)'],\n",
        "    'media':[round(st.mean(df_women.age),2 ), round(st.mean(df_women.height),2 ), round(st.mean(df_women.weight),2 )],\n",
        "    'mediana':[round(st.median(df_women.age), 2), round(st.median(df_women.height), 2), round(st.median(df_women.weight), 2)],\n",
        "    'moda':[round(st.mode(df_women.age), 2), round(st.mode(df_women.height), 2), round(st.mode(df_women.weight), 2)],\n",
        "    'd-p':[round(st.pstdev(df_women.age), 2 ), round(st.pstdev(df_women.height), 2 ), round(st.pstdev(df_women.weight), 2 )],\n",
        "    'c-v':[cv(df_women.age), cv(df_women.height), cv(df_women.weight)],\n",
        "    'simetria':[round(df_women.age.skew(), 5), round(df_women.height.skew(), 5), round(df_women.weight.skew(), 5)]\n",
        "})"
      ],
      "execution_count": null,
      "outputs": []
    },
    {
      "cell_type": "code",
      "metadata": {
        "id": "3Hx-DZur1fN4",
        "colab": {
          "base_uri": "https://localhost:8080/",
          "height": 141
        },
        "outputId": "90e4e541-f865-4d54-b6b6-7cbde45cded4"
      },
      "source": [
        "#Statistical data table of the female dataset.\n",
        "df_stats_women"
      ],
      "execution_count": null,
      "outputs": [
        {
          "output_type": "execute_result",
          "data": {
            "text/html": [
              "<div>\n",
              "<style scoped>\n",
              "    .dataframe tbody tr th:only-of-type {\n",
              "        vertical-align: middle;\n",
              "    }\n",
              "\n",
              "    .dataframe tbody tr th {\n",
              "        vertical-align: top;\n",
              "    }\n",
              "\n",
              "    .dataframe thead th {\n",
              "        text-align: right;\n",
              "    }\n",
              "</style>\n",
              "<table border=\"1\" class=\"dataframe\">\n",
              "  <thead>\n",
              "    <tr style=\"text-align: right;\">\n",
              "      <th></th>\n",
              "      <th>coluna</th>\n",
              "      <th>media</th>\n",
              "      <th>mediana</th>\n",
              "      <th>moda</th>\n",
              "      <th>d-p</th>\n",
              "      <th>c-v</th>\n",
              "      <th>simetria</th>\n",
              "    </tr>\n",
              "  </thead>\n",
              "  <tbody>\n",
              "    <tr>\n",
              "      <th>0</th>\n",
              "      <td>Idade (age)</td>\n",
              "      <td>25.86</td>\n",
              "      <td>25.0</td>\n",
              "      <td>25.0</td>\n",
              "      <td>5.24</td>\n",
              "      <td>20.28</td>\n",
              "      <td>0.98152</td>\n",
              "    </tr>\n",
              "    <tr>\n",
              "      <th>1</th>\n",
              "      <td>Altura (height)</td>\n",
              "      <td>1.70</td>\n",
              "      <td>1.7</td>\n",
              "      <td>1.7</td>\n",
              "      <td>0.09</td>\n",
              "      <td>5.19</td>\n",
              "      <td>0.11376</td>\n",
              "    </tr>\n",
              "    <tr>\n",
              "      <th>2</th>\n",
              "      <td>Peso (weight)</td>\n",
              "      <td>62.63</td>\n",
              "      <td>61.0</td>\n",
              "      <td>58.0</td>\n",
              "      <td>11.18</td>\n",
              "      <td>17.85</td>\n",
              "      <td>1.43449</td>\n",
              "    </tr>\n",
              "  </tbody>\n",
              "</table>\n",
              "</div>"
            ],
            "text/plain": [
              "            coluna  media  mediana  moda    d-p    c-v  simetria\n",
              "0      Idade (age)  25.86     25.0  25.0   5.24  20.28   0.98152\n",
              "1  Altura (height)   1.70      1.7   1.7   0.09   5.19   0.11376\n",
              "2    Peso (weight)  62.63     61.0  58.0  11.18  17.85   1.43449"
            ]
          },
          "metadata": {
            "tags": []
          },
          "execution_count": 41
        }
      ]
    },
    {
      "cell_type": "markdown",
      "metadata": {
        "id": "NJxC6AWR62b_"
      },
      "source": [
        "* Age:\n",
        "  * Mean > Median = Mode\n",
        "* Height:\n",
        "  * Mean = Median = Mode\n",
        "* Weight:\n",
        "  * Mean > Median > Mode\n"
      ]
    },
    {
      "cell_type": "markdown",
      "metadata": {
        "id": "aN41-k5dqxbs"
      },
      "source": [
        "##Analyze the normality of numerical data and whether there are outliers"
      ]
    },
    {
      "cell_type": "markdown",
      "metadata": {
        "id": "6NY9QL_1MY1k"
      },
      "source": [
        "####Age"
      ]
    },
    {
      "cell_type": "code",
      "metadata": {
        "id": "VdHL0WA--3R8",
        "colab": {
          "base_uri": "https://localhost:8080/",
          "height": 518
        },
        "outputId": "625e8267-ccbc-46ba-87c1-0353ac28424f"
      },
      "source": [
        "# Generating a graph to check if the distribution is normal\n",
        "# age\n",
        "fig, ax = plt.subplots()\n",
        "stats.probplot(df_copy.age, fit=True, plot=ax)\n",
        "plt.title(\"Distribuição para Idade\")\n",
        "plt.show()"
      ],
      "execution_count": null,
      "outputs": [
        {
          "output_type": "display_data",
          "data": {
            "image/png": "[encoded data removed]",
            "text/plain": [
              "<Figure size 864x576 with 1 Axes>"
            ]
          },
          "metadata": {
            "tags": []
          }
        }
      ]
    },
    {
      "cell_type": "code",
      "metadata": {
        "id": "TiPxYPVRq4JF",
        "colab": {
          "base_uri": "https://localhost:8080/",
          "height": 518
        },
        "outputId": "b1105f00-154c-410f-d19d-0c6012036d6b"
      },
      "source": [
        "#Histogram of the Age Variable\n",
        "sns.distplot(df_copy.age);\n",
        "\n",
        "plt.title('Histograma da Variável Idade', fontdict={'fontweight' : 'bold'});\n",
        "plt.xlabel('Idades', fontweight = 'bold');\n",
        "plt.ylabel(ylabel = 'Density', fontweight = 'bold');"
      ],
      "execution_count": null,
      "outputs": [
        {
          "output_type": "display_data",
          "data": {
            "image/png": "[encoded data removed]",
            "text/plain": [
              "<Figure size 864x576 with 1 Axes>"
            ]
          },
          "metadata": {
            "tags": []
          }
        }
      ]
    },
    {
      "cell_type": "code",
      "metadata": {
        "id": "lLEplhVe_cOw",
        "colab": {
          "base_uri": "https://localhost:8080/"
        },
        "outputId": "32a0eb95-f40a-428c-edff-9df7af43fdca"
      },
      "source": [
        "# Running the Shapiro Wilk test\n",
        "# The first value is the result of the statistic and the second argument is the p-value.\n",
        "# Ho = The data are normally distributed\n",
        "# H1 = The data are not normally distributed\n",
        "# If the second term (p-value) is less than 0.05 (5%), the null hypothesis is rejected.\n",
        "stats.shapiro(df_copy.age)"
      ],
      "execution_count": null,
      "outputs": [
        {
          "output_type": "execute_result",
          "data": {
            "text/plain": [
              "(0.9433720707893372, 0.0)"
            ]
          },
          "metadata": {
            "tags": []
          },
          "execution_count": 44
        }
      ]
    },
    {
      "cell_type": "markdown",
      "metadata": {
        "id": "Ca3O-fPjLLPP"
      },
      "source": [
        "The null hypothesis (H0) is rejected, as the p-value is less than 0.05. Therefore, the data do not have a normal distribution."
      ]
    },
    {
      "cell_type": "code",
      "metadata": {
        "id": "vbEJCndaKZhZ",
        "colab": {
          "base_uri": "https://localhost:8080/",
          "height": 518
        },
        "outputId": "8ea4e679-d130-4de1-eb90-7ccee9841b36"
      },
      "source": [
        "#Boxplot of Age Variable\n",
        "sns.boxplot(df_copy.age);\n",
        "\n",
        "plt.title('Boxplot da Variável Idade', fontdict={'fontweight' : 'bold'});\n",
        "plt.xlabel('Idades', fontweight = 'bold');"
      ],
      "execution_count": null,
      "outputs": [
        {
          "output_type": "display_data",
          "data": {
            "image/png": "[encoded data removed]",
            "text/plain": [
              "<Figure size 864x576 with 1 Axes>"
            ]
          },
          "metadata": {
            "tags": []
          }
        }
      ]
    },
    {
      "cell_type": "markdown",
      "metadata": {
        "id": "Z4zABfh2Mcsq"
      },
      "source": [
        "####Height"
      ]
    },
    {
      "cell_type": "code",
      "metadata": {
        "id": "WyZulFkJ_uXF",
        "colab": {
          "base_uri": "https://localhost:8080/",
          "height": 518
        },
        "outputId": "d197d7c1-be32-4187-f644-23bbc3da0333"
      },
      "source": [
        "# Generating a graph to check if the distribution is normal\n",
        "# height\n",
        "fig, ax = plt.subplots()\n",
        "stats.probplot(df_copy.height, fit=True, plot=ax)\n",
        "plt.title(\"Distribuição para Altura\")\n",
        "plt.show()"
      ],
      "execution_count": null,
      "outputs": [
        {
          "output_type": "display_data",
          "data": {
            "image/png": "[encoded data removed]",
            "text/plain": [
              "<Figure size 864x576 with 1 Axes>"
            ]
          },
          "metadata": {
            "tags": []
          }
        }
      ]
    },
    {
      "cell_type": "code",
      "metadata": {
        "id": "dCBW2C_1-yZL",
        "colab": {
          "base_uri": "https://localhost:8080/",
          "height": 518
        },
        "outputId": "fa492c99-1352-4e5f-dc5c-e75a583b2bfa"
      },
      "source": [
        "#Histogram of the Height Variable\n",
        "sns.distplot(df_copy.height);\n",
        "\n",
        "plt.title('Histograma da Variável Altura', fontdict={'fontweight' : 'bold'});\n",
        "plt.xlabel('Alturas', fontweight = 'bold');\n",
        "plt.ylabel(ylabel = 'Density', fontweight = 'bold');"
      ],
      "execution_count": null,
      "outputs": [
        {
          "output_type": "display_data",
          "data": {
            "image/png": "[encoded data removed]",
            "text/plain": [
              "<Figure size 864x576 with 1 Axes>"
            ]
          },
          "metadata": {
            "tags": []
          }
        }
      ]
    },
    {
      "cell_type": "code",
      "metadata": {
        "id": "xOfTXXxL_6Td",
        "colab": {
          "base_uri": "https://localhost:8080/"
        },
        "outputId": "eb6ee03c-05c4-43bf-98a0-dbdb0b65270a"
      },
      "source": [
        "# Running the Shapiro Wilk test\n",
        "# The first value is the result of the statistic and the second argument is the p-value.\n",
        "# Ho = The data are normally distributed\n",
        "# H1 = The data are not normally distributed\n",
        "# If the second term (p-value) is less than 0.05 (5%), the null hypothesis is rejected.\n",
        "stats.shapiro(df_copy.height)"
      ],
      "execution_count": null,
      "outputs": [
        {
          "output_type": "execute_result",
          "data": {
            "text/plain": [
              "(0.9965190291404724, 2.1925333490229685e-15)"
            ]
          },
          "metadata": {
            "tags": []
          },
          "execution_count": 48
        }
      ]
    },
    {
      "cell_type": "markdown",
      "metadata": {
        "id": "15ybASEmLWy1"
      },
      "source": [
        "The null hypothesis (H0) is rejected, as the p-value is less than 0.05. Therefore, the data do not have a normal distribution."
      ]
    },
    {
      "cell_type": "code",
      "metadata": {
        "id": "PQX1lVxc_93U",
        "colab": {
          "base_uri": "https://localhost:8080/",
          "height": 518
        },
        "outputId": "25e4b51e-7f95-45a4-cbc1-91f0517f3874"
      },
      "source": [
        "#Boxplot of Height Variable\n",
        "sns.boxplot(df_copy.height);\n",
        "\n",
        "plt.title('Boxplot da Variável Altura', fontdict={'fontweight' : 'bold'});\n",
        "plt.xlabel('Alturas', fontweight = 'bold');"
      ],
      "execution_count": null,
      "outputs": [
        {
          "output_type": "display_data",
          "data": {
            "image/png": "[encoded data removed]",
            "text/plain": [
              "<Figure size 864x576 with 1 Axes>"
            ]
          },
          "metadata": {
            "tags": []
          }
        }
      ]
    },
    {
      "cell_type": "markdown",
      "metadata": {
        "id": "VOuUhmxFMhdA"
      },
      "source": [
        "####Weight"
      ]
    },
    {
      "cell_type": "code",
      "metadata": {
        "id": "L2vqraagAJLL",
        "colab": {
          "base_uri": "https://localhost:8080/",
          "height": 518
        },
        "outputId": "3a9c2c2f-26a7-4f71-bbeb-68eff4b9efff"
      },
      "source": [
        "# Generating a graph to check if the distribution is normal\n",
        "# weight\n",
        "fig, ax = plt.subplots()\n",
        "stats.probplot(df_copy.weight, fit=True, plot=ax)\n",
        "plt.title(\"Distribuição para Peso\")\n",
        "plt.show()"
      ],
      "execution_count": null,
      "outputs": [
        {
          "output_type": "display_data",
          "data": {
            "image/png": "[encoded data removed]",
            "text/plain": [
              "<Figure size 864x576 with 1 Axes>"
            ]
          },
          "metadata": {
            "tags": []
          }
        }
      ]
    },
    {
      "cell_type": "code",
      "metadata": {
        "id": "gZ1odZy2-1Gi",
        "colab": {
          "base_uri": "https://localhost:8080/",
          "height": 518
        },
        "outputId": "a0206ffc-8456-45f0-a236-a8bca684e302"
      },
      "source": [
        "#Histogram of the Weight Variable\n",
        "sns.distplot(df_copy.weight);\n",
        "\n",
        "plt.title('Histograma da Variável Peso', fontdict={'fontweight' : 'bold'});\n",
        "plt.xlabel('Pesos', fontweight = 'bold');\n",
        "plt.ylabel(ylabel = 'Density', fontweight = 'bold');"
      ],
      "execution_count": null,
      "outputs": [
        {
          "output_type": "display_data",
          "data": {
            "image/png": "[encoded data removed]",
            "text/plain": [
              "<Figure size 864x576 with 1 Axes>"
            ]
          },
          "metadata": {
            "tags": []
          }
        }
      ]
    },
    {
      "cell_type": "code",
      "metadata": {
        "id": "wukx4h1pATml",
        "colab": {
          "base_uri": "https://localhost:8080/"
        },
        "outputId": "fbc4804d-5af7-4a76-c063-1d6b1aeed361"
      },
      "source": [
        "# Running the Shapiro Wilk test\n",
        "# The first value is the result of the statistic and the second argument is the p-value.\n",
        "# Ho = The data are normally distributed\n",
        "# H1 = The data are not normally distributed\n",
        "# If the second term (p-value) is less than 0.05 (5%), the null hypothesis is rejected.\n",
        "stats.shapiro(df_copy.weight)"
      ],
      "execution_count": null,
      "outputs": [
        {
          "output_type": "execute_result",
          "data": {
            "text/plain": [
              "(0.9469754099845886, 0.0)"
            ]
          },
          "metadata": {
            "tags": []
          },
          "execution_count": 52
        }
      ]
    },
    {
      "cell_type": "markdown",
      "metadata": {
        "id": "scY88YOULofj"
      },
      "source": [
        "The null hypothesis (H0) is rejected, as the p-value is less than 0.05. Therefore, the data do not have a normal distribution."
      ]
    },
    {
      "cell_type": "code",
      "metadata": {
        "id": "5m-sWuWQAVrZ",
        "colab": {
          "base_uri": "https://localhost:8080/",
          "height": 518
        },
        "outputId": "43eee496-bdba-467a-c1a2-c054c21d402e"
      },
      "source": [
        "#Boxplot of Weight Variable\n",
        "sns.boxplot(df_copy.weight);\n",
        "\n",
        "plt.title('Boxplot da Variável Peso', fontdict={'fontweight' : 'bold'});\n",
        "plt.xlabel('Pesos', fontweight = 'bold');"
      ],
      "execution_count": null,
      "outputs": [
        {
          "output_type": "display_data",
          "data": {
            "image/png": "[encoded data removed]",
            "text/plain": [
              "<Figure size 864x576 with 1 Axes>"
            ]
          },
          "metadata": {
            "tags": []
          }
        }
      ]
    },
    {
      "cell_type": "markdown",
      "metadata": {
        "id": "J9UPMBwqq4dL"
      },
      "source": [
        "##Compare the quantitative variables and describe which is more homogeneous"
      ]
    },
    {
      "cell_type": "code",
      "metadata": {
        "id": "CDFTwk2cq-n7",
        "colab": {
          "base_uri": "https://localhost:8080/",
          "height": 141
        },
        "outputId": "60835fcb-2116-4b22-c582-2d34936928e9"
      },
      "source": [
        "df_stats"
      ],
      "execution_count": null,
      "outputs": [
        {
          "output_type": "execute_result",
          "data": {
            "text/html": [
              "<div>\n",
              "<style scoped>\n",
              "    .dataframe tbody tr th:only-of-type {\n",
              "        vertical-align: middle;\n",
              "    }\n",
              "\n",
              "    .dataframe tbody tr th {\n",
              "        vertical-align: top;\n",
              "    }\n",
              "\n",
              "    .dataframe thead th {\n",
              "        text-align: right;\n",
              "    }\n",
              "</style>\n",
              "<table border=\"1\" class=\"dataframe\">\n",
              "  <thead>\n",
              "    <tr style=\"text-align: right;\">\n",
              "      <th></th>\n",
              "      <th>coluna</th>\n",
              "      <th>media</th>\n",
              "      <th>mediana</th>\n",
              "      <th>moda</th>\n",
              "      <th>d-p</th>\n",
              "      <th>c-v</th>\n",
              "      <th>simetria</th>\n",
              "    </tr>\n",
              "  </thead>\n",
              "  <tbody>\n",
              "    <tr>\n",
              "      <th>0</th>\n",
              "      <td>Idade (age)</td>\n",
              "      <td>26.41177</td>\n",
              "      <td>26.00</td>\n",
              "      <td>25.0</td>\n",
              "      <td>5.40</td>\n",
              "      <td>20.43</td>\n",
              "      <td>1.11795</td>\n",
              "    </tr>\n",
              "    <tr>\n",
              "      <th>1</th>\n",
              "      <td>Altura (height)</td>\n",
              "      <td>1.76694</td>\n",
              "      <td>1.76</td>\n",
              "      <td>1.8</td>\n",
              "      <td>0.11</td>\n",
              "      <td>6.40</td>\n",
              "      <td>0.16531</td>\n",
              "    </tr>\n",
              "    <tr>\n",
              "      <th>2</th>\n",
              "      <td>Peso (weight)</td>\n",
              "      <td>72.07092</td>\n",
              "      <td>70.00</td>\n",
              "      <td>70.0</td>\n",
              "      <td>16.16</td>\n",
              "      <td>22.43</td>\n",
              "      <td>1.05906</td>\n",
              "    </tr>\n",
              "  </tbody>\n",
              "</table>\n",
              "</div>"
            ],
            "text/plain": [
              "            coluna     media  mediana  moda    d-p    c-v  simetria\n",
              "0      Idade (age)  26.41177    26.00  25.0   5.40  20.43   1.11795\n",
              "1  Altura (height)   1.76694     1.76   1.8   0.11   6.40   0.16531\n",
              "2    Peso (weight)  72.07092    70.00  70.0  16.16  22.43   1.05906"
            ]
          },
          "metadata": {
            "tags": []
          },
          "execution_count": 54
        }
      ]
    },
    {
      "cell_type": "code",
      "metadata": {
        "id": "jQx-BoCEMqV-",
        "colab": {
          "base_uri": "https://localhost:8080/",
          "height": 511
        },
        "outputId": "9355db22-4f19-46a7-d04e-c77694bfb5fa"
      },
      "source": [
        "#Histogram of age, height and weight\n",
        "fig = plt.figure()\n",
        "\n",
        "ax1 = fig.add_subplot(2,2,1)\n",
        "sns.distplot(df_copy.age, ax = ax1)\n",
        "ax1.set_xlabel(xlabel = 'age', labelpad = 0.01, fontdict={'fontsize': 10})\n",
        "plt.title('Histograma da Variável Idade', fontdict={'fontweight' : 'bold'})\n",
        "\n",
        "ax2 = fig.add_subplot(2,2,2)\n",
        "sns.distplot(df_copy.height, ax = ax2)\n",
        "ax2.set_xlabel(xlabel = 'height', labelpad = 0.01, fontdict={'fontsize': 10})\n",
        "plt.title('Histograma da Variável Altura', fontdict={'fontweight' : 'bold'})\n",
        "\n",
        "ax3 = fig.add_subplot(2,2,3)\n",
        "sns.distplot(df_copy.weight, ax = ax3)\n",
        "ax3.set_xlabel(xlabel = 'weight', labelpad = 0.01, fontdict={'fontsize': 10})\n",
        "plt.title('Histograma da Variável Peso', loc = 'left', pad = 0.01, fontdict={'fontweight' : 'bold'})\n",
        "\n",
        "plt.show()"
      ],
      "execution_count": null,
      "outputs": [
        {
          "output_type": "display_data",
          "data": {
            "image/png": "[encoded data removed]",
            "text/plain": [
              "<Figure size 864x576 with 3 Axes>"
            ]
          },
          "metadata": {
            "tags": []
          }
        }
      ]
    },
    {
      "cell_type": "code",
      "metadata": {
        "id": "aqnTHXXdMrcY",
        "colab": {
          "base_uri": "https://localhost:8080/",
          "height": 511
        },
        "outputId": "b50da886-3677-4192-b908-3403bf1bc19e"
      },
      "source": [
        "#Boxplot of age, height and weight\n",
        "fig = plt.figure()\n",
        "\n",
        "ax1 =fig.add_subplot(2,2,1)\n",
        "sns.boxplot(df_copy.age, ax = ax1)\n",
        "ax1.set_xlabel(xlabel = 'age', labelpad = 0.01, fontdict={'fontsize': 10})\n",
        "plt.title('Boxplot da Variável Idade', fontdict={'fontweight' : 'bold'})\n",
        "\n",
        "ax2 =fig.add_subplot(2,2,2)\n",
        "sns.boxplot(df_copy.height, ax = ax2)\n",
        "ax2.set_xlabel(xlabel = 'height', labelpad = 0.01, fontdict={'fontsize': 10})\n",
        "plt.title('Boxplot da Variável Altura', fontdict={'fontweight' : 'bold'})\n",
        "\n",
        "ax3 =fig.add_subplot(2,2,3)\n",
        "sns.boxplot(df_copy.weight, ax = ax3)\n",
        "ax3.set_xlabel(xlabel = 'weight', labelpad = 0.01, fontdict={'fontsize': 10})\n",
        "plt.title('Boxplot da Variável Peso', loc = 'left', pad = 0.01, fontdict={'fontweight' : 'bold'})\n",
        "\n",
        "plt.show()"
      ],
      "execution_count": null,
      "outputs": [
        {
          "output_type": "display_data",
          "data": {
            "image/png": "[encoded data removed]",
            "text/plain": [
              "<Figure size 864x576 with 3 Axes>"
            ]
          },
          "metadata": {
            "tags": []
          }
        }
      ]
    },
    {
      "cell_type": "markdown",
      "metadata": {
        "id": "_nkDLp_at-9I"
      },
      "source": [
        "Conclusion:\n",
        "*   All numerical variables have *outliers*, however, only the weight variable has *outliers* at the upper end.\n",
        "*   These *outliers* may indicate unusual characteristics in athletes participating in the Olympic Games, which show opposition to, for example: best weight and height ranges for specific sports, age ranges that generally denote the peak of human capacity in the practice of some sport, or who begin their Olympic career in their 20s, etc.\n",
        "*   All numerical variables do not have a normal distribution, as can be seen in the tests performed and graphs generated."
      ]
    },
    {
      "cell_type": "markdown",
      "metadata": {
        "id": "NRV9jfxEq-4D"
      },
      "source": [
        "##Calculate the respective 95% Confidence Intervals for each field in the data frame"
      ]
    },
    {
      "cell_type": "code",
      "metadata": {
        "id": "0Q28tMpcrQrM",
        "colab": {
          "base_uri": "https://localhost:8080/"
        },
        "outputId": "7aefb94b-deea-48a6-c304-713471131abf"
      },
      "source": [
        "#95%CI for the variable *age*\n",
        "\n",
        "inf, sup = norm.interval(0.95, loc = round(st.mean(df_copy.age),2 ), scale = round(st.pstdev(df_copy.age), 2 ) / np.sqrt(len(df_copy.age)) )\n",
        "\n",
        "print ('Limite inferior de Idade:', round(inf, 5) )\n",
        "print ('Limite superior de Idade:', round(sup, 5) )"
      ],
      "execution_count": null,
      "outputs": [
        {
          "output_type": "stream",
          "text": [
            "Limite inferior de Idade: 26.30843\n",
            "Limite superior de Idade: 26.51157\n"
          ],
          "name": "stdout"
        }
      ]
    },
    {
      "cell_type": "code",
      "metadata": {
        "id": "IWTfMefvAwCk",
        "colab": {
          "base_uri": "https://localhost:8080/"
        },
        "outputId": "b52fbdb0-3d59-4d75-97a1-40b59abfc3ef"
      },
      "source": [
        "#95%CI for the variable *height*\n",
        "\n",
        "inf, sup = norm.interval(0.95, loc = round(st.mean(df_copy.height),2 ), scale = round(st.pstdev(df_copy.height), 2 ) / np.sqrt(len(df_copy.height)) )\n",
        "\n",
        "print ('Limite inferior de Altura:', round(inf, 5) )\n",
        "print ('Limite superior de Altura:', round(sup, 5) )"
      ],
      "execution_count": null,
      "outputs": [
        {
          "output_type": "stream",
          "text": [
            "Limite inferior de Altura: 1.76793\n",
            "Limite superior de Altura: 1.77207\n"
          ],
          "name": "stdout"
        }
      ]
    },
    {
      "cell_type": "code",
      "metadata": {
        "id": "ht_H_Mt5AymV",
        "colab": {
          "base_uri": "https://localhost:8080/"
        },
        "outputId": "bc8705d9-f49d-4843-b2fd-072c67fcab53"
      },
      "source": [
        "#95%CI for the variable *weight*\n",
        "\n",
        "inf, sup = norm.interval(0.95, loc = round(st.mean(df_copy.weight),2 ), scale = round(st.pstdev(df_copy.weight), 2 ) / np.sqrt(len(df_copy.weight)) )\n",
        "\n",
        "print ('Limite inferior de Peso:', round(inf, 5) )\n",
        "print ('Limite superior de Peso:', round(sup, 5) )"
      ],
      "execution_count": null,
      "outputs": [
        {
          "output_type": "stream",
          "text": [
            "Limite inferior de Peso: 71.76604\n",
            "Limite superior de Peso: 72.37396\n"
          ],
          "name": "stdout"
        }
      ]
    },
    {
      "cell_type": "markdown",
      "metadata": {
        "id": "bKPymKR7rQ-S"
      },
      "source": [
        "##Compare the mean of a numeric field in relation to a categorical field and answer whether there is a statistical difference at the 5% significance level"
      ]
    },
    {
      "cell_type": "code",
      "metadata": {
        "id": "FvFWApcyPrub",
        "colab": {
          "base_uri": "https://localhost:8080/",
          "height": 415
        },
        "outputId": "306aa013-d129-4056-abdc-f74484537974"
      },
      "source": [
        "novo_df = df_copy[df_copy.sport == 'aquatics']\n",
        "novo_df"
      ],
      "execution_count": null,
      "outputs": [
        {
          "output_type": "execute_result",
          "data": {
            "text/html": [
              "<div>\n",
              "<style scoped>\n",
              "    .dataframe tbody tr th:only-of-type {\n",
              "        vertical-align: middle;\n",
              "    }\n",
              "\n",
              "    .dataframe tbody tr th {\n",
              "        vertical-align: top;\n",
              "    }\n",
              "\n",
              "    .dataframe thead th {\n",
              "        text-align: right;\n",
              "    }\n",
              "</style>\n",
              "<table border=\"1\" class=\"dataframe\">\n",
              "  <thead>\n",
              "    <tr style=\"text-align: right;\">\n",
              "      <th></th>\n",
              "      <th>nationality</th>\n",
              "      <th>sex</th>\n",
              "      <th>height</th>\n",
              "      <th>weight</th>\n",
              "      <th>sport</th>\n",
              "      <th>gold</th>\n",
              "      <th>silver</th>\n",
              "      <th>bronze</th>\n",
              "      <th>age</th>\n",
              "    </tr>\n",
              "  </thead>\n",
              "  <tbody>\n",
              "    <tr>\n",
              "      <th>7</th>\n",
              "      <td>AUS</td>\n",
              "      <td>male</td>\n",
              "      <td>1.93</td>\n",
              "      <td>100.0</td>\n",
              "      <td>aquatics</td>\n",
              "      <td>0</td>\n",
              "      <td>0</td>\n",
              "      <td>0</td>\n",
              "      <td>24</td>\n",
              "    </tr>\n",
              "    <tr>\n",
              "      <th>14</th>\n",
              "      <td>USA</td>\n",
              "      <td>female</td>\n",
              "      <td>1.78</td>\n",
              "      <td>68.0</td>\n",
              "      <td>aquatics</td>\n",
              "      <td>1</td>\n",
              "      <td>1</td>\n",
              "      <td>0</td>\n",
              "      <td>19</td>\n",
              "    </tr>\n",
              "    <tr>\n",
              "      <th>26</th>\n",
              "      <td>SUD</td>\n",
              "      <td>male</td>\n",
              "      <td>1.81</td>\n",
              "      <td>72.0</td>\n",
              "      <td>aquatics</td>\n",
              "      <td>0</td>\n",
              "      <td>0</td>\n",
              "      <td>0</td>\n",
              "      <td>21</td>\n",
              "    </tr>\n",
              "    <tr>\n",
              "      <th>45</th>\n",
              "      <td>SEN</td>\n",
              "      <td>male</td>\n",
              "      <td>1.90</td>\n",
              "      <td>90.0</td>\n",
              "      <td>aquatics</td>\n",
              "      <td>0</td>\n",
              "      <td>0</td>\n",
              "      <td>0</td>\n",
              "      <td>27</td>\n",
              "    </tr>\n",
              "    <tr>\n",
              "      <th>64</th>\n",
              "      <td>USA</td>\n",
              "      <td>female</td>\n",
              "      <td>1.66</td>\n",
              "      <td>61.0</td>\n",
              "      <td>aquatics</td>\n",
              "      <td>0</td>\n",
              "      <td>0</td>\n",
              "      <td>0</td>\n",
              "      <td>26</td>\n",
              "    </tr>\n",
              "    <tr>\n",
              "      <th>...</th>\n",
              "      <td>...</td>\n",
              "      <td>...</td>\n",
              "      <td>...</td>\n",
              "      <td>...</td>\n",
              "      <td>...</td>\n",
              "      <td>...</td>\n",
              "      <td>...</td>\n",
              "      <td>...</td>\n",
              "      <td>...</td>\n",
              "    </tr>\n",
              "    <tr>\n",
              "      <th>11500</th>\n",
              "      <td>ISR</td>\n",
              "      <td>male</td>\n",
              "      <td>1.85</td>\n",
              "      <td>71.0</td>\n",
              "      <td>aquatics</td>\n",
              "      <td>0</td>\n",
              "      <td>0</td>\n",
              "      <td>0</td>\n",
              "      <td>19</td>\n",
              "    </tr>\n",
              "    <tr>\n",
              "      <th>11503</th>\n",
              "      <td>SRB</td>\n",
              "      <td>male</td>\n",
              "      <td>1.93</td>\n",
              "      <td>93.0</td>\n",
              "      <td>aquatics</td>\n",
              "      <td>1</td>\n",
              "      <td>0</td>\n",
              "      <td>0</td>\n",
              "      <td>33</td>\n",
              "    </tr>\n",
              "    <tr>\n",
              "      <th>11507</th>\n",
              "      <td>AUS</td>\n",
              "      <td>female</td>\n",
              "      <td>1.70</td>\n",
              "      <td>70.0</td>\n",
              "      <td>aquatics</td>\n",
              "      <td>0</td>\n",
              "      <td>0</td>\n",
              "      <td>0</td>\n",
              "      <td>25</td>\n",
              "    </tr>\n",
              "    <tr>\n",
              "      <th>11512</th>\n",
              "      <td>ISR</td>\n",
              "      <td>female</td>\n",
              "      <td>1.78</td>\n",
              "      <td>61.0</td>\n",
              "      <td>aquatics</td>\n",
              "      <td>0</td>\n",
              "      <td>0</td>\n",
              "      <td>0</td>\n",
              "      <td>19</td>\n",
              "    </tr>\n",
              "    <tr>\n",
              "      <th>11530</th>\n",
              "      <td>HUN</td>\n",
              "      <td>female</td>\n",
              "      <td>1.85</td>\n",
              "      <td>70.0</td>\n",
              "      <td>aquatics</td>\n",
              "      <td>0</td>\n",
              "      <td>0</td>\n",
              "      <td>0</td>\n",
              "      <td>27</td>\n",
              "    </tr>\n",
              "  </tbody>\n",
              "</table>\n",
              "<p>1396 rows × 9 columns</p>\n",
              "</div>"
            ],
            "text/plain": [
              "      nationality     sex  height  weight     sport  gold  silver  bronze  age\n",
              "7             AUS    male    1.93   100.0  aquatics     0       0       0   24\n",
              "14            USA  female    1.78    68.0  aquatics     1       1       0   19\n",
              "26            SUD    male    1.81    72.0  aquatics     0       0       0   21\n",
              "45            SEN    male    1.90    90.0  aquatics     0       0       0   27\n",
              "64            USA  female    1.66    61.0  aquatics     0       0       0   26\n",
              "...           ...     ...     ...     ...       ...   ...     ...     ...  ...\n",
              "11500         ISR    male    1.85    71.0  aquatics     0       0       0   19\n",
              "11503         SRB    male    1.93    93.0  aquatics     1       0       0   33\n",
              "11507         AUS  female    1.70    70.0  aquatics     0       0       0   25\n",
              "11512         ISR  female    1.78    61.0  aquatics     0       0       0   19\n",
              "11530         HUN  female    1.85    70.0  aquatics     0       0       0   27\n",
              "\n",
              "[1396 rows x 9 columns]"
            ]
          },
          "metadata": {
            "tags": []
          },
          "execution_count": 60
        }
      ]
    },
    {
      "cell_type": "code",
      "metadata": {
        "id": "P8z_it-sQhuK",
        "colab": {
          "base_uri": "https://localhost:8080/",
          "height": 519
        },
        "outputId": "56694f4b-6c5a-4fdd-886f-82081937f154"
      },
      "source": [
        "novo_df['total'] = sum_medals(novo_df)\n",
        "novo_df"
      ],
      "execution_count": null,
      "outputs": [
        {
          "output_type": "stream",
          "text": [
            "/usr/local/lib/python3.6/dist-packages/ipykernel_launcher.py:1: SettingWithCopyWarning: \n",
            "A value is trying to be set on a copy of a slice from a DataFrame.\n",
            "Try using .loc[row_indexer,col_indexer] = value instead\n",
            "\n",
            "See the caveats in the documentation: https://pandas.pydata.org/pandas-docs/stable/user_guide/indexing.html#returning-a-view-versus-a-copy\n",
            "  \"\"\"Entry point for launching an IPython kernel.\n"
          ],
          "name": "stderr"
        },
        {
          "output_type": "execute_result",
          "data": {
            "text/html": [
              "<div>\n",
              "<style scoped>\n",
              "    .dataframe tbody tr th:only-of-type {\n",
              "        vertical-align: middle;\n",
              "    }\n",
              "\n",
              "    .dataframe tbody tr th {\n",
              "        vertical-align: top;\n",
              "    }\n",
              "\n",
              "    .dataframe thead th {\n",
              "        text-align: right;\n",
              "    }\n",
              "</style>\n",
              "<table border=\"1\" class=\"dataframe\">\n",
              "  <thead>\n",
              "    <tr style=\"text-align: right;\">\n",
              "      <th></th>\n",
              "      <th>nationality</th>\n",
              "      <th>sex</th>\n",
              "      <th>height</th>\n",
              "      <th>weight</th>\n",
              "      <th>sport</th>\n",
              "      <th>gold</th>\n",
              "      <th>silver</th>\n",
              "      <th>bronze</th>\n",
              "      <th>age</th>\n",
              "      <th>total</th>\n",
              "    </tr>\n",
              "  </thead>\n",
              "  <tbody>\n",
              "    <tr>\n",
              "      <th>7</th>\n",
              "      <td>AUS</td>\n",
              "      <td>male</td>\n",
              "      <td>1.93</td>\n",
              "      <td>100.0</td>\n",
              "      <td>aquatics</td>\n",
              "      <td>0</td>\n",
              "      <td>0</td>\n",
              "      <td>0</td>\n",
              "      <td>24</td>\n",
              "      <td>0</td>\n",
              "    </tr>\n",
              "    <tr>\n",
              "      <th>14</th>\n",
              "      <td>USA</td>\n",
              "      <td>female</td>\n",
              "      <td>1.78</td>\n",
              "      <td>68.0</td>\n",
              "      <td>aquatics</td>\n",
              "      <td>1</td>\n",
              "      <td>1</td>\n",
              "      <td>0</td>\n",
              "      <td>19</td>\n",
              "      <td>2</td>\n",
              "    </tr>\n",
              "    <tr>\n",
              "      <th>26</th>\n",
              "      <td>SUD</td>\n",
              "      <td>male</td>\n",
              "      <td>1.81</td>\n",
              "      <td>72.0</td>\n",
              "      <td>aquatics</td>\n",
              "      <td>0</td>\n",
              "      <td>0</td>\n",
              "      <td>0</td>\n",
              "      <td>21</td>\n",
              "      <td>0</td>\n",
              "    </tr>\n",
              "    <tr>\n",
              "      <th>45</th>\n",
              "      <td>SEN</td>\n",
              "      <td>male</td>\n",
              "      <td>1.90</td>\n",
              "      <td>90.0</td>\n",
              "      <td>aquatics</td>\n",
              "      <td>0</td>\n",
              "      <td>0</td>\n",
              "      <td>0</td>\n",
              "      <td>27</td>\n",
              "      <td>0</td>\n",
              "    </tr>\n",
              "    <tr>\n",
              "      <th>64</th>\n",
              "      <td>USA</td>\n",
              "      <td>female</td>\n",
              "      <td>1.66</td>\n",
              "      <td>61.0</td>\n",
              "      <td>aquatics</td>\n",
              "      <td>0</td>\n",
              "      <td>0</td>\n",
              "      <td>0</td>\n",
              "      <td>26</td>\n",
              "      <td>0</td>\n",
              "    </tr>\n",
              "    <tr>\n",
              "      <th>...</th>\n",
              "      <td>...</td>\n",
              "      <td>...</td>\n",
              "      <td>...</td>\n",
              "      <td>...</td>\n",
              "      <td>...</td>\n",
              "      <td>...</td>\n",
              "      <td>...</td>\n",
              "      <td>...</td>\n",
              "      <td>...</td>\n",
              "      <td>...</td>\n",
              "    </tr>\n",
              "    <tr>\n",
              "      <th>11500</th>\n",
              "      <td>ISR</td>\n",
              "      <td>male</td>\n",
              "      <td>1.85</td>\n",
              "      <td>71.0</td>\n",
              "      <td>aquatics</td>\n",
              "      <td>0</td>\n",
              "      <td>0</td>\n",
              "      <td>0</td>\n",
              "      <td>19</td>\n",
              "      <td>0</td>\n",
              "    </tr>\n",
              "    <tr>\n",
              "      <th>11503</th>\n",
              "      <td>SRB</td>\n",
              "      <td>male</td>\n",
              "      <td>1.93</td>\n",
              "      <td>93.0</td>\n",
              "      <td>aquatics</td>\n",
              "      <td>1</td>\n",
              "      <td>0</td>\n",
              "      <td>0</td>\n",
              "      <td>33</td>\n",
              "      <td>1</td>\n",
              "    </tr>\n",
              "    <tr>\n",
              "      <th>11507</th>\n",
              "      <td>AUS</td>\n",
              "      <td>female</td>\n",
              "      <td>1.70</td>\n",
              "      <td>70.0</td>\n",
              "      <td>aquatics</td>\n",
              "      <td>0</td>\n",
              "      <td>0</td>\n",
              "      <td>0</td>\n",
              "      <td>25</td>\n",
              "      <td>0</td>\n",
              "    </tr>\n",
              "    <tr>\n",
              "      <th>11512</th>\n",
              "      <td>ISR</td>\n",
              "      <td>female</td>\n",
              "      <td>1.78</td>\n",
              "      <td>61.0</td>\n",
              "      <td>aquatics</td>\n",
              "      <td>0</td>\n",
              "      <td>0</td>\n",
              "      <td>0</td>\n",
              "      <td>19</td>\n",
              "      <td>0</td>\n",
              "    </tr>\n",
              "    <tr>\n",
              "      <th>11530</th>\n",
              "      <td>HUN</td>\n",
              "      <td>female</td>\n",
              "      <td>1.85</td>\n",
              "      <td>70.0</td>\n",
              "      <td>aquatics</td>\n",
              "      <td>0</td>\n",
              "      <td>0</td>\n",
              "      <td>0</td>\n",
              "      <td>27</td>\n",
              "      <td>0</td>\n",
              "    </tr>\n",
              "  </tbody>\n",
              "</table>\n",
              "<p>1396 rows × 10 columns</p>\n",
              "</div>"
            ],
            "text/plain": [
              "      nationality     sex  height  weight  ... silver  bronze  age  total\n",
              "7             AUS    male    1.93   100.0  ...      0       0   24      0\n",
              "14            USA  female    1.78    68.0  ...      1       0   19      2\n",
              "26            SUD    male    1.81    72.0  ...      0       0   21      0\n",
              "45            SEN    male    1.90    90.0  ...      0       0   27      0\n",
              "64            USA  female    1.66    61.0  ...      0       0   26      0\n",
              "...           ...     ...     ...     ...  ...    ...     ...  ...    ...\n",
              "11500         ISR    male    1.85    71.0  ...      0       0   19      0\n",
              "11503         SRB    male    1.93    93.0  ...      0       0   33      1\n",
              "11507         AUS  female    1.70    70.0  ...      0       0   25      0\n",
              "11512         ISR  female    1.78    61.0  ...      0       0   19      0\n",
              "11530         HUN  female    1.85    70.0  ...      0       0   27      0\n",
              "\n",
              "[1396 rows x 10 columns]"
            ]
          },
          "metadata": {
            "tags": []
          },
          "execution_count": 61
        }
      ]
    },
    {
      "cell_type": "code",
      "metadata": {
        "id": "H2G-NgZeQu89",
        "colab": {
          "base_uri": "https://localhost:8080/"
        },
        "outputId": "72e9144f-8f7a-4fc7-f006-97e0bf6854ab"
      },
      "source": [
        "novo_df['total'][novo_df.total > 0].groupby(novo_df.sex).sum()"
      ],
      "execution_count": null,
      "outputs": [
        {
          "output_type": "execute_result",
          "data": {
            "text/plain": [
              "sex\n",
              "female    185\n",
              "male      150\n",
              "Name: total, dtype: int64"
            ]
          },
          "metadata": {
            "tags": []
          },
          "execution_count": 62
        }
      ]
    },
    {
      "cell_type": "code",
      "metadata": {
        "id": "VbfwD5jOR9yH",
        "colab": {
          "base_uri": "https://localhost:8080/",
          "height": 141
        },
        "outputId": "1b2e8b98-be75-418d-d067-d630afebb28f"
      },
      "source": [
        "tab_contigencia = pd.crosstab(novo_df.sex,novo_df.total)\n",
        "tab_contigencia"
      ],
      "execution_count": null,
      "outputs": [
        {
          "output_type": "execute_result",
          "data": {
            "text/html": [
              "<div>\n",
              "<style scoped>\n",
              "    .dataframe tbody tr th:only-of-type {\n",
              "        vertical-align: middle;\n",
              "    }\n",
              "\n",
              "    .dataframe tbody tr th {\n",
              "        vertical-align: top;\n",
              "    }\n",
              "\n",
              "    .dataframe thead th {\n",
              "        text-align: right;\n",
              "    }\n",
              "</style>\n",
              "<table border=\"1\" class=\"dataframe\">\n",
              "  <thead>\n",
              "    <tr style=\"text-align: right;\">\n",
              "      <th>total</th>\n",
              "      <th>0</th>\n",
              "      <th>1</th>\n",
              "      <th>2</th>\n",
              "      <th>3</th>\n",
              "      <th>4</th>\n",
              "      <th>5</th>\n",
              "      <th>6</th>\n",
              "    </tr>\n",
              "    <tr>\n",
              "      <th>sex</th>\n",
              "      <th></th>\n",
              "      <th></th>\n",
              "      <th></th>\n",
              "      <th></th>\n",
              "      <th></th>\n",
              "      <th></th>\n",
              "      <th></th>\n",
              "    </tr>\n",
              "  </thead>\n",
              "  <tbody>\n",
              "    <tr>\n",
              "      <th>female</th>\n",
              "      <td>556</td>\n",
              "      <td>108</td>\n",
              "      <td>23</td>\n",
              "      <td>2</td>\n",
              "      <td>5</td>\n",
              "      <td>1</td>\n",
              "      <td>0</td>\n",
              "    </tr>\n",
              "    <tr>\n",
              "      <th>male</th>\n",
              "      <td>583</td>\n",
              "      <td>95</td>\n",
              "      <td>18</td>\n",
              "      <td>3</td>\n",
              "      <td>1</td>\n",
              "      <td>0</td>\n",
              "      <td>1</td>\n",
              "    </tr>\n",
              "  </tbody>\n",
              "</table>\n",
              "</div>"
            ],
            "text/plain": [
              "total     0    1   2  3  4  5  6\n",
              "sex                             \n",
              "female  556  108  23  2  5  1  0\n",
              "male    583   95  18  3  1  0  1"
            ]
          },
          "metadata": {
            "tags": []
          },
          "execution_count": 63
        }
      ]
    },
    {
      "cell_type": "code",
      "metadata": {
        "id": "vY0P8sqPSUyC",
        "colab": {
          "base_uri": "https://localhost:8080/"
        },
        "outputId": "4cf2b67c-0e31-4fd5-8dda-76e6ca7da46d"
      },
      "source": [
        "qui, p, gl, esperado = chi2_contingency(tab_contigencia,correction=False)\n",
        "print(\"Valores esperados\")\n",
        "print(esperado)\n",
        "print('qui=%.3f, p=%.3f' % (qui, p))\n",
        "if p > 0.05:\n",
        "\tprint('Conclusão: as variáveis são independentes')\n",
        "else:\n",
        "\tprint('Conclusão: as variáveis são dependentes')"
      ],
      "execution_count": null,
      "outputs": [
        {
          "output_type": "stream",
          "text": [
            "Valores esperados\n",
            "[[5.67052292e+02 1.01063754e+02 2.04118911e+01 2.48925501e+00\n",
            "  2.98710602e+00 4.97851003e-01 4.97851003e-01]\n",
            " [5.71947708e+02 1.01936246e+02 2.05881089e+01 2.51074499e+00\n",
            "  3.01289398e+00 5.02148997e-01 5.02148997e-01]]\n",
            "qui=6.923, p=0.328\n",
            "Conclusão: as variáveis são independentes\n"
          ],
          "name": "stdout"
        }
      ]
    },
    {
      "cell_type": "markdown",
      "metadata": {
        "id": "y6HKtj_ZUhF2"
      },
      "source": [
        "Consideramos apenas o esporte aquático em relação ao gênero."
      ]
    },
    {
      "cell_type": "markdown",
      "metadata": {
        "id": "erRBCmQ2qCWE"
      },
      "source": [
        "##Perform a crossover of two categorical fields and answer whether there is a statistical difference at the 5% significance level"
      ]
    },
    {
      "cell_type": "code",
      "metadata": {
        "id": "JzrwI0FXTkG7",
        "colab": {
          "base_uri": "https://localhost:8080/",
          "height": 415
        },
        "outputId": "be93fa78-280a-4462-9ecd-418bed6ccfde"
      },
      "source": [
        "df_copy['total'] = sum_medals(df_copy)\n",
        "df_copy"
      ],
      "execution_count": null,
      "outputs": [
        {
          "output_type": "execute_result",
          "data": {
            "text/html": [
              "<div>\n",
              "<style scoped>\n",
              "    .dataframe tbody tr th:only-of-type {\n",
              "        vertical-align: middle;\n",
              "    }\n",
              "\n",
              "    .dataframe tbody tr th {\n",
              "        vertical-align: top;\n",
              "    }\n",
              "\n",
              "    .dataframe thead th {\n",
              "        text-align: right;\n",
              "    }\n",
              "</style>\n",
              "<table border=\"1\" class=\"dataframe\">\n",
              "  <thead>\n",
              "    <tr style=\"text-align: right;\">\n",
              "      <th></th>\n",
              "      <th>nationality</th>\n",
              "      <th>sex</th>\n",
              "      <th>height</th>\n",
              "      <th>weight</th>\n",
              "      <th>sport</th>\n",
              "      <th>gold</th>\n",
              "      <th>silver</th>\n",
              "      <th>bronze</th>\n",
              "      <th>age</th>\n",
              "      <th>total</th>\n",
              "    </tr>\n",
              "  </thead>\n",
              "  <tbody>\n",
              "    <tr>\n",
              "      <th>0</th>\n",
              "      <td>ESP</td>\n",
              "      <td>male</td>\n",
              "      <td>1.72</td>\n",
              "      <td>64.0</td>\n",
              "      <td>athletics</td>\n",
              "      <td>0</td>\n",
              "      <td>0</td>\n",
              "      <td>0</td>\n",
              "      <td>46</td>\n",
              "      <td>0</td>\n",
              "    </tr>\n",
              "    <tr>\n",
              "      <th>1</th>\n",
              "      <td>KOR</td>\n",
              "      <td>female</td>\n",
              "      <td>1.68</td>\n",
              "      <td>56.0</td>\n",
              "      <td>fencing</td>\n",
              "      <td>0</td>\n",
              "      <td>0</td>\n",
              "      <td>0</td>\n",
              "      <td>29</td>\n",
              "      <td>0</td>\n",
              "    </tr>\n",
              "    <tr>\n",
              "      <th>2</th>\n",
              "      <td>CAN</td>\n",
              "      <td>male</td>\n",
              "      <td>1.98</td>\n",
              "      <td>79.0</td>\n",
              "      <td>athletics</td>\n",
              "      <td>0</td>\n",
              "      <td>0</td>\n",
              "      <td>1</td>\n",
              "      <td>24</td>\n",
              "      <td>1</td>\n",
              "    </tr>\n",
              "    <tr>\n",
              "      <th>3</th>\n",
              "      <td>MDA</td>\n",
              "      <td>male</td>\n",
              "      <td>1.83</td>\n",
              "      <td>80.0</td>\n",
              "      <td>taekwondo</td>\n",
              "      <td>0</td>\n",
              "      <td>0</td>\n",
              "      <td>0</td>\n",
              "      <td>25</td>\n",
              "      <td>0</td>\n",
              "    </tr>\n",
              "    <tr>\n",
              "      <th>4</th>\n",
              "      <td>NZL</td>\n",
              "      <td>male</td>\n",
              "      <td>1.81</td>\n",
              "      <td>71.0</td>\n",
              "      <td>cycling</td>\n",
              "      <td>0</td>\n",
              "      <td>0</td>\n",
              "      <td>0</td>\n",
              "      <td>25</td>\n",
              "      <td>0</td>\n",
              "    </tr>\n",
              "    <tr>\n",
              "      <th>...</th>\n",
              "      <td>...</td>\n",
              "      <td>...</td>\n",
              "      <td>...</td>\n",
              "      <td>...</td>\n",
              "      <td>...</td>\n",
              "      <td>...</td>\n",
              "      <td>...</td>\n",
              "      <td>...</td>\n",
              "      <td>...</td>\n",
              "      <td>...</td>\n",
              "    </tr>\n",
              "    <tr>\n",
              "      <th>11533</th>\n",
              "      <td>CUB</td>\n",
              "      <td>female</td>\n",
              "      <td>1.64</td>\n",
              "      <td>58.0</td>\n",
              "      <td>athletics</td>\n",
              "      <td>0</td>\n",
              "      <td>0</td>\n",
              "      <td>0</td>\n",
              "      <td>20</td>\n",
              "      <td>0</td>\n",
              "    </tr>\n",
              "    <tr>\n",
              "      <th>11534</th>\n",
              "      <td>CZE</td>\n",
              "      <td>female</td>\n",
              "      <td>1.73</td>\n",
              "      <td>63.0</td>\n",
              "      <td>athletics</td>\n",
              "      <td>0</td>\n",
              "      <td>0</td>\n",
              "      <td>0</td>\n",
              "      <td>29</td>\n",
              "      <td>0</td>\n",
              "    </tr>\n",
              "    <tr>\n",
              "      <th>11535</th>\n",
              "      <td>CHN</td>\n",
              "      <td>male</td>\n",
              "      <td>1.85</td>\n",
              "      <td>100.0</td>\n",
              "      <td>wrestling</td>\n",
              "      <td>0</td>\n",
              "      <td>0</td>\n",
              "      <td>0</td>\n",
              "      <td>25</td>\n",
              "      <td>0</td>\n",
              "    </tr>\n",
              "    <tr>\n",
              "      <th>11536</th>\n",
              "      <td>VIE</td>\n",
              "      <td>male</td>\n",
              "      <td>1.60</td>\n",
              "      <td>56.0</td>\n",
              "      <td>weightlifting</td>\n",
              "      <td>0</td>\n",
              "      <td>0</td>\n",
              "      <td>0</td>\n",
              "      <td>27</td>\n",
              "      <td>0</td>\n",
              "    </tr>\n",
              "    <tr>\n",
              "      <th>11537</th>\n",
              "      <td>RSA</td>\n",
              "      <td>male</td>\n",
              "      <td>1.85</td>\n",
              "      <td>70.0</td>\n",
              "      <td>athletics</td>\n",
              "      <td>0</td>\n",
              "      <td>0</td>\n",
              "      <td>0</td>\n",
              "      <td>24</td>\n",
              "      <td>0</td>\n",
              "    </tr>\n",
              "  </tbody>\n",
              "</table>\n",
              "<p>10858 rows × 10 columns</p>\n",
              "</div>"
            ],
            "text/plain": [
              "      nationality     sex  height  weight  ... silver  bronze  age  total\n",
              "0             ESP    male    1.72    64.0  ...      0       0   46      0\n",
              "1             KOR  female    1.68    56.0  ...      0       0   29      0\n",
              "2             CAN    male    1.98    79.0  ...      0       1   24      1\n",
              "3             MDA    male    1.83    80.0  ...      0       0   25      0\n",
              "4             NZL    male    1.81    71.0  ...      0       0   25      0\n",
              "...           ...     ...     ...     ...  ...    ...     ...  ...    ...\n",
              "11533         CUB  female    1.64    58.0  ...      0       0   20      0\n",
              "11534         CZE  female    1.73    63.0  ...      0       0   29      0\n",
              "11535         CHN    male    1.85   100.0  ...      0       0   25      0\n",
              "11536         VIE    male    1.60    56.0  ...      0       0   27      0\n",
              "11537         RSA    male    1.85    70.0  ...      0       0   24      0\n",
              "\n",
              "[10858 rows x 10 columns]"
            ]
          },
          "metadata": {
            "tags": []
          },
          "execution_count": 65
        }
      ]
    },
    {
      "cell_type": "code",
      "metadata": {
        "id": "U1BpvRNLp8EM",
        "colab": {
          "base_uri": "https://localhost:8080/"
        },
        "outputId": "d8d6c991-774b-47f3-921d-c0701380cd1d"
      },
      "source": [
        "bd_female = df_copy.loc[df_copy.sex == \"female\"]\n",
        "bd_male = df_copy.loc[df_copy.sex == \"male\"]\n",
        "print(bd_female.shape)\n",
        "print(bd_male.shape)"
      ],
      "execution_count": null,
      "outputs": [
        {
          "output_type": "stream",
          "text": [
            "(4996, 10)\n",
            "(5862, 10)\n"
          ],
          "name": "stdout"
        }
      ]
    },
    {
      "cell_type": "code",
      "metadata": {
        "id": "zkeSgxIxTJ78",
        "colab": {
          "base_uri": "https://localhost:8080/"
        },
        "outputId": "9ad966ca-1a62-4f26-a110-6830ba2af719"
      },
      "source": [
        "alfa=0.05\n",
        "média = np.mean(bd_female.total)\n",
        "dp = np.std(bd_female.total)\n",
        "print(\"Média feminina =\",round(média,2))\n",
        "print(\"Desvio-padrão feminina =\",round(dp,2))\n",
        "média = np.mean(bd_male.total)\n",
        "dp = np.std(bd_male.total)\n",
        "print(\"Média masculina =\",round(média,2))\n",
        "print(\"Desvio-padrão masculina =\",round(dp,2))\n",
        "t,p = ttest_ind(bd_female.total,bd_male.total)\n",
        "print('t= %0.3f, p= %0.3f' % (t, p))\n",
        "if p > alfa:\n",
        "   print (\"Conclusão: aceita-se Ho, ou seja, as médias são estatisticamentes iguais ao nível de significância\")\n",
        "else:\n",
        "   print (\"Conclusão: rejeita-se Ho, ou seja, as médias são estatisticamentes diferentes ao nível de significância\")"
      ],
      "execution_count": null,
      "outputs": [
        {
          "output_type": "stream",
          "text": [
            "Média feminina = 0.19\n",
            "Desvio-padrão feminina = 0.45\n",
            "Média masculina = 0.17\n",
            "Desvio-padrão masculina = 0.42\n",
            "t= 2.298, p= 0.022\n",
            "Conclusão: rejeita-se Ho, ou seja, as médias são estatisticamentes diferentes ao nível de significância\n"
          ],
          "name": "stdout"
        }
      ]
    },
    {
      "cell_type": "markdown",
      "metadata": {
        "id": "DP_7wtGFUpUy"
      },
      "source": [
        "We consider all sports in relation to gender."
      ]
    }
  ]
}