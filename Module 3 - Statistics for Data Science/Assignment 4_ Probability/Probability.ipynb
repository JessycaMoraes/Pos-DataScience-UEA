{
  "nbformat": 4,
  "nbformat_minor": 0,
  "metadata": {
    "colab": {
      "provenance": []
    },
    "kernelspec": {
      "name": "python3",
      "display_name": "Python 3"
    }
  },
  "cells": [
    {
      "cell_type": "code",
      "metadata": {
        "id": "3TpWWhO4c4aB"
      },
      "source": [
        "from scipy.stats import binom, nbinom, poisson, uniform\n",
        "import numpy as np\n",
        "import matplotlib.pyplot as plt\n",
        "import seaborn as sns\n",
        "import statistics as st"
      ],
      "execution_count": null,
      "outputs": []
    },
    {
      "cell_type": "markdown",
      "metadata": {
        "id": "yFYk0FVkszBp"
      },
      "source": [
        "<img src=\"https://lh4.googleusercontent.com/h_A1oEVuAvXnb_tTiT5bGbwcsNZFm_T1374kuTSsTUjgV0k7z_tNd2MkKFgtWAHsT1vnc4MFzetMUTjY4Ll9Vj7615QuJg40ZwExJZdqwtq93t1ZxGPy-fPh5LGDhQ=w574\">"
      ]
    },
    {
      "cell_type": "code",
      "metadata": {
        "id": "qf-GwrEceqy7",
        "colab": {
          "base_uri": "https://localhost:8080/"
        },
        "outputId": "fdc39ce3-3fcd-4c02-fd99-a5fc1cdd25ca"
      },
      "source": [
        "# Matrix construction\n",
        "matriz = [\n",
        "    [26,28,54],\n",
        "    [18,15,33],\n",
        "    [9,11,20],\n",
        "    [10,10],\n",
        "    [2,6,8],\n",
        "    [55,70,125]\n",
        "]\n",
        "print(matriz)"
      ],
      "execution_count": null,
      "outputs": [
        {
          "output_type": "stream",
          "text": [
            "[[26, 28, 54], [18, 15, 33], [9, 11, 20], [10, 10], [2, 6, 8], [55, 70, 125]]\n"
          ],
          "name": "stdout"
        }
      ]
    },
    {
      "cell_type": "code",
      "metadata": {
        "id": "i4bOyVD5fDaL",
        "colab": {
          "base_uri": "https://localhost:8080/"
        },
        "outputId": "77c0b3a8-ee3c-4a17-c574-ba20392bbc65"
      },
      "source": [
        "for i in range(0,6):\n",
        "    print(matriz[i])"
      ],
      "execution_count": null,
      "outputs": [
        {
          "output_type": "stream",
          "text": [
            "[26, 28, 54]\n",
            "[18, 15, 33]\n",
            "[9, 11, 20]\n",
            "[10, 10]\n",
            "[2, 6, 8]\n",
            "[55, 70, 125]\n"
          ],
          "name": "stdout"
        }
      ]
    },
    {
      "cell_type": "markdown",
      "metadata": {
        "id": "DCXOwC6ThPh5"
      },
      "source": [
        "###What is the probability of selecting an employee between the ages of 35 and under 55?"
      ]
    },
    {
      "cell_type": "code",
      "metadata": {
        "id": "EV8l7-qLfLZ4",
        "colab": {
          "base_uri": "https://localhost:8080/"
        },
        "outputId": "a80e99b5-8448-4553-a164-2f0180307d59"
      },
      "source": [
        "# Cálculo da probabilidade\n",
        "print(\"P(35->54) =\", ((matriz[2][2] + matriz[3][1]) / matriz[5][2]))"
      ],
      "execution_count": null,
      "outputs": [
        {
          "output_type": "stream",
          "text": [
            "P(35->54) = 0.24\n"
          ],
          "name": "stdout"
        }
      ]
    },
    {
      "cell_type": "markdown",
      "metadata": {
        "id": "yczgk-REhR3H"
      },
      "source": [
        "R = 6/25"
      ]
    },
    {
      "cell_type": "markdown",
      "metadata": {
        "id": "_kTvCiaghXho"
      },
      "source": [
        "###Given that the employee is female, what is the probability she is aged between 25 and 34?"
      ]
    },
    {
      "cell_type": "code",
      "metadata": {
        "id": "f5hyrvSUf7E0",
        "colab": {
          "base_uri": "https://localhost:8080/"
        },
        "outputId": "fccbd1d6-00fb-4d07-e85b-454ed3313d4d"
      },
      "source": [
        "# Cálculo da probabilidade condicional\n",
        "print(\"P(25->34|F) =\", matriz[1][0] / matriz[5][0])"
      ],
      "execution_count": null,
      "outputs": [
        {
          "output_type": "stream",
          "text": [
            "P(25->34|F) = 0.32727272727272727\n"
          ],
          "name": "stdout"
        }
      ]
    },
    {
      "cell_type": "markdown",
      "metadata": {
        "id": "cTjI9fnBjRWt"
      },
      "source": [
        "R = 0,33"
      ]
    },
    {
      "cell_type": "markdown",
      "metadata": {
        "id": "t0kYt2MEjhe4"
      },
      "source": [
        "###What is the probability that the employee is male or aged between 25 and 34?"
      ]
    },
    {
      "cell_type": "code",
      "metadata": {
        "id": "lRKJUVY4jNsD",
        "colab": {
          "base_uri": "https://localhost:8080/"
        },
        "outputId": "f9d9b532-8a9b-4e31-f38f-0d49a84fdd22"
      },
      "source": [
        "# Cálculo da probabilidade\n",
        "print(\"P(M U 25->34) =\", (matriz[5][1] / matriz[5][2]) + (matriz[1][2] / matriz[5][2]) - (matriz[1][1] / matriz[5][2]))"
      ],
      "execution_count": null,
      "outputs": [
        {
          "output_type": "stream",
          "text": [
            "P(M U 25->34) = 0.7040000000000001\n"
          ],
          "name": "stdout"
        }
      ]
    },
    {
      "cell_type": "markdown",
      "metadata": {
        "id": "k6_Q3T3PoOWo"
      },
      "source": [
        "R = 0,70"
      ]
    },
    {
      "cell_type": "markdown",
      "metadata": {
        "id": "qvfhiQCvojk_"
      },
      "source": [
        "###The probability of 3 players scoring a penalty are respectively 2/3, 4/5 and 7/10. If each player takes it only once, what is the probability of everyone missing?"
      ]
    },
    {
      "cell_type": "code",
      "metadata": {
        "id": "LJ_L7_V8olcR",
        "colab": {
          "base_uri": "https://localhost:8080/"
        },
        "outputId": "a41f09d7-e063-49a3-8344-e2be304ff3b4"
      },
      "source": [
        "(1 - 2/3) * (1 - 4/5) * (1 - 7/10)"
      ],
      "execution_count": null,
      "outputs": [
        {
          "output_type": "execute_result",
          "data": {
            "text/plain": [
              "0.020000000000000004"
            ]
          },
          "metadata": {
            "tags": []
          },
          "execution_count": 11
        }
      ]
    },
    {
      "cell_type": "markdown",
      "metadata": {
        "id": "FnfX4bptpydb"
      },
      "source": [
        "R = 1/50"
      ]
    },
    {
      "cell_type": "markdown",
      "metadata": {
        "id": "enfnOwqusR-v"
      },
      "source": [
        "<img src=\"https://lh5.googleusercontent.com/74aerAtCXlPeN-C7OQ1be-iH25-HHZMMymyOgzYkX2oni9I9DZftBEo4AvAstSLxfDcIn-RkbY_E7PyW_tSfzSiPVI59nRtg0BNfZu4E9G6kVXjsDM7Zf7hYONqQ9w=w846\">"
      ]
    },
    {
      "cell_type": "markdown",
      "metadata": {
        "id": "tPADI9MLrGOI"
      },
      "source": [
        "###The probability of each relay closing in the circuit shown above is given by \"p\". If all relays operate independently, what is the probability that there will be current between terminals L and R? (Note: p^2 and p^4 mean p squared and p to the fourth respectively)."
      ]
    },
    {
      "cell_type": "code",
      "metadata": {
        "id": "jqlXpALOpn6Q"
      },
      "source": [
        "#A -> relé 1 e 2 fechados\n",
        "#B -> relé 3 e 4 fechados\n",
        "#P(AUB) = P(A) + P(B) - P(A∩B)\n",
        "#P(A∩B) = P(A) * P(B)\n",
        "#P(AUB) = (p * p) + (p * p) - (p * p * p * p) = p² + p² - p^4 = 2p² - p^4"
      ],
      "execution_count": null,
      "outputs": []
    },
    {
      "cell_type": "markdown",
      "metadata": {
        "id": "JPn5Q_wOu6CU"
      },
      "source": [
        "2$p^{2}$ – $p^{4}$"
      ]
    },
    {
      "cell_type": "markdown",
      "metadata": {
        "id": "3wAvUq6xwC1C"
      },
      "source": [
        "R = 2p^2 – p^4"
      ]
    },
    {
      "cell_type": "markdown",
      "metadata": {
        "id": "fDXtv8cnuzX4"
      },
      "source": [
        "###A local computer network consists of a server and five clients (A, B, C, D and E). Previous records indicate that of the requests for a certain type of procedure, made through a query, approximately 10% come from client A, 15% from B, 15% from C, 40% from D and 20% from E. If the request is not made properly, the processing will present an error. Usually, the following percentages of inappropriate requests occur: 1% from client A, 2% from client B, 0.5% from client C, 2% from client D and 8% from client E. What is the probability that the process was requested by client E, knowing that it presented an error?"
      ]
    },
    {
      "cell_type": "code",
      "metadata": {
        "id": "itRAf4Npu2E_"
      },
      "source": [
        "P_A = 0.10\n",
        "P_B = 0.15\n",
        "P_C = 0.15\n",
        "P_D = 0.40\n",
        "P_E = 0.20"
      ],
      "execution_count": null,
      "outputs": []
    },
    {
      "cell_type": "code",
      "metadata": {
        "id": "jez5K5Rcz3qC"
      },
      "source": [
        "P_Er_A = 0.01\n",
        "P_Er_B = 0.02\n",
        "P_Er_C = 0.005\n",
        "P_Er_D = 0.02\n",
        "P_Er_E = 0.08"
      ],
      "execution_count": null,
      "outputs": []
    },
    {
      "cell_type": "code",
      "metadata": {
        "id": "bdr5Xtgv0ZNx",
        "colab": {
          "base_uri": "https://localhost:8080/"
        },
        "outputId": "eaa2b739-aa1a-472a-e4d6-99dfbf0ed4d5"
      },
      "source": [
        "P_Er = (P_A * P_Er_A) + (P_B * P_Er_B) + (P_C * P_Er_C) + (P_D * P_Er_D) + (P_E * P_Er_E)\n",
        "P_Er"
      ],
      "execution_count": null,
      "outputs": [
        {
          "output_type": "execute_result",
          "data": {
            "text/plain": [
              "0.02875"
            ]
          },
          "metadata": {
            "tags": []
          },
          "execution_count": 22
        }
      ]
    },
    {
      "cell_type": "code",
      "metadata": {
        "id": "cn-x4C191KuT",
        "colab": {
          "base_uri": "https://localhost:8080/"
        },
        "outputId": "8789dc00-7129-4529-d2ea-5786c2499ae7"
      },
      "source": [
        "P_E_Er = (P_E * P_Er_E) / P_Er\n",
        "P_E_Er"
      ],
      "execution_count": null,
      "outputs": [
        {
          "output_type": "execute_result",
          "data": {
            "text/plain": [
              "0.5565217391304348"
            ]
          },
          "metadata": {
            "tags": []
          },
          "execution_count": 23
        }
      ]
    },
    {
      "cell_type": "markdown",
      "metadata": {
        "id": "bODHji_41lko"
      },
      "source": [
        "R = 0,5565"
      ]
    },
    {
      "cell_type": "markdown",
      "metadata": {
        "id": "Mm22k_Bq2JQZ"
      },
      "source": [
        "###Historical data shows that 70% of people who access page p20 also access page p21. What is the probability that, in the next 10 accesses to page p20, the majority will also access page p21."
      ]
    },
    {
      "cell_type": "code",
      "metadata": {
        "id": "2iPx-26a2Kah",
        "colab": {
          "base_uri": "https://localhost:8080/"
        },
        "outputId": "fa059196-41d4-4f06-f53d-c2b872666995"
      },
      "source": [
        "print(\"P(>5):\", 1 - binom.cdf(5,10,0.70))"
      ],
      "execution_count": null,
      "outputs": [
        {
          "output_type": "stream",
          "text": [
            "P(>5): 0.8497316674\n"
          ],
          "name": "stdout"
        }
      ]
    },
    {
      "cell_type": "markdown",
      "metadata": {
        "id": "_Ddv9-3mFzMf"
      },
      "source": [
        "R = 0,8497"
      ]
    },
    {
      "cell_type": "markdown",
      "metadata": {
        "id": "vPUfoiK-43fR"
      },
      "source": [
        "###A batch of notebook computers is received by a firm. Twenty machines are inspected. The batch is rejected if at least 4 are defective. Knowing that 1% of the devices are defective, determine the probability that the firm rejects the entire batch."
      ]
    },
    {
      "cell_type": "code",
      "metadata": {
        "id": "fu6u0JnT44dY",
        "colab": {
          "base_uri": "https://localhost:8080/"
        },
        "outputId": "379288c6-75df-41de-d3e9-43d1154cc570"
      },
      "source": [
        "#At least 4 defective\n",
        "#P(>=4) = 1 - P(x < 4)\n",
        "print(\"P(>=4):\", 1 - binom.cdf(3,20,0.01))"
      ],
      "execution_count": null,
      "outputs": [
        {
          "output_type": "stream",
          "text": [
            "P(>=4): 4.262092764240055e-05\n"
          ],
          "name": "stdout"
        }
      ]
    },
    {
      "cell_type": "code",
      "metadata": {
        "id": "EovAfQQT6OMS",
        "colab": {
          "base_uri": "https://localhost:8080/",
          "height": 35
        },
        "outputId": "8bfcb538-377e-42e7-e9d1-1a6159ad324d"
      },
      "source": [
        " '{:.10f}'.format(4.262092764240055e-05)"
      ],
      "execution_count": null,
      "outputs": [
        {
          "output_type": "execute_result",
          "data": {
            "application/vnd.google.colaboratory.intrinsic+json": {
              "type": "string"
            },
            "text/plain": [
              "'0.0000426209'"
            ]
          },
          "metadata": {
            "tags": []
          },
          "execution_count": 31
        }
      ]
    },
    {
      "cell_type": "markdown",
      "metadata": {
        "id": "DpMTYKuU6_SH"
      },
      "source": [
        "R = 0,00004"
      ]
    },
    {
      "cell_type": "markdown",
      "metadata": {
        "id": "FH8MYADv7apX"
      },
      "source": [
        "###Assuming that queries in a database occur independently and randomly, with an average rate of 3 queries per minute, what is the probability that in the next minute there will be less than 3 queries?"
      ]
    },
    {
      "cell_type": "code",
      "metadata": {
        "id": "aFjAHZme7bxX",
        "colab": {
          "base_uri": "https://localhost:8080/"
        },
        "outputId": "a81d7043-c918-460d-855f-c56cf8839161"
      },
      "source": [
        "print(\"P(x<3):\", poisson.cdf(2,3))"
      ],
      "execution_count": null,
      "outputs": [
        {
          "output_type": "stream",
          "text": [
            "P(x<3): 0.42319008112684364\n"
          ],
          "name": "stdout"
        }
      ]
    },
    {
      "cell_type": "markdown",
      "metadata": {
        "id": "wmRzVij38mCD"
      },
      "source": [
        "R = 0,4232"
      ]
    },
    {
      "cell_type": "markdown",
      "metadata": {
        "id": "TMz1-Xxa80ps"
      },
      "source": [
        "###An analysis of data from recent years from an electric power company provided an average value of one blackout per year. What is the probability of 2 to 4 blackouts occurring in the next year?"
      ]
    },
    {
      "cell_type": "code",
      "metadata": {
        "id": "0ej61MBR9ujR",
        "colab": {
          "base_uri": "https://localhost:8080/"
        },
        "outputId": "ef8824c8-b054-497f-82b4-05605ae4ed47"
      },
      "source": [
        "x_0 = poisson.pmf(0,1)\n",
        "print(\"P(x=0):\", x_0)"
      ],
      "execution_count": null,
      "outputs": [
        {
          "output_type": "stream",
          "text": [
            "P(x=0): 0.36787944117144233\n"
          ],
          "name": "stdout"
        }
      ]
    },
    {
      "cell_type": "code",
      "metadata": {
        "id": "q8E6XyFC9yaY",
        "colab": {
          "base_uri": "https://localhost:8080/"
        },
        "outputId": "b13f04c6-8608-407b-ca04-2bffff8049f3"
      },
      "source": [
        "x_1 = poisson.pmf(1,1)\n",
        "print(\"P(x=1):\", poisson.pmf(1,1))"
      ],
      "execution_count": null,
      "outputs": [
        {
          "output_type": "stream",
          "text": [
            "P(x=1): 0.36787944117144233\n"
          ],
          "name": "stdout"
        }
      ]
    },
    {
      "cell_type": "code",
      "metadata": {
        "id": "r8NtM9mb759J",
        "colab": {
          "base_uri": "https://localhost:8080/"
        },
        "outputId": "efa949ac-751e-4116-d94b-fa79d3bdad00"
      },
      "source": [
        "x_0_4 = poisson.cdf(4,1)\n",
        "print(\"P(x<=4):\", x_0_4)"
      ],
      "execution_count": null,
      "outputs": [
        {
          "output_type": "stream",
          "text": [
            "P(x<=4): 0.9963401531726563\n"
          ],
          "name": "stdout"
        }
      ]
    },
    {
      "cell_type": "code",
      "metadata": {
        "id": "6x4UmQFp95V_",
        "colab": {
          "base_uri": "https://localhost:8080/"
        },
        "outputId": "71afc3f5-4435-4ef5-b4f6-5b48decf7e16"
      },
      "source": [
        "x_0_4 - x_0 - x_1"
      ],
      "execution_count": null,
      "outputs": [
        {
          "output_type": "execute_result",
          "data": {
            "text/plain": [
              "0.26058127082977167"
            ]
          },
          "metadata": {
            "tags": []
          },
          "execution_count": 44
        }
      ]
    },
    {
      "cell_type": "markdown",
      "metadata": {
        "id": "iGMqdAFkAB6Q"
      },
      "source": [
        "R = 0,260"
      ]
    }
  ]
}