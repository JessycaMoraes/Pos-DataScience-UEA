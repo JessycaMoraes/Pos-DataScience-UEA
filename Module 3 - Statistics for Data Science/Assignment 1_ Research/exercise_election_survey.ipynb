{
  "nbformat": 4,
  "nbformat_minor": 0,
  "metadata": {
    "colab": {
      "provenance": []
    },
    "kernelspec": {
      "name": "python3",
      "display_name": "Python 3"
    }
  },
  "cells": [
    {
      "cell_type": "code",
      "metadata": {
        "id": "ra_P8WsiHfdr",
        "colab": {
          "base_uri": "https://localhost:8080/"
        },
        "outputId": "91c03dc2-b5c9-4fac-b65d-e78a636f541f"
      },
      "source": [
        "from scipy.stats import binom, nbinom, poisson, uniform, expon, norm\n",
        "import numpy as np\n",
        "import matplotlib.pyplot as plt\n",
        "import seaborn as sea\n",
        "import statistics as st\n",
        "from scipy import stats\n",
        "# Pacote necessário\n",
        "import statsmodels.stats.proportion as prop"
      ],
      "execution_count": null,
      "outputs": [
        {
          "output_type": "stream",
          "text": [
            "/usr/local/lib/python3.6/dist-packages/statsmodels/tools/_testing.py:19: FutureWarning: pandas.util.testing is deprecated. Use the functions in the public API at pandas.testing instead.\n",
            "  import pandas.util.testing as tm\n"
          ],
          "name": "stderr"
        }
      ]
    },
    {
      "cell_type": "markdown",
      "metadata": {
        "id": "WqvlMsryaiQ3"
      },
      "source": [
        "###Q1 - What is the Confidence Interval for the proportion of intention vote for Arthur and Marcelo?"
      ]
    },
    {
      "cell_type": "code",
      "metadata": {
        "id": "KGyzVllskIgQ",
        "colab": {
          "base_uri": "https://localhost:8080/"
        },
        "outputId": "cb58a12c-c343-4ec2-e423-4f7e5b7eb5a6"
      },
      "source": [
        "#IC\n",
        "#Arthur\n",
        "inf, sup = prop.proportion_confint(485, 1000, alpha=0.05, method='normal')\n",
        "print ('Limite inferior:', round(inf,3))\n",
        "print ('Limite superior:', round(sup,3))"
      ],
      "execution_count": null,
      "outputs": [
        {
          "output_type": "stream",
          "text": [
            "Limite inferior: 0.454\n",
            "Limite superior: 0.516\n"
          ],
          "name": "stdout"
        }
      ]
    },
    {
      "cell_type": "markdown",
      "metadata": {
        "id": "3kuzdkCCY-It"
      },
      "source": [
        "45,4% - 51,6%"
      ]
    },
    {
      "cell_type": "code",
      "metadata": {
        "id": "-PEJNbQuJVwB",
        "colab": {
          "base_uri": "https://localhost:8080/"
        },
        "outputId": "b40211ec-6306-4cc0-e0fa-edc8bbef5287"
      },
      "source": [
        "#IC\n",
        "#Marcelo\n",
        "inf, sup = prop.proportion_confint(515, 1000, alpha=0.05, method='normal')\n",
        "print ('Limite inferior:', round(inf,3))\n",
        "print ('Limite superior:', round(sup,3))"
      ],
      "execution_count": null,
      "outputs": [
        {
          "output_type": "stream",
          "text": [
            "Limite inferior: 0.484\n",
            "Limite superior: 0.546\n"
          ],
          "name": "stdout"
        }
      ]
    },
    {
      "cell_type": "markdown",
      "metadata": {
        "id": "aRYsK3YWZKvs"
      },
      "source": [
        "48,4% - 54,6%"
      ]
    },
    {
      "cell_type": "markdown",
      "metadata": {
        "id": "OdgvyELEby8J"
      },
      "source": [
        "###Q2 - What is the margin of error for the proportion of each candidate?"
      ]
    },
    {
      "cell_type": "code",
      "metadata": {
        "id": "99aHxZXBbDAF"
      },
      "source": [
        "import math"
      ],
      "execution_count": null,
      "outputs": []
    },
    {
      "cell_type": "code",
      "metadata": {
        "id": "cyfPk8bVZJHG",
        "colab": {
          "base_uri": "https://localhost:8080/"
        },
        "outputId": "8675033b-02c0-47bd-8103-6bdda6ed280a"
      },
      "source": [
        "e = norm.ppf(0.975) * math.sqrt((0.485 * 0.515)/1000)\n",
        "e"
      ],
      "execution_count": null,
      "outputs": [
        {
          "output_type": "execute_result",
          "data": {
            "text/plain": [
              "0.03097580308787611"
            ]
          },
          "metadata": {
            "tags": []
          },
          "execution_count": 10
        }
      ]
    },
    {
      "cell_type": "markdown",
      "metadata": {
        "id": "GjRJkIOmbiL_"
      },
      "source": [
        "Margin of error = 3,09%"
      ]
    },
    {
      "cell_type": "markdown",
      "metadata": {
        "id": "O2k8K3aSakgJ"
      },
      "source": [
        "###Q3 - The sample size was sufficient based on the margin of error presented to the TSE?"
      ]
    },
    {
      "cell_type": "code",
      "metadata": {
        "id": "IUUEh4jJZY3e",
        "colab": {
          "base_uri": "https://localhost:8080/"
        },
        "outputId": "ccd984da-581d-484e-b608-5e08fbe32451"
      },
      "source": [
        "# Tamanho da amostra:\n",
        "n = (norm.ppf(0.975)**2)*0.485*0.515/(0.025**2)\n",
        "round(n)"
      ],
      "execution_count": null,
      "outputs": [
        {
          "output_type": "execute_result",
          "data": {
            "text/plain": [
              "1535.0"
            ]
          },
          "metadata": {
            "tags": []
          },
          "execution_count": 4
        }
      ]
    },
    {
      "cell_type": "markdown",
      "metadata": {
        "id": "tB3nIhW0aoA3"
      },
      "source": [
        "It wasn't enough."
      ]
    }
  ]
}
